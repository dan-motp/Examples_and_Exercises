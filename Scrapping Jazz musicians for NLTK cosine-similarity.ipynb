{
 "cells": [
  {
   "cell_type": "code",
   "execution_count": 1,
   "metadata": {
    "colab": {},
    "colab_type": "code",
    "id": "s9X4NhJ_Q-9X"
   },
   "outputs": [],
   "source": [
    "from bs4 import BeautifulSoup\n",
    "import requests"
   ]
  },
  {
   "cell_type": "code",
   "execution_count": 2,
   "metadata": {
    "colab": {},
    "colab_type": "code",
    "id": "DkIEQkC3RfpT"
   },
   "outputs": [],
   "source": [
    "jazz_musicians = ['Charlie_Parker',\n",
    "                  'Dizzy_Gillespie',\n",
    "                  'Art_Tatum',\n",
    "                  'Clark_Terry',\n",
    "                  'Dave_Brubeck',\n",
    "                  'Thelonious_Monk',\n",
    "                  'Charles_Mingus',\n",
    "                  'Benny_Goodman',\n",
    "                  'Count_Basie',\n",
    "                  'John_Coltrane',\n",
    "                  'Miles_Davis',\n",
    "                  'Sun_Ra',\n",
    "                  'Nina_Simone',\n",
    "                  'Fats_Waller',\n",
    "                  'Duke_Ellington',\n",
    "                  'Louis_Armstrong']\n",
    "documents = {}\n",
    "for musician in jazz_musicians:\n",
    "    r = requests.get('https://en.wikipedia.org/wiki/' + musician)\n",
    "    soup = BeautifulSoup(r.content)\n",
    "    main_div = soup.find('div', attrs={'class':'mw-parser-output'})\n",
    "    paragraphs = main_div.find_all('p')\n",
    "    paragraphs = [p.get_text() for p in paragraphs]\n",
    "    documents[musician] = ''.join(paragraphs)"
   ]
  },
  {
   "cell_type": "code",
   "execution_count": 3,
   "metadata": {
    "colab": {
     "base_uri": "https://localhost:8080/",
     "height": 51
    },
    "colab_type": "code",
    "id": "Ce3FJHLxYdrB",
    "outputId": "f0eb864c-d308-4a5d-a62e-6e1845d0b687",
    "scrolled": true
   },
   "outputs": [
    {
     "name": "stdout",
     "output_type": "stream",
     "text": [
      "\n",
      "Eunice Kathleen Waymon (February 21, 1933 – April 21, 2003), known professionally as Nina Simone, was an American singer, songwriter, musician, arranger, and civil rights activist. Her music spanned \n"
     ]
    }
   ],
   "source": [
    "nina = documents['Nina_Simone'][0:200]\n",
    "print(nina)"
   ]
  },
  {
   "cell_type": "code",
   "execution_count": 4,
   "metadata": {
    "colab": {},
    "colab_type": "code",
    "id": "q0ajJ3tGZ0YR"
   },
   "outputs": [],
   "source": [
    "import nltk\n",
    "from nltk.corpus import stopwords\n",
    "from nltk.tokenize import word_tokenize"
   ]
  },
  {
   "cell_type": "code",
   "execution_count": 5,
   "metadata": {
    "colab": {
     "base_uri": "https://localhost:8080/",
     "height": 102
    },
    "colab_type": "code",
    "id": "fYePniD7abJg",
    "outputId": "963a1cf1-e0ce-40eb-e176-8b87d1cc703c"
   },
   "outputs": [
    {
     "name": "stderr",
     "output_type": "stream",
     "text": [
      "[nltk_data] Downloading package punkt to /home/daniel/nltk_data...\n",
      "[nltk_data]   Package punkt is already up-to-date!\n",
      "[nltk_data] Downloading package stopwords to /home/daniel/nltk_data...\n",
      "[nltk_data]   Package stopwords is already up-to-date!\n"
     ]
    },
    {
     "data": {
      "text/plain": [
       "True"
      ]
     },
     "execution_count": 5,
     "metadata": {},
     "output_type": "execute_result"
    }
   ],
   "source": [
    "nltk.download(['punkt', 'stopwords'])"
   ]
  },
  {
   "cell_type": "code",
   "execution_count": 6,
   "metadata": {
    "colab": {
     "base_uri": "https://localhost:8080/",
     "height": 54
    },
    "colab_type": "code",
    "id": "18GL4S5taj_p",
    "outputId": "3031176f-b5bf-4f8b-9ef9-3d491caabcb0"
   },
   "outputs": [
    {
     "name": "stdout",
     "output_type": "stream",
     "text": [
      "['Eunice', 'Kathleen', 'Waymon', '(', 'February', '21', ',', '1933', '–', 'April', '21', ',', '2003', ')', ',', 'known', 'professionally', 'as', 'Nina', 'Simone', ',', 'was', 'an', 'American', 'singer', ',', 'songwriter', ',', 'musician', ',', 'arranger', ',', 'and', 'civil', 'rights', 'activist', '.', 'Her', 'music', 'spanned']\n"
     ]
    }
   ],
   "source": [
    "nina_tokenized = word_tokenize(nina)\n",
    "print(nina_tokenized)"
   ]
  },
  {
   "cell_type": "code",
   "execution_count": 7,
   "metadata": {
    "colab": {
     "base_uri": "https://localhost:8080/",
     "height": 54
    },
    "colab_type": "code",
    "id": "xK56GNTJbAMZ",
    "outputId": "494d09e0-0246-448f-f31e-da883977e3e8"
   },
   "outputs": [
    {
     "name": "stdout",
     "output_type": "stream",
     "text": [
      "['Eunice', 'Kathleen', 'Waymon', '(', 'February', '21', ',', '1933', '–', 'April', '21', ',', '2003', ')', ',', 'known', 'professionally', 'Nina', 'Simone', ',', 'American', 'singer', ',', 'songwriter', ',', 'musician', ',', 'arranger', ',', 'civil', 'rights', 'activist', '.', 'Her', 'music', 'spanned']\n"
     ]
    }
   ],
   "source": [
    "eng_stopwords = set(stopwords.words('english'))\n",
    "nina_wo_stopwords = [t for t in nina_tokenized if t not in eng_stopwords]\n",
    "print(nina_wo_stopwords)"
   ]
  },
  {
   "cell_type": "markdown",
   "metadata": {
    "colab_type": "text",
    "id": "RQTTQE7Xchgj"
   },
   "source": [
    "Removing tokens consisting of only ponctuation."
   ]
  },
  {
   "cell_type": "code",
   "execution_count": 8,
   "metadata": {
    "colab": {
     "base_uri": "https://localhost:8080/",
     "height": 34
    },
    "colab_type": "code",
    "id": "19Io8GetcmCm",
    "outputId": "f5a4275b-685c-44b0-feb6-d7942a3b3f04"
   },
   "outputs": [
    {
     "name": "stdout",
     "output_type": "stream",
     "text": [
      "['Eunice', 'Kathleen', 'Waymon', 'February', '21', '1933', 'April', '21', '2003', 'known', 'professionally', 'Nina', 'Simone', 'American', 'singer', 'songwriter', 'musician', 'arranger', 'civil', 'rights', 'activist', 'Her', 'music', 'spanned']\n"
     ]
    }
   ],
   "source": [
    "punctuation = set('&%$()\"<>.,;:?!-[]{}–')\n",
    "nina_wo_stopwords_and_punct = [t for t in nina_wo_stopwords if t not in punctuation]\n",
    "print(nina_wo_stopwords_and_punct)"
   ]
  },
  {
   "cell_type": "markdown",
   "metadata": {
    "colab_type": "text",
    "id": "VEc4J4ZmdcSD"
   },
   "source": [
    "Also applying Stemming."
   ]
  },
  {
   "cell_type": "code",
   "execution_count": 9,
   "metadata": {
    "colab": {},
    "colab_type": "code",
    "id": "u7XFKVoEdiBa"
   },
   "outputs": [],
   "source": [
    "from nltk.stem import SnowballStemmer"
   ]
  },
  {
   "cell_type": "code",
   "execution_count": 10,
   "metadata": {
    "colab": {
     "base_uri": "https://localhost:8080/",
     "height": 34
    },
    "colab_type": "code",
    "id": "A6h7nONSdyLG",
    "outputId": "66c09238-03d8-4926-8a7c-d98c50ae62bc"
   },
   "outputs": [
    {
     "name": "stdout",
     "output_type": "stream",
     "text": [
      "['eunic', 'kathleen', 'waymon', 'februari', '21', '1933', 'april', '21', '2003', 'known', 'profession', 'nina', 'simon', 'american', 'singer', 'songwrit', 'musician', 'arrang', 'civil', 'right', 'activist', 'her', 'music', 'span']\n"
     ]
    }
   ],
   "source": [
    "stemmer = SnowballStemmer('english')\n",
    "nina_wo_stopwords_and_punct_stemmed = [stemmer.stem(t) for t in nina_wo_stopwords_and_punct]\n",
    "print(nina_wo_stopwords_and_punct_stemmed)"
   ]
  },
  {
   "cell_type": "markdown",
   "metadata": {
    "colab_type": "text",
    "id": "e6KVFUe4eev5"
   },
   "source": [
    "Applying the whole process to the corpus."
   ]
  },
  {
   "cell_type": "code",
   "execution_count": 11,
   "metadata": {
    "colab": {},
    "colab_type": "code",
    "id": "fGY_k0RAejxn"
   },
   "outputs": [],
   "source": [
    "processed_corpus = {}\n",
    "eng_stopwords = set(stopwords.words('english'))\n",
    "punctuation = set('&%#$()/\"<>.,;:?!+-—[]{}–')\n",
    "stemmer = SnowballStemmer('english')\n",
    "\n",
    "def process_raw_text(d):\n",
    "    result = word_tokenize(d)\n",
    "    result = [t for t in result if t not in eng_stopwords]\n",
    "    result = [t for t in result if t not in punctuation]\n",
    "    result = [stemmer.stem(t) for t in result]\n",
    "    return result\n",
    "\n",
    "for k, v in documents.items():\n",
    "    processed_corpus[k] = process_raw_text(v)\n"
   ]
  },
  {
   "cell_type": "code",
   "execution_count": 12,
   "metadata": {
    "colab": {
     "base_uri": "https://localhost:8080/",
     "height": 34
    },
    "colab_type": "code",
    "id": "52hAqy9Wf-GP",
    "outputId": "1f3dc1c4-bbb9-4f7e-cc61-ba9f59546fba"
   },
   "outputs": [
    {
     "data": {
      "text/plain": [
       "7778"
      ]
     },
     "execution_count": 12,
     "metadata": {},
     "output_type": "execute_result"
    }
   ],
   "source": [
    "unique_words = set()\n",
    "for d in processed_corpus.values():\n",
    "    unique_words = unique_words.union(d)\n",
    "\n",
    "len(unique_words)"
   ]
  },
  {
   "cell_type": "code",
   "execution_count": 13,
   "metadata": {
    "colab": {},
    "colab_type": "code",
    "id": "9GG1JxNTrshA"
   },
   "outputs": [],
   "source": [
    "import math\n",
    "\n",
    "def tf(t, d):\n",
    "    return d.count(t)\n",
    "\n",
    "def idf(t, D):\n",
    "    docs_with_t = sum([1 for d in D.values() if t in d])\n",
    "    return math.log(len(D) / docs_with_t)\n",
    "\n",
    "def tfidf(t, d, D):\n",
    "    return tf(t, d) * idf(t, D)"
   ]
  },
  {
   "cell_type": "code",
   "execution_count": 14,
   "metadata": {
    "colab": {},
    "colab_type": "code",
    "id": "N8MsZYZVwKTK"
   },
   "outputs": [],
   "source": [
    "tfidf_dict = {}\n",
    "D = processed_corpus\n",
    "for k, d in processed_corpus.items():\n",
    "    tfidf_dict[k] = {}\n",
    "    for t in unique_words:\n",
    "        tfidf_dict[k][t] = tfidf(t, d, D)"
   ]
  },
  {
   "cell_type": "code",
   "execution_count": 15,
   "metadata": {
    "colab": {
     "base_uri": "https://localhost:8080/",
     "height": 611
    },
    "colab_type": "code",
    "id": "szXGk_-4yY46",
    "outputId": "fe53bfa4-c6fd-452d-ae45-bcfcddac0d38",
    "scrolled": true
   },
   "outputs": [
    {
     "data": {
      "text/html": [
       "<div>\n",
       "<style scoped>\n",
       "    .dataframe tbody tr th:only-of-type {\n",
       "        vertical-align: middle;\n",
       "    }\n",
       "\n",
       "    .dataframe tbody tr th {\n",
       "        vertical-align: top;\n",
       "    }\n",
       "\n",
       "    .dataframe thead th {\n",
       "        text-align: right;\n",
       "    }\n",
       "</style>\n",
       "<table border=\"1\" class=\"dataframe\">\n",
       "  <thead>\n",
       "    <tr style=\"text-align: right;\">\n",
       "      <th></th>\n",
       "      <th>armi</th>\n",
       "      <th>warmed-ov</th>\n",
       "      <th>publish</th>\n",
       "      <th>lode</th>\n",
       "      <th>belong</th>\n",
       "      <th>hall</th>\n",
       "      <th>abrupt</th>\n",
       "      <th>whether</th>\n",
       "      <th>spare</th>\n",
       "      <th>class</th>\n",
       "      <th>...</th>\n",
       "      <th>revisit</th>\n",
       "      <th>grove</th>\n",
       "      <th>jerk</th>\n",
       "      <th>imprison</th>\n",
       "      <th>foul</th>\n",
       "      <th>karl</th>\n",
       "      <th>miss</th>\n",
       "      <th>jam</th>\n",
       "      <th>sorcer</th>\n",
       "      <th>ascent</th>\n",
       "    </tr>\n",
       "  </thead>\n",
       "  <tbody>\n",
       "    <tr>\n",
       "      <th>Charlie_Parker</th>\n",
       "      <td>0.000000</td>\n",
       "      <td>0.000000</td>\n",
       "      <td>0.207639</td>\n",
       "      <td>0.000000</td>\n",
       "      <td>0.000000</td>\n",
       "      <td>0.0</td>\n",
       "      <td>0.000000</td>\n",
       "      <td>0.000000</td>\n",
       "      <td>0.000000</td>\n",
       "      <td>0.000000</td>\n",
       "      <td>...</td>\n",
       "      <td>0.000000</td>\n",
       "      <td>0.000000</td>\n",
       "      <td>0.000000</td>\n",
       "      <td>0.000000</td>\n",
       "      <td>0.000000</td>\n",
       "      <td>0.000000</td>\n",
       "      <td>1.653357</td>\n",
       "      <td>3.489452</td>\n",
       "      <td>0.000000</td>\n",
       "      <td>0.000000</td>\n",
       "    </tr>\n",
       "    <tr>\n",
       "      <th>Dizzy_Gillespie</th>\n",
       "      <td>0.000000</td>\n",
       "      <td>0.000000</td>\n",
       "      <td>0.207639</td>\n",
       "      <td>0.000000</td>\n",
       "      <td>0.000000</td>\n",
       "      <td>0.0</td>\n",
       "      <td>0.000000</td>\n",
       "      <td>0.000000</td>\n",
       "      <td>0.000000</td>\n",
       "      <td>0.000000</td>\n",
       "      <td>...</td>\n",
       "      <td>0.000000</td>\n",
       "      <td>0.000000</td>\n",
       "      <td>0.000000</td>\n",
       "      <td>0.000000</td>\n",
       "      <td>2.772589</td>\n",
       "      <td>0.000000</td>\n",
       "      <td>0.826679</td>\n",
       "      <td>1.163151</td>\n",
       "      <td>0.000000</td>\n",
       "      <td>0.000000</td>\n",
       "    </tr>\n",
       "    <tr>\n",
       "      <th>Art_Tatum</th>\n",
       "      <td>0.000000</td>\n",
       "      <td>0.000000</td>\n",
       "      <td>0.622918</td>\n",
       "      <td>0.000000</td>\n",
       "      <td>0.000000</td>\n",
       "      <td>0.0</td>\n",
       "      <td>0.000000</td>\n",
       "      <td>1.386294</td>\n",
       "      <td>0.000000</td>\n",
       "      <td>0.000000</td>\n",
       "      <td>...</td>\n",
       "      <td>0.000000</td>\n",
       "      <td>0.000000</td>\n",
       "      <td>0.000000</td>\n",
       "      <td>0.000000</td>\n",
       "      <td>0.000000</td>\n",
       "      <td>5.545177</td>\n",
       "      <td>1.653357</td>\n",
       "      <td>0.000000</td>\n",
       "      <td>0.000000</td>\n",
       "      <td>0.000000</td>\n",
       "    </tr>\n",
       "    <tr>\n",
       "      <th>Clark_Terry</th>\n",
       "      <td>0.000000</td>\n",
       "      <td>0.000000</td>\n",
       "      <td>0.207639</td>\n",
       "      <td>0.000000</td>\n",
       "      <td>0.000000</td>\n",
       "      <td>0.0</td>\n",
       "      <td>0.000000</td>\n",
       "      <td>0.000000</td>\n",
       "      <td>0.000000</td>\n",
       "      <td>0.000000</td>\n",
       "      <td>...</td>\n",
       "      <td>0.000000</td>\n",
       "      <td>0.000000</td>\n",
       "      <td>0.000000</td>\n",
       "      <td>0.000000</td>\n",
       "      <td>0.000000</td>\n",
       "      <td>0.000000</td>\n",
       "      <td>0.000000</td>\n",
       "      <td>0.000000</td>\n",
       "      <td>0.000000</td>\n",
       "      <td>0.000000</td>\n",
       "    </tr>\n",
       "    <tr>\n",
       "      <th>Dave_Brubeck</th>\n",
       "      <td>5.021929</td>\n",
       "      <td>0.000000</td>\n",
       "      <td>0.415279</td>\n",
       "      <td>2.772589</td>\n",
       "      <td>0.000000</td>\n",
       "      <td>0.0</td>\n",
       "      <td>0.000000</td>\n",
       "      <td>0.000000</td>\n",
       "      <td>2.079442</td>\n",
       "      <td>1.386294</td>\n",
       "      <td>...</td>\n",
       "      <td>0.000000</td>\n",
       "      <td>0.000000</td>\n",
       "      <td>0.000000</td>\n",
       "      <td>0.000000</td>\n",
       "      <td>0.000000</td>\n",
       "      <td>0.000000</td>\n",
       "      <td>0.000000</td>\n",
       "      <td>0.000000</td>\n",
       "      <td>0.000000</td>\n",
       "      <td>0.000000</td>\n",
       "    </tr>\n",
       "    <tr>\n",
       "      <th>Thelonious_Monk</th>\n",
       "      <td>0.000000</td>\n",
       "      <td>0.000000</td>\n",
       "      <td>0.000000</td>\n",
       "      <td>0.000000</td>\n",
       "      <td>2.772589</td>\n",
       "      <td>0.0</td>\n",
       "      <td>1.673976</td>\n",
       "      <td>0.000000</td>\n",
       "      <td>0.000000</td>\n",
       "      <td>0.000000</td>\n",
       "      <td>...</td>\n",
       "      <td>0.000000</td>\n",
       "      <td>0.000000</td>\n",
       "      <td>0.000000</td>\n",
       "      <td>0.000000</td>\n",
       "      <td>0.000000</td>\n",
       "      <td>0.000000</td>\n",
       "      <td>0.000000</td>\n",
       "      <td>0.000000</td>\n",
       "      <td>0.000000</td>\n",
       "      <td>0.000000</td>\n",
       "    </tr>\n",
       "    <tr>\n",
       "      <th>Charles_Mingus</th>\n",
       "      <td>1.673976</td>\n",
       "      <td>0.000000</td>\n",
       "      <td>0.415279</td>\n",
       "      <td>0.000000</td>\n",
       "      <td>0.000000</td>\n",
       "      <td>0.0</td>\n",
       "      <td>0.000000</td>\n",
       "      <td>2.772589</td>\n",
       "      <td>0.000000</td>\n",
       "      <td>0.000000</td>\n",
       "      <td>...</td>\n",
       "      <td>0.000000</td>\n",
       "      <td>0.000000</td>\n",
       "      <td>0.000000</td>\n",
       "      <td>0.000000</td>\n",
       "      <td>0.000000</td>\n",
       "      <td>0.000000</td>\n",
       "      <td>0.000000</td>\n",
       "      <td>0.000000</td>\n",
       "      <td>0.000000</td>\n",
       "      <td>0.000000</td>\n",
       "    </tr>\n",
       "    <tr>\n",
       "      <th>Benny_Goodman</th>\n",
       "      <td>0.000000</td>\n",
       "      <td>0.000000</td>\n",
       "      <td>0.415279</td>\n",
       "      <td>0.000000</td>\n",
       "      <td>0.000000</td>\n",
       "      <td>0.0</td>\n",
       "      <td>0.000000</td>\n",
       "      <td>0.000000</td>\n",
       "      <td>0.000000</td>\n",
       "      <td>0.000000</td>\n",
       "      <td>...</td>\n",
       "      <td>0.000000</td>\n",
       "      <td>0.000000</td>\n",
       "      <td>0.000000</td>\n",
       "      <td>0.000000</td>\n",
       "      <td>0.000000</td>\n",
       "      <td>0.000000</td>\n",
       "      <td>0.000000</td>\n",
       "      <td>0.000000</td>\n",
       "      <td>0.000000</td>\n",
       "      <td>0.000000</td>\n",
       "    </tr>\n",
       "    <tr>\n",
       "      <th>Count_Basie</th>\n",
       "      <td>0.000000</td>\n",
       "      <td>0.000000</td>\n",
       "      <td>0.000000</td>\n",
       "      <td>0.000000</td>\n",
       "      <td>0.000000</td>\n",
       "      <td>0.0</td>\n",
       "      <td>0.000000</td>\n",
       "      <td>0.000000</td>\n",
       "      <td>0.000000</td>\n",
       "      <td>0.000000</td>\n",
       "      <td>...</td>\n",
       "      <td>0.000000</td>\n",
       "      <td>0.000000</td>\n",
       "      <td>0.000000</td>\n",
       "      <td>0.000000</td>\n",
       "      <td>0.000000</td>\n",
       "      <td>0.000000</td>\n",
       "      <td>0.000000</td>\n",
       "      <td>0.000000</td>\n",
       "      <td>0.000000</td>\n",
       "      <td>0.000000</td>\n",
       "    </tr>\n",
       "    <tr>\n",
       "      <th>John_Coltrane</th>\n",
       "      <td>1.673976</td>\n",
       "      <td>0.000000</td>\n",
       "      <td>0.000000</td>\n",
       "      <td>0.000000</td>\n",
       "      <td>0.000000</td>\n",
       "      <td>0.0</td>\n",
       "      <td>0.000000</td>\n",
       "      <td>0.000000</td>\n",
       "      <td>4.158883</td>\n",
       "      <td>1.386294</td>\n",
       "      <td>...</td>\n",
       "      <td>0.000000</td>\n",
       "      <td>0.000000</td>\n",
       "      <td>0.000000</td>\n",
       "      <td>0.000000</td>\n",
       "      <td>0.000000</td>\n",
       "      <td>0.000000</td>\n",
       "      <td>0.000000</td>\n",
       "      <td>1.163151</td>\n",
       "      <td>0.000000</td>\n",
       "      <td>2.772589</td>\n",
       "    </tr>\n",
       "    <tr>\n",
       "      <th>Miles_Davis</th>\n",
       "      <td>0.000000</td>\n",
       "      <td>2.772589</td>\n",
       "      <td>1.245836</td>\n",
       "      <td>0.000000</td>\n",
       "      <td>0.000000</td>\n",
       "      <td>0.0</td>\n",
       "      <td>0.000000</td>\n",
       "      <td>0.000000</td>\n",
       "      <td>0.000000</td>\n",
       "      <td>2.772589</td>\n",
       "      <td>...</td>\n",
       "      <td>0.000000</td>\n",
       "      <td>0.000000</td>\n",
       "      <td>0.000000</td>\n",
       "      <td>0.000000</td>\n",
       "      <td>0.000000</td>\n",
       "      <td>0.000000</td>\n",
       "      <td>0.826679</td>\n",
       "      <td>1.163151</td>\n",
       "      <td>2.772589</td>\n",
       "      <td>0.000000</td>\n",
       "    </tr>\n",
       "    <tr>\n",
       "      <th>Sun_Ra</th>\n",
       "      <td>0.000000</td>\n",
       "      <td>0.000000</td>\n",
       "      <td>1.453476</td>\n",
       "      <td>0.000000</td>\n",
       "      <td>0.000000</td>\n",
       "      <td>0.0</td>\n",
       "      <td>0.000000</td>\n",
       "      <td>1.386294</td>\n",
       "      <td>0.000000</td>\n",
       "      <td>4.158883</td>\n",
       "      <td>...</td>\n",
       "      <td>0.000000</td>\n",
       "      <td>0.000000</td>\n",
       "      <td>0.000000</td>\n",
       "      <td>2.772589</td>\n",
       "      <td>0.000000</td>\n",
       "      <td>0.000000</td>\n",
       "      <td>0.000000</td>\n",
       "      <td>2.326302</td>\n",
       "      <td>0.000000</td>\n",
       "      <td>0.000000</td>\n",
       "    </tr>\n",
       "    <tr>\n",
       "      <th>Nina_Simone</th>\n",
       "      <td>0.000000</td>\n",
       "      <td>0.000000</td>\n",
       "      <td>0.207639</td>\n",
       "      <td>0.000000</td>\n",
       "      <td>0.000000</td>\n",
       "      <td>0.0</td>\n",
       "      <td>1.673976</td>\n",
       "      <td>0.000000</td>\n",
       "      <td>0.000000</td>\n",
       "      <td>0.000000</td>\n",
       "      <td>...</td>\n",
       "      <td>0.000000</td>\n",
       "      <td>0.000000</td>\n",
       "      <td>0.000000</td>\n",
       "      <td>0.000000</td>\n",
       "      <td>0.000000</td>\n",
       "      <td>0.000000</td>\n",
       "      <td>4.960071</td>\n",
       "      <td>0.000000</td>\n",
       "      <td>0.000000</td>\n",
       "      <td>0.000000</td>\n",
       "    </tr>\n",
       "    <tr>\n",
       "      <th>Fats_Waller</th>\n",
       "      <td>0.000000</td>\n",
       "      <td>0.000000</td>\n",
       "      <td>0.830557</td>\n",
       "      <td>0.000000</td>\n",
       "      <td>0.000000</td>\n",
       "      <td>0.0</td>\n",
       "      <td>0.000000</td>\n",
       "      <td>0.000000</td>\n",
       "      <td>0.000000</td>\n",
       "      <td>0.000000</td>\n",
       "      <td>...</td>\n",
       "      <td>0.000000</td>\n",
       "      <td>0.000000</td>\n",
       "      <td>0.000000</td>\n",
       "      <td>0.000000</td>\n",
       "      <td>0.000000</td>\n",
       "      <td>0.000000</td>\n",
       "      <td>0.000000</td>\n",
       "      <td>0.000000</td>\n",
       "      <td>0.000000</td>\n",
       "      <td>0.000000</td>\n",
       "    </tr>\n",
       "    <tr>\n",
       "      <th>Duke_Ellington</th>\n",
       "      <td>0.000000</td>\n",
       "      <td>0.000000</td>\n",
       "      <td>0.622918</td>\n",
       "      <td>0.000000</td>\n",
       "      <td>0.000000</td>\n",
       "      <td>0.0</td>\n",
       "      <td>1.673976</td>\n",
       "      <td>1.386294</td>\n",
       "      <td>0.000000</td>\n",
       "      <td>0.000000</td>\n",
       "      <td>...</td>\n",
       "      <td>2.772589</td>\n",
       "      <td>0.000000</td>\n",
       "      <td>2.772589</td>\n",
       "      <td>0.000000</td>\n",
       "      <td>0.000000</td>\n",
       "      <td>0.000000</td>\n",
       "      <td>0.826679</td>\n",
       "      <td>0.000000</td>\n",
       "      <td>0.000000</td>\n",
       "      <td>0.000000</td>\n",
       "    </tr>\n",
       "    <tr>\n",
       "      <th>Louis_Armstrong</th>\n",
       "      <td>0.000000</td>\n",
       "      <td>0.000000</td>\n",
       "      <td>0.207639</td>\n",
       "      <td>0.000000</td>\n",
       "      <td>0.000000</td>\n",
       "      <td>0.0</td>\n",
       "      <td>0.000000</td>\n",
       "      <td>0.000000</td>\n",
       "      <td>0.000000</td>\n",
       "      <td>0.000000</td>\n",
       "      <td>...</td>\n",
       "      <td>0.000000</td>\n",
       "      <td>2.772589</td>\n",
       "      <td>0.000000</td>\n",
       "      <td>0.000000</td>\n",
       "      <td>0.000000</td>\n",
       "      <td>0.000000</td>\n",
       "      <td>0.826679</td>\n",
       "      <td>0.000000</td>\n",
       "      <td>0.000000</td>\n",
       "      <td>0.000000</td>\n",
       "    </tr>\n",
       "  </tbody>\n",
       "</table>\n",
       "<p>16 rows × 7778 columns</p>\n",
       "</div>"
      ],
      "text/plain": [
       "                     armi  warmed-ov   publish      lode    belong  hall  \\\n",
       "Charlie_Parker   0.000000   0.000000  0.207639  0.000000  0.000000   0.0   \n",
       "Dizzy_Gillespie  0.000000   0.000000  0.207639  0.000000  0.000000   0.0   \n",
       "Art_Tatum        0.000000   0.000000  0.622918  0.000000  0.000000   0.0   \n",
       "Clark_Terry      0.000000   0.000000  0.207639  0.000000  0.000000   0.0   \n",
       "Dave_Brubeck     5.021929   0.000000  0.415279  2.772589  0.000000   0.0   \n",
       "Thelonious_Monk  0.000000   0.000000  0.000000  0.000000  2.772589   0.0   \n",
       "Charles_Mingus   1.673976   0.000000  0.415279  0.000000  0.000000   0.0   \n",
       "Benny_Goodman    0.000000   0.000000  0.415279  0.000000  0.000000   0.0   \n",
       "Count_Basie      0.000000   0.000000  0.000000  0.000000  0.000000   0.0   \n",
       "John_Coltrane    1.673976   0.000000  0.000000  0.000000  0.000000   0.0   \n",
       "Miles_Davis      0.000000   2.772589  1.245836  0.000000  0.000000   0.0   \n",
       "Sun_Ra           0.000000   0.000000  1.453476  0.000000  0.000000   0.0   \n",
       "Nina_Simone      0.000000   0.000000  0.207639  0.000000  0.000000   0.0   \n",
       "Fats_Waller      0.000000   0.000000  0.830557  0.000000  0.000000   0.0   \n",
       "Duke_Ellington   0.000000   0.000000  0.622918  0.000000  0.000000   0.0   \n",
       "Louis_Armstrong  0.000000   0.000000  0.207639  0.000000  0.000000   0.0   \n",
       "\n",
       "                   abrupt   whether     spare     class  ...   revisit  \\\n",
       "Charlie_Parker   0.000000  0.000000  0.000000  0.000000  ...  0.000000   \n",
       "Dizzy_Gillespie  0.000000  0.000000  0.000000  0.000000  ...  0.000000   \n",
       "Art_Tatum        0.000000  1.386294  0.000000  0.000000  ...  0.000000   \n",
       "Clark_Terry      0.000000  0.000000  0.000000  0.000000  ...  0.000000   \n",
       "Dave_Brubeck     0.000000  0.000000  2.079442  1.386294  ...  0.000000   \n",
       "Thelonious_Monk  1.673976  0.000000  0.000000  0.000000  ...  0.000000   \n",
       "Charles_Mingus   0.000000  2.772589  0.000000  0.000000  ...  0.000000   \n",
       "Benny_Goodman    0.000000  0.000000  0.000000  0.000000  ...  0.000000   \n",
       "Count_Basie      0.000000  0.000000  0.000000  0.000000  ...  0.000000   \n",
       "John_Coltrane    0.000000  0.000000  4.158883  1.386294  ...  0.000000   \n",
       "Miles_Davis      0.000000  0.000000  0.000000  2.772589  ...  0.000000   \n",
       "Sun_Ra           0.000000  1.386294  0.000000  4.158883  ...  0.000000   \n",
       "Nina_Simone      1.673976  0.000000  0.000000  0.000000  ...  0.000000   \n",
       "Fats_Waller      0.000000  0.000000  0.000000  0.000000  ...  0.000000   \n",
       "Duke_Ellington   1.673976  1.386294  0.000000  0.000000  ...  2.772589   \n",
       "Louis_Armstrong  0.000000  0.000000  0.000000  0.000000  ...  0.000000   \n",
       "\n",
       "                    grove      jerk  imprison      foul      karl      miss  \\\n",
       "Charlie_Parker   0.000000  0.000000  0.000000  0.000000  0.000000  1.653357   \n",
       "Dizzy_Gillespie  0.000000  0.000000  0.000000  2.772589  0.000000  0.826679   \n",
       "Art_Tatum        0.000000  0.000000  0.000000  0.000000  5.545177  1.653357   \n",
       "Clark_Terry      0.000000  0.000000  0.000000  0.000000  0.000000  0.000000   \n",
       "Dave_Brubeck     0.000000  0.000000  0.000000  0.000000  0.000000  0.000000   \n",
       "Thelonious_Monk  0.000000  0.000000  0.000000  0.000000  0.000000  0.000000   \n",
       "Charles_Mingus   0.000000  0.000000  0.000000  0.000000  0.000000  0.000000   \n",
       "Benny_Goodman    0.000000  0.000000  0.000000  0.000000  0.000000  0.000000   \n",
       "Count_Basie      0.000000  0.000000  0.000000  0.000000  0.000000  0.000000   \n",
       "John_Coltrane    0.000000  0.000000  0.000000  0.000000  0.000000  0.000000   \n",
       "Miles_Davis      0.000000  0.000000  0.000000  0.000000  0.000000  0.826679   \n",
       "Sun_Ra           0.000000  0.000000  2.772589  0.000000  0.000000  0.000000   \n",
       "Nina_Simone      0.000000  0.000000  0.000000  0.000000  0.000000  4.960071   \n",
       "Fats_Waller      0.000000  0.000000  0.000000  0.000000  0.000000  0.000000   \n",
       "Duke_Ellington   0.000000  2.772589  0.000000  0.000000  0.000000  0.826679   \n",
       "Louis_Armstrong  2.772589  0.000000  0.000000  0.000000  0.000000  0.826679   \n",
       "\n",
       "                      jam    sorcer    ascent  \n",
       "Charlie_Parker   3.489452  0.000000  0.000000  \n",
       "Dizzy_Gillespie  1.163151  0.000000  0.000000  \n",
       "Art_Tatum        0.000000  0.000000  0.000000  \n",
       "Clark_Terry      0.000000  0.000000  0.000000  \n",
       "Dave_Brubeck     0.000000  0.000000  0.000000  \n",
       "Thelonious_Monk  0.000000  0.000000  0.000000  \n",
       "Charles_Mingus   0.000000  0.000000  0.000000  \n",
       "Benny_Goodman    0.000000  0.000000  0.000000  \n",
       "Count_Basie      0.000000  0.000000  0.000000  \n",
       "John_Coltrane    1.163151  0.000000  2.772589  \n",
       "Miles_Davis      1.163151  2.772589  0.000000  \n",
       "Sun_Ra           2.326302  0.000000  0.000000  \n",
       "Nina_Simone      0.000000  0.000000  0.000000  \n",
       "Fats_Waller      0.000000  0.000000  0.000000  \n",
       "Duke_Ellington   0.000000  0.000000  0.000000  \n",
       "Louis_Armstrong  0.000000  0.000000  0.000000  \n",
       "\n",
       "[16 rows x 7778 columns]"
      ]
     },
     "execution_count": 15,
     "metadata": {},
     "output_type": "execute_result"
    }
   ],
   "source": [
    "import pandas as pd\n",
    "\n",
    "df = pd.DataFrame(tfidf_dict)\n",
    "df_t = df.transpose()\n",
    "df_t"
   ]
  },
  {
   "cell_type": "code",
   "execution_count": 16,
   "metadata": {
    "colab": {
     "base_uri": "https://localhost:8080/",
     "height": 374
    },
    "colab_type": "code",
    "id": "bD6DkLtzzTN5",
    "outputId": "d2736066-ef11-438b-a5ed-869bb3c40ff5",
    "scrolled": true
   },
   "outputs": [
    {
     "data": {
      "text/plain": [
       "simon            210.921031\n",
       "nina              80.405073\n",
       "goddam            19.408121\n",
       "stroud            19.408121\n",
       "lisa              19.408121\n",
       "mississippi       16.635532\n",
       "civil             15.065788\n",
       "spell             14.556091\n",
       "waymon            13.862944\n",
       "her               13.862944\n",
       "hansberri         13.862944\n",
       "ian               13.862944\n",
       "she               13.160102\n",
       "sampl             12.476649\n",
       "misunderstood     12.476649\n",
       "curti             12.476649\n",
       "me                11.631508\n",
       "nijmegen          11.090355\n",
       "footag            11.090355\n",
       "nomin              9.704061\n",
       "Name: Nina_Simone, dtype: float64"
      ]
     },
     "execution_count": 16,
     "metadata": {},
     "output_type": "execute_result"
    }
   ],
   "source": [
    "df.Nina_Simone.sort_values(ascending=False).head(20)"
   ]
  },
  {
   "cell_type": "code",
   "execution_count": 17,
   "metadata": {
    "colab": {},
    "colab_type": "code",
    "id": "r221-u9D2dD4"
   },
   "outputs": [],
   "source": [
    "import numpy as np\n",
    "\n",
    "def cosine_similarity(a, b):\n",
    "    dot_product = np.linalg.multi_dot([a, b])\n",
    "    norm_product = np.linalg.norm(a) * np.linalg.norm(a)\n",
    "    return dot_product / norm_product"
   ]
  },
  {
   "cell_type": "markdown",
   "metadata": {
    "colab_type": "text",
    "id": "O2XGeyIj4G1k"
   },
   "source": [
    "Who is the most similar musician to Nina Simone?"
   ]
  },
  {
   "cell_type": "code",
   "execution_count": 18,
   "metadata": {
    "colab": {
     "base_uri": "https://localhost:8080/",
     "height": 306
    },
    "colab_type": "code",
    "id": "VXbxv9Ml39HI",
    "outputId": "4036c280-de44-4c9c-d368-fbe6e92ddd53"
   },
   "outputs": [
    {
     "data": {
      "text/plain": [
       "Nina_Simone        1.000000\n",
       "Dizzy_Gillespie    0.075212\n",
       "Clark_Terry        0.073985\n",
       "Charlie_Parker     0.073476\n",
       "Miles_Davis        0.066546\n",
       "Louis_Armstrong    0.057167\n",
       "Duke_Ellington     0.055309\n",
       "Fats_Waller        0.051782\n",
       "Thelonious_Monk    0.046492\n",
       "Charles_Mingus     0.040395\n",
       "Count_Basie        0.037085\n",
       "John_Coltrane      0.031663\n",
       "Dave_Brubeck       0.027046\n",
       "Art_Tatum          0.018622\n",
       "Benny_Goodman      0.016499\n",
       "Sun_Ra             0.007472\n",
       "dtype: float64"
      ]
     },
     "execution_count": 18,
     "metadata": {},
     "output_type": "execute_result"
    }
   ],
   "source": [
    "df.apply(lambda x: cosine_similarity(x, df.Nina_Simone)).sort_values(ascending=False)"
   ]
  },
  {
   "cell_type": "markdown",
   "metadata": {
    "colab_type": "text",
    "id": "sZtlZXzR5hRJ"
   },
   "source": [
    "Similarity could be used to create a basic search engine.\n",
    "We could process a query, e.g. \"Famous jazz saxophonist born in Kansas who played bebop\", the same way we processed the raw data and then use cosine similarity to find the best match."
   ]
  },
  {
   "cell_type": "code",
   "execution_count": 19,
   "metadata": {
    "colab": {},
    "colab_type": "code",
    "id": "XcWXfo976Lwg"
   },
   "outputs": [],
   "source": [
    "query = 'The most influential trumpeter in jazz history'\n",
    "query_after_preproc = process_raw_text(query)\n",
    "query_vector = pd.Series({t:tfidf(t, query_after_preproc, D) for t in unique_words})"
   ]
  },
  {
   "cell_type": "code",
   "execution_count": 20,
   "metadata": {
    "colab": {
     "base_uri": "https://localhost:8080/",
     "height": 306
    },
    "colab_type": "code",
    "id": "inrvYlMI8rE-",
    "outputId": "8fc6a070-c2a1-4759-c263-216e3755a681",
    "scrolled": true
   },
   "outputs": [
    {
     "data": {
      "text/plain": [
       "Dizzy_Gillespie    0.000148\n",
       "Charlie_Parker     0.000107\n",
       "Clark_Terry        0.000101\n",
       "Louis_Armstrong    0.000090\n",
       "Miles_Davis        0.000066\n",
       "John_Coltrane      0.000043\n",
       "Charles_Mingus     0.000031\n",
       "Count_Basie        0.000031\n",
       "Duke_Ellington     0.000029\n",
       "Fats_Waller        0.000017\n",
       "Art_Tatum          0.000008\n",
       "Nina_Simone        0.000006\n",
       "Benny_Goodman      0.000003\n",
       "Sun_Ra             0.000002\n",
       "Dave_Brubeck       0.000002\n",
       "Thelonious_Monk    0.000000\n",
       "dtype: float64"
      ]
     },
     "execution_count": 20,
     "metadata": {},
     "output_type": "execute_result"
    }
   ],
   "source": [
    "df.apply(lambda x: cosine_similarity(x, query_vector)).sort_values(ascending=False)"
   ]
  }
 ],
 "metadata": {
  "colab": {
   "collapsed_sections": [],
   "name": "jazz_musicians.ipynb",
   "provenance": []
  },
  "kernelspec": {
   "display_name": "Python 3",
   "language": "python",
   "name": "python3"
  },
  "language_info": {
   "codemirror_mode": {
    "name": "ipython",
    "version": 3
   },
   "file_extension": ".py",
   "mimetype": "text/x-python",
   "name": "python",
   "nbconvert_exporter": "python",
   "pygments_lexer": "ipython3",
   "version": "3.8.3"
  }
 },
 "nbformat": 4,
 "nbformat_minor": 1
}
