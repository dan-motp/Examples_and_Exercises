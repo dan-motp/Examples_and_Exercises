{
  "nbformat": 4,
  "nbformat_minor": 0,
  "metadata": {
    "colab": {
      "name": "Time Series Forecasting.ipynb",
      "provenance": [],
      "authorship_tag": "ABX9TyOXZ/f7qsQIInPC2CDaHEBd",
      "include_colab_link": true
    },
    "kernelspec": {
      "name": "ir",
      "display_name": "R"
    },
    "language_info": {
      "name": "R"
    }
  },
  "cells": [
    {
      "cell_type": "markdown",
      "metadata": {
        "id": "view-in-github",
        "colab_type": "text"
      },
      "source": [
        "<a href=\"https://colab.research.google.com/github/dan-motp/Examples_and_Exercises/blob/master/Time_Series_Forecasting.ipynb\" target=\"_parent\"><img src=\"https://colab.research.google.com/assets/colab-badge.svg\" alt=\"Open In Colab\"/></a>"
      ]
    },
    {
      "cell_type": "code",
      "metadata": {
        "colab": {
          "base_uri": "https://localhost:8080/",
          "height": 218
        },
        "id": "BdazAKrG0KRl",
        "outputId": "227f7ed8-08f5-40ae-c636-269e221f9e1c"
      },
      "source": [
        "# Start rmagic by executing this in a cell:\n",
        "# %load_ext rpy2.ipython\n",
        "# Use %%R to execute cell magic. Use this if you want all syntax in a cell to be executed in R. Note that this must be placed at the beginning of the cell.\n",
        "# %%R\n",
        "x <- seq(0, 2*pi, length.out=50)\n",
        "x"
      ],
      "execution_count": 3,
      "outputs": [
        {
          "output_type": "display_data",
          "data": {
            "text/plain": [
              " [1] 0.0000000 0.1282283 0.2564565 0.3846848 0.5129131 0.6411414 0.7693696\n",
              " [8] 0.8975979 1.0258262 1.1540544 1.2822827 1.4105110 1.5387393 1.6669675\n",
              "[15] 1.7951958 1.9234241 2.0516523 2.1798806 2.3081089 2.4363372 2.5645654\n",
              "[22] 2.6927937 2.8210220 2.9492502 3.0774785 3.2057068 3.3339351 3.4621633\n",
              "[29] 3.5903916 3.7186199 3.8468481 3.9750764 4.1033047 4.2315330 4.3597612\n",
              "[36] 4.4879895 4.6162178 4.7444460 4.8726743 5.0009026 5.1291309 5.2573591\n",
              "[43] 5.3855874 5.5138157 5.6420439 5.7702722 5.8985005 6.0267288 6.1549570\n",
              "[50] 6.2831853"
            ],
            "text/latex": "\\begin{enumerate*}\n\\item 0\n\\item 0.128228271575094\n\\item 0.256456543150187\n\\item 0.384684814725281\n\\item 0.512913086300374\n\\item 0.641141357875468\n\\item 0.769369629450562\n\\item 0.897597901025655\n\\item 1.02582617260075\n\\item 1.15405444417584\n\\item 1.28228271575094\n\\item 1.41051098732603\n\\item 1.53873925890112\n\\item 1.66696753047622\n\\item 1.79519580205131\n\\item 1.9234240736264\n\\item 2.0516523452015\n\\item 2.17988061677659\n\\item 2.30810888835168\n\\item 2.43633715992678\n\\item 2.56456543150187\n\\item 2.69279370307697\n\\item 2.82102197465206\n\\item 2.94925024622715\n\\item 3.07747851780225\n\\item 3.20570678937734\n\\item 3.33393506095243\n\\item 3.46216333252753\n\\item 3.59039160410262\n\\item 3.71861987567771\n\\item 3.84684814725281\n\\item 3.9750764188279\n\\item 4.10330469040299\n\\item 4.23153296197809\n\\item 4.35976123355318\n\\item 4.48798950512828\n\\item 4.61621777670337\n\\item 4.74444604827846\n\\item 4.87267431985356\n\\item 5.00090259142865\n\\item 5.12913086300374\n\\item 5.25735913457884\n\\item 5.38558740615393\n\\item 5.51381567772902\n\\item 5.64204394930412\n\\item 5.77027222087921\n\\item 5.89850049245431\n\\item 6.0267287640294\n\\item 6.15495703560449\n\\item 6.28318530717959\n\\end{enumerate*}\n",
            "text/markdown": "1. 0\n2. 0.128228271575094\n3. 0.256456543150187\n4. 0.384684814725281\n5. 0.512913086300374\n6. 0.641141357875468\n7. 0.769369629450562\n8. 0.897597901025655\n9. 1.02582617260075\n10. 1.15405444417584\n11. 1.28228271575094\n12. 1.41051098732603\n13. 1.53873925890112\n14. 1.66696753047622\n15. 1.79519580205131\n16. 1.9234240736264\n17. 2.0516523452015\n18. 2.17988061677659\n19. 2.30810888835168\n20. 2.43633715992678\n21. 2.56456543150187\n22. 2.69279370307697\n23. 2.82102197465206\n24. 2.94925024622715\n25. 3.07747851780225\n26. 3.20570678937734\n27. 3.33393506095243\n28. 3.46216333252753\n29. 3.59039160410262\n30. 3.71861987567771\n31. 3.84684814725281\n32. 3.9750764188279\n33. 4.10330469040299\n34. 4.23153296197809\n35. 4.35976123355318\n36. 4.48798950512828\n37. 4.61621777670337\n38. 4.74444604827846\n39. 4.87267431985356\n40. 5.00090259142865\n41. 5.12913086300374\n42. 5.25735913457884\n43. 5.38558740615393\n44. 5.51381567772902\n45. 5.64204394930412\n46. 5.77027222087921\n47. 5.89850049245431\n48. 6.0267287640294\n49. 6.15495703560449\n50. 6.28318530717959\n\n\n",
            "text/html": [
              "<style>\n",
              ".list-inline {list-style: none; margin:0; padding: 0}\n",
              ".list-inline>li {display: inline-block}\n",
              ".list-inline>li:not(:last-child)::after {content: \"\\00b7\"; padding: 0 .5ex}\n",
              "</style>\n",
              "<ol class=list-inline><li>0</li><li>0.128228271575094</li><li>0.256456543150187</li><li>0.384684814725281</li><li>0.512913086300374</li><li>0.641141357875468</li><li>0.769369629450562</li><li>0.897597901025655</li><li>1.02582617260075</li><li>1.15405444417584</li><li>1.28228271575094</li><li>1.41051098732603</li><li>1.53873925890112</li><li>1.66696753047622</li><li>1.79519580205131</li><li>1.9234240736264</li><li>2.0516523452015</li><li>2.17988061677659</li><li>2.30810888835168</li><li>2.43633715992678</li><li>2.56456543150187</li><li>2.69279370307697</li><li>2.82102197465206</li><li>2.94925024622715</li><li>3.07747851780225</li><li>3.20570678937734</li><li>3.33393506095243</li><li>3.46216333252753</li><li>3.59039160410262</li><li>3.71861987567771</li><li>3.84684814725281</li><li>3.9750764188279</li><li>4.10330469040299</li><li>4.23153296197809</li><li>4.35976123355318</li><li>4.48798950512828</li><li>4.61621777670337</li><li>4.74444604827846</li><li>4.87267431985356</li><li>5.00090259142865</li><li>5.12913086300374</li><li>5.25735913457884</li><li>5.38558740615393</li><li>5.51381567772902</li><li>5.64204394930412</li><li>5.77027222087921</li><li>5.89850049245431</li><li>6.0267287640294</li><li>6.15495703560449</li><li>6.28318530717959</li></ol>\n"
            ]
          },
          "metadata": {}
        }
      ]
    },
    {
      "cell_type": "code",
      "metadata": {
        "colab": {
          "base_uri": "https://localhost:8080/",
          "height": 269
        },
        "id": "0Cbei0I00c2a",
        "outputId": "494b398a-0d2d-4e43-8933-edcc92b659d5"
      },
      "source": [
        "version"
      ],
      "execution_count": 8,
      "outputs": [
        {
          "output_type": "display_data",
          "data": {
            "text/plain": [
              "               _                           \n",
              "platform       x86_64-pc-linux-gnu         \n",
              "arch           x86_64                      \n",
              "os             linux-gnu                   \n",
              "system         x86_64, linux-gnu           \n",
              "status                                     \n",
              "major          4                           \n",
              "minor          1.1                         \n",
              "year           2021                        \n",
              "month          08                          \n",
              "day            10                          \n",
              "svn rev        80725                       \n",
              "language       R                           \n",
              "version.string R version 4.1.1 (2021-08-10)\n",
              "nickname       Kick Things                 "
            ]
          },
          "metadata": {}
        }
      ]
    },
    {
      "cell_type": "code",
      "metadata": {
        "colab": {
          "base_uri": "https://localhost:8080/",
          "height": 1000
        },
        "id": "up-L3mKG12YD",
        "outputId": "9f2fd163-e7d8-4cca-87ca-34d5fc5afc75"
      },
      "source": [
        "str(allPackage <- installed.packages())\n",
        "allPackage [, c(1,3:5)]"
      ],
      "execution_count": 10,
      "outputs": [
        {
          "output_type": "stream",
          "name": "stdout",
          "text": [
            " chr [1:156, 1:16] \"IRdisplay\" \"IRkernel\" \"pbdZMQ\" \"repr\" \"askpass\" ...\n",
            " - attr(*, \"dimnames\")=List of 2\n",
            "  ..$ : chr [1:156] \"IRdisplay\" \"IRkernel\" \"pbdZMQ\" \"repr\" ...\n",
            "  ..$ : chr [1:16] \"Package\" \"LibPath\" \"Version\" \"Priority\" ...\n"
          ]
        },
        {
          "output_type": "display_data",
          "data": {
            "text/plain": [
              "            Package     Version Priority   \n",
              "IRdisplay   IRdisplay   1.0     NA         \n",
              "IRkernel    IRkernel    1.2     NA         \n",
              "pbdZMQ      pbdZMQ      0.3-5   NA         \n",
              "repr        repr        1.1.3   NA         \n",
              "askpass     askpass     1.1     NA         \n",
              "assertthat  assertthat  0.2.1   NA         \n",
              "backports   backports   1.2.1   NA         \n",
              "base64enc   base64enc   0.1-3   NA         \n",
              "bit         bit         4.0.4   NA         \n",
              "bit64       bit64       4.0.5   NA         \n",
              "blob        blob        1.2.2   NA         \n",
              "brew        brew        1.0-6   NA         \n",
              "brio        brio        1.1.2   NA         \n",
              "broom       broom       0.7.9   NA         \n",
              "cachem      cachem      1.0.6   NA         \n",
              "callr       callr       3.7.0   NA         \n",
              "cellranger  cellranger  1.1.0   NA         \n",
              "cli         cli         3.0.1   NA         \n",
              "clipr       clipr       0.7.1   NA         \n",
              "colorspace  colorspace  2.0-2   NA         \n",
              "commonmark  commonmark  1.7     NA         \n",
              "cpp11       cpp11       0.3.1   NA         \n",
              "crayon      crayon      1.4.1   NA         \n",
              "credentials credentials 1.3.1   NA         \n",
              "curl        curl        4.3.2   NA         \n",
              "data.table  data.table  1.14.0  NA         \n",
              "DBI         DBI         1.1.1   NA         \n",
              "dbplyr      dbplyr      2.1.1   NA         \n",
              "desc        desc        1.3.0   NA         \n",
              "devtools    devtools    2.4.2   NA         \n",
              "⋮           ⋮           ⋮       ⋮          \n",
              "zip         zip         2.2.0   NA         \n",
              "base        base        4.1.1   base       \n",
              "boot        boot        1.3-28  recommended\n",
              "class       class       7.3-19  recommended\n",
              "cluster     cluster     2.1.2   recommended\n",
              "codetools   codetools   0.2-18  recommended\n",
              "compiler    compiler    4.1.1   base       \n",
              "datasets    datasets    4.1.1   base       \n",
              "foreign     foreign     0.8-81  recommended\n",
              "graphics    graphics    4.1.1   base       \n",
              "grDevices   grDevices   4.1.1   base       \n",
              "grid        grid        4.1.1   base       \n",
              "KernSmooth  KernSmooth  2.23-20 recommended\n",
              "lattice     lattice     0.20-44 recommended\n",
              "MASS        MASS        7.3-54  recommended\n",
              "Matrix      Matrix      1.3-4   recommended\n",
              "methods     methods     4.1.1   base       \n",
              "mgcv        mgcv        1.8-36  recommended\n",
              "nlme        nlme        3.1-152 recommended\n",
              "nnet        nnet        7.3-16  recommended\n",
              "parallel    parallel    4.1.1   base       \n",
              "rpart       rpart       4.1-15  recommended\n",
              "spatial     spatial     7.3-14  recommended\n",
              "splines     splines     4.1.1   base       \n",
              "stats       stats       4.1.1   base       \n",
              "stats4      stats4      4.1.1   base       \n",
              "survival    survival    3.2-13  recommended\n",
              "tcltk       tcltk       4.1.1   base       \n",
              "tools       tools       4.1.1   base       \n",
              "utils       utils       4.1.1   base       \n",
              "            Depends                                            \n",
              "IRdisplay   R (>= 3.0.1)                                       \n",
              "IRkernel    R (>= 3.2.0)                                       \n",
              "pbdZMQ      R (>= 3.5.0)                                       \n",
              "repr        R (>= 3.0.1)                                       \n",
              "askpass     NA                                                 \n",
              "assertthat  NA                                                 \n",
              "backports   R (>= 3.0.0)                                       \n",
              "base64enc   R (>= 2.9.0)                                       \n",
              "bit         R (>= 2.9.2)                                       \n",
              "bit64       R (>= 3.0.1), bit (>= 4.0.0), utils, methods, stats\n",
              "blob        NA                                                 \n",
              "brew        NA                                                 \n",
              "brio        NA                                                 \n",
              "broom       R (>= 3.1)                                         \n",
              "cachem      NA                                                 \n",
              "callr       NA                                                 \n",
              "cellranger  R (>= 3.0.0)                                       \n",
              "cli         R (>= 2.10)                                        \n",
              "clipr       NA                                                 \n",
              "colorspace  R (>= 3.0.0), methods                              \n",
              "commonmark  NA                                                 \n",
              "cpp11       NA                                                 \n",
              "crayon      NA                                                 \n",
              "credentials NA                                                 \n",
              "curl        R (>= 3.0.0)                                       \n",
              "data.table  R (>= 3.1.0)                                       \n",
              "DBI         methods, R (>= 3.0.0)                              \n",
              "dbplyr      R (>= 3.1)                                         \n",
              "desc        R (>= 3.1.0)                                       \n",
              "devtools    R (>= 3.0.2), usethis (>= 2.0.1)                   \n",
              "⋮           ⋮                                                  \n",
              "zip         NA                                                 \n",
              "base        NA                                                 \n",
              "boot        R (>= 3.0.0), graphics, stats                      \n",
              "class       R (>= 3.0.0), stats, utils                         \n",
              "cluster     R (>= 3.4.0)                                       \n",
              "codetools   R (>= 2.1)                                         \n",
              "compiler    NA                                                 \n",
              "datasets    NA                                                 \n",
              "foreign     R (>= 4.0.0)                                       \n",
              "graphics    NA                                                 \n",
              "grDevices   NA                                                 \n",
              "grid        NA                                                 \n",
              "KernSmooth  R (>= 2.5.0), stats                                \n",
              "lattice     R (>= 3.0.0)                                       \n",
              "MASS        R (>= 3.3.0), grDevices, graphics, stats, utils    \n",
              "Matrix      R (>= 3.5.0)                                       \n",
              "methods     NA                                                 \n",
              "mgcv        R (>= 3.6.0), nlme (>= 3.1-64)                     \n",
              "nlme        R (>= 3.4.0)                                       \n",
              "nnet        R (>= 3.0.0), stats, utils                         \n",
              "parallel    NA                                                 \n",
              "rpart       R (>= 2.15.0), graphics, stats, grDevices          \n",
              "spatial     R (>= 3.0.0), graphics, stats, utils               \n",
              "splines     NA                                                 \n",
              "stats       NA                                                 \n",
              "stats4      NA                                                 \n",
              "survival    R (>= 3.5.0)                                       \n",
              "tcltk       NA                                                 \n",
              "tools       NA                                                 \n",
              "utils       NA                                                 "
            ],
            "text/latex": "A matrix: 156 × 4 of type chr\n\\begin{tabular}{r|llll}\n  & Package & Version & Priority & Depends\\\\\n\\hline\n\tIRdisplay & IRdisplay   & 1.0    & NA & R (>= 3.0.1)                                       \\\\\n\tIRkernel & IRkernel    & 1.2    & NA & R (>= 3.2.0)                                       \\\\\n\tpbdZMQ & pbdZMQ      & 0.3-5  & NA & R (>= 3.5.0)                                       \\\\\n\trepr & repr        & 1.1.3  & NA & R (>= 3.0.1)                                       \\\\\n\taskpass & askpass     & 1.1    & NA & NA                                                 \\\\\n\tassertthat & assertthat  & 0.2.1  & NA & NA                                                 \\\\\n\tbackports & backports   & 1.2.1  & NA & R (>= 3.0.0)                                       \\\\\n\tbase64enc & base64enc   & 0.1-3  & NA & R (>= 2.9.0)                                       \\\\\n\tbit & bit         & 4.0.4  & NA & R (>= 2.9.2)                                       \\\\\n\tbit64 & bit64       & 4.0.5  & NA & R (>= 3.0.1), bit (>= 4.0.0), utils, methods, stats\\\\\n\tblob & blob        & 1.2.2  & NA & NA                                                 \\\\\n\tbrew & brew        & 1.0-6  & NA & NA                                                 \\\\\n\tbrio & brio        & 1.1.2  & NA & NA                                                 \\\\\n\tbroom & broom       & 0.7.9  & NA & R (>= 3.1)                                         \\\\\n\tcachem & cachem      & 1.0.6  & NA & NA                                                 \\\\\n\tcallr & callr       & 3.7.0  & NA & NA                                                 \\\\\n\tcellranger & cellranger  & 1.1.0  & NA & R (>= 3.0.0)                                       \\\\\n\tcli & cli         & 3.0.1  & NA & R (>= 2.10)                                        \\\\\n\tclipr & clipr       & 0.7.1  & NA & NA                                                 \\\\\n\tcolorspace & colorspace  & 2.0-2  & NA & R (>= 3.0.0), methods                              \\\\\n\tcommonmark & commonmark  & 1.7    & NA & NA                                                 \\\\\n\tcpp11 & cpp11       & 0.3.1  & NA & NA                                                 \\\\\n\tcrayon & crayon      & 1.4.1  & NA & NA                                                 \\\\\n\tcredentials & credentials & 1.3.1  & NA & NA                                                 \\\\\n\tcurl & curl        & 4.3.2  & NA & R (>= 3.0.0)                                       \\\\\n\tdata.table & data.table  & 1.14.0 & NA & R (>= 3.1.0)                                       \\\\\n\tDBI & DBI         & 1.1.1  & NA & methods, R (>= 3.0.0)                              \\\\\n\tdbplyr & dbplyr      & 2.1.1  & NA & R (>= 3.1)                                         \\\\\n\tdesc & desc        & 1.3.0  & NA & R (>= 3.1.0)                                       \\\\\n\tdevtools & devtools    & 2.4.2  & NA & R (>= 3.0.2), usethis (>= 2.0.1)                   \\\\\n\t⋮ & ⋮ & ⋮ & ⋮ & ⋮\\\\\n\tzip & zip        & 2.2.0   & NA          & NA                                             \\\\\n\tbase & base       & 4.1.1   & base        & NA                                             \\\\\n\tboot & boot       & 1.3-28  & recommended & R (>= 3.0.0), graphics, stats                  \\\\\n\tclass & class      & 7.3-19  & recommended & R (>= 3.0.0), stats, utils                     \\\\\n\tcluster & cluster    & 2.1.2   & recommended & R (>= 3.4.0)                                   \\\\\n\tcodetools & codetools  & 0.2-18  & recommended & R (>= 2.1)                                     \\\\\n\tcompiler & compiler   & 4.1.1   & base        & NA                                             \\\\\n\tdatasets & datasets   & 4.1.1   & base        & NA                                             \\\\\n\tforeign & foreign    & 0.8-81  & recommended & R (>= 4.0.0)                                   \\\\\n\tgraphics & graphics   & 4.1.1   & base        & NA                                             \\\\\n\tgrDevices & grDevices  & 4.1.1   & base        & NA                                             \\\\\n\tgrid & grid       & 4.1.1   & base        & NA                                             \\\\\n\tKernSmooth & KernSmooth & 2.23-20 & recommended & R (>= 2.5.0), stats                            \\\\\n\tlattice & lattice    & 0.20-44 & recommended & R (>= 3.0.0)                                   \\\\\n\tMASS & MASS       & 7.3-54  & recommended & R (>= 3.3.0), grDevices, graphics, stats, utils\\\\\n\tMatrix & Matrix     & 1.3-4   & recommended & R (>= 3.5.0)                                   \\\\\n\tmethods & methods    & 4.1.1   & base        & NA                                             \\\\\n\tmgcv & mgcv       & 1.8-36  & recommended & R (>= 3.6.0), nlme (>= 3.1-64)                 \\\\\n\tnlme & nlme       & 3.1-152 & recommended & R (>= 3.4.0)                                   \\\\\n\tnnet & nnet       & 7.3-16  & recommended & R (>= 3.0.0), stats, utils                     \\\\\n\tparallel & parallel   & 4.1.1   & base        & NA                                             \\\\\n\trpart & rpart      & 4.1-15  & recommended & R (>= 2.15.0), graphics, stats, grDevices      \\\\\n\tspatial & spatial    & 7.3-14  & recommended & R (>= 3.0.0), graphics, stats, utils           \\\\\n\tsplines & splines    & 4.1.1   & base        & NA                                             \\\\\n\tstats & stats      & 4.1.1   & base        & NA                                             \\\\\n\tstats4 & stats4     & 4.1.1   & base        & NA                                             \\\\\n\tsurvival & survival   & 3.2-13  & recommended & R (>= 3.5.0)                                   \\\\\n\ttcltk & tcltk      & 4.1.1   & base        & NA                                             \\\\\n\ttools & tools      & 4.1.1   & base        & NA                                             \\\\\n\tutils & utils      & 4.1.1   & base        & NA                                             \\\\\n\\end{tabular}\n",
            "text/markdown": "\nA matrix: 156 × 4 of type chr\n\n| <!--/--> | Package | Version | Priority | Depends |\n|---|---|---|---|---|\n| IRdisplay | IRdisplay   | 1.0    | NA | R (&gt;= 3.0.1)                                        |\n| IRkernel | IRkernel    | 1.2    | NA | R (&gt;= 3.2.0)                                        |\n| pbdZMQ | pbdZMQ      | 0.3-5  | NA | R (&gt;= 3.5.0)                                        |\n| repr | repr        | 1.1.3  | NA | R (&gt;= 3.0.1)                                        |\n| askpass | askpass     | 1.1    | NA | NA                                                  |\n| assertthat | assertthat  | 0.2.1  | NA | NA                                                  |\n| backports | backports   | 1.2.1  | NA | R (&gt;= 3.0.0)                                        |\n| base64enc | base64enc   | 0.1-3  | NA | R (&gt;= 2.9.0)                                        |\n| bit | bit         | 4.0.4  | NA | R (&gt;= 2.9.2)                                        |\n| bit64 | bit64       | 4.0.5  | NA | R (&gt;= 3.0.1), bit (&gt;= 4.0.0), utils, methods, stats |\n| blob | blob        | 1.2.2  | NA | NA                                                  |\n| brew | brew        | 1.0-6  | NA | NA                                                  |\n| brio | brio        | 1.1.2  | NA | NA                                                  |\n| broom | broom       | 0.7.9  | NA | R (&gt;= 3.1)                                          |\n| cachem | cachem      | 1.0.6  | NA | NA                                                  |\n| callr | callr       | 3.7.0  | NA | NA                                                  |\n| cellranger | cellranger  | 1.1.0  | NA | R (&gt;= 3.0.0)                                        |\n| cli | cli         | 3.0.1  | NA | R (&gt;= 2.10)                                         |\n| clipr | clipr       | 0.7.1  | NA | NA                                                  |\n| colorspace | colorspace  | 2.0-2  | NA | R (&gt;= 3.0.0), methods                               |\n| commonmark | commonmark  | 1.7    | NA | NA                                                  |\n| cpp11 | cpp11       | 0.3.1  | NA | NA                                                  |\n| crayon | crayon      | 1.4.1  | NA | NA                                                  |\n| credentials | credentials | 1.3.1  | NA | NA                                                  |\n| curl | curl        | 4.3.2  | NA | R (&gt;= 3.0.0)                                        |\n| data.table | data.table  | 1.14.0 | NA | R (&gt;= 3.1.0)                                        |\n| DBI | DBI         | 1.1.1  | NA | methods, R (&gt;= 3.0.0)                               |\n| dbplyr | dbplyr      | 2.1.1  | NA | R (&gt;= 3.1)                                          |\n| desc | desc        | 1.3.0  | NA | R (&gt;= 3.1.0)                                        |\n| devtools | devtools    | 2.4.2  | NA | R (&gt;= 3.0.2), usethis (&gt;= 2.0.1)                    |\n| ⋮ | ⋮ | ⋮ | ⋮ | ⋮ |\n| zip | zip        | 2.2.0   | NA          | NA                                              |\n| base | base       | 4.1.1   | base        | NA                                              |\n| boot | boot       | 1.3-28  | recommended | R (&gt;= 3.0.0), graphics, stats                   |\n| class | class      | 7.3-19  | recommended | R (&gt;= 3.0.0), stats, utils                      |\n| cluster | cluster    | 2.1.2   | recommended | R (&gt;= 3.4.0)                                    |\n| codetools | codetools  | 0.2-18  | recommended | R (&gt;= 2.1)                                      |\n| compiler | compiler   | 4.1.1   | base        | NA                                              |\n| datasets | datasets   | 4.1.1   | base        | NA                                              |\n| foreign | foreign    | 0.8-81  | recommended | R (&gt;= 4.0.0)                                    |\n| graphics | graphics   | 4.1.1   | base        | NA                                              |\n| grDevices | grDevices  | 4.1.1   | base        | NA                                              |\n| grid | grid       | 4.1.1   | base        | NA                                              |\n| KernSmooth | KernSmooth | 2.23-20 | recommended | R (&gt;= 2.5.0), stats                             |\n| lattice | lattice    | 0.20-44 | recommended | R (&gt;= 3.0.0)                                    |\n| MASS | MASS       | 7.3-54  | recommended | R (&gt;= 3.3.0), grDevices, graphics, stats, utils |\n| Matrix | Matrix     | 1.3-4   | recommended | R (&gt;= 3.5.0)                                    |\n| methods | methods    | 4.1.1   | base        | NA                                              |\n| mgcv | mgcv       | 1.8-36  | recommended | R (&gt;= 3.6.0), nlme (&gt;= 3.1-64)                  |\n| nlme | nlme       | 3.1-152 | recommended | R (&gt;= 3.4.0)                                    |\n| nnet | nnet       | 7.3-16  | recommended | R (&gt;= 3.0.0), stats, utils                      |\n| parallel | parallel   | 4.1.1   | base        | NA                                              |\n| rpart | rpart      | 4.1-15  | recommended | R (&gt;= 2.15.0), graphics, stats, grDevices       |\n| spatial | spatial    | 7.3-14  | recommended | R (&gt;= 3.0.0), graphics, stats, utils            |\n| splines | splines    | 4.1.1   | base        | NA                                              |\n| stats | stats      | 4.1.1   | base        | NA                                              |\n| stats4 | stats4     | 4.1.1   | base        | NA                                              |\n| survival | survival   | 3.2-13  | recommended | R (&gt;= 3.5.0)                                    |\n| tcltk | tcltk      | 4.1.1   | base        | NA                                              |\n| tools | tools      | 4.1.1   | base        | NA                                              |\n| utils | utils      | 4.1.1   | base        | NA                                              |\n\n",
            "text/html": [
              "<table class=\"dataframe\">\n",
              "<caption>A matrix: 156 × 4 of type chr</caption>\n",
              "<thead>\n",
              "\t<tr><th></th><th scope=col>Package</th><th scope=col>Version</th><th scope=col>Priority</th><th scope=col>Depends</th></tr>\n",
              "</thead>\n",
              "<tbody>\n",
              "\t<tr><th scope=row>IRdisplay</th><td><span style=white-space:pre-wrap>IRdisplay  </span></td><td><span style=white-space:pre-wrap>1.0   </span></td><td>NA</td><td><span style=white-space:pre-wrap>R (&gt;= 3.0.1)                                       </span></td></tr>\n",
              "\t<tr><th scope=row>IRkernel</th><td><span style=white-space:pre-wrap>IRkernel   </span></td><td><span style=white-space:pre-wrap>1.2   </span></td><td>NA</td><td><span style=white-space:pre-wrap>R (&gt;= 3.2.0)                                       </span></td></tr>\n",
              "\t<tr><th scope=row>pbdZMQ</th><td><span style=white-space:pre-wrap>pbdZMQ     </span></td><td>0.3-5 </td><td>NA</td><td><span style=white-space:pre-wrap>R (&gt;= 3.5.0)                                       </span></td></tr>\n",
              "\t<tr><th scope=row>repr</th><td><span style=white-space:pre-wrap>repr       </span></td><td>1.1.3 </td><td>NA</td><td><span style=white-space:pre-wrap>R (&gt;= 3.0.1)                                       </span></td></tr>\n",
              "\t<tr><th scope=row>askpass</th><td>askpass    </td><td>1.1   </td><td>NA</td><td>NA                                                 </td></tr>\n",
              "\t<tr><th scope=row>assertthat</th><td>assertthat </td><td>0.2.1 </td><td>NA</td><td>NA                                                 </td></tr>\n",
              "\t<tr><th scope=row>backports</th><td><span style=white-space:pre-wrap>backports  </span></td><td>1.2.1 </td><td>NA</td><td><span style=white-space:pre-wrap>R (&gt;= 3.0.0)                                       </span></td></tr>\n",
              "\t<tr><th scope=row>base64enc</th><td><span style=white-space:pre-wrap>base64enc  </span></td><td>0.1-3 </td><td>NA</td><td><span style=white-space:pre-wrap>R (&gt;= 2.9.0)                                       </span></td></tr>\n",
              "\t<tr><th scope=row>bit</th><td><span style=white-space:pre-wrap>bit        </span></td><td>4.0.4 </td><td>NA</td><td><span style=white-space:pre-wrap>R (&gt;= 2.9.2)                                       </span></td></tr>\n",
              "\t<tr><th scope=row>bit64</th><td><span style=white-space:pre-wrap>bit64      </span></td><td>4.0.5 </td><td>NA</td><td>R (&gt;= 3.0.1), bit (&gt;= 4.0.0), utils, methods, stats</td></tr>\n",
              "\t<tr><th scope=row>blob</th><td>blob       </td><td>1.2.2 </td><td>NA</td><td>NA                                                 </td></tr>\n",
              "\t<tr><th scope=row>brew</th><td>brew       </td><td>1.0-6 </td><td>NA</td><td>NA                                                 </td></tr>\n",
              "\t<tr><th scope=row>brio</th><td>brio       </td><td>1.1.2 </td><td>NA</td><td>NA                                                 </td></tr>\n",
              "\t<tr><th scope=row>broom</th><td><span style=white-space:pre-wrap>broom      </span></td><td>0.7.9 </td><td>NA</td><td><span style=white-space:pre-wrap>R (&gt;= 3.1)                                         </span></td></tr>\n",
              "\t<tr><th scope=row>cachem</th><td>cachem     </td><td>1.0.6 </td><td>NA</td><td>NA                                                 </td></tr>\n",
              "\t<tr><th scope=row>callr</th><td>callr      </td><td>3.7.0 </td><td>NA</td><td>NA                                                 </td></tr>\n",
              "\t<tr><th scope=row>cellranger</th><td>cellranger </td><td>1.1.0 </td><td>NA</td><td><span style=white-space:pre-wrap>R (&gt;= 3.0.0)                                       </span></td></tr>\n",
              "\t<tr><th scope=row>cli</th><td><span style=white-space:pre-wrap>cli        </span></td><td>3.0.1 </td><td>NA</td><td><span style=white-space:pre-wrap>R (&gt;= 2.10)                                        </span></td></tr>\n",
              "\t<tr><th scope=row>clipr</th><td>clipr      </td><td>0.7.1 </td><td>NA</td><td>NA                                                 </td></tr>\n",
              "\t<tr><th scope=row>colorspace</th><td>colorspace </td><td>2.0-2 </td><td>NA</td><td><span style=white-space:pre-wrap>R (&gt;= 3.0.0), methods                              </span></td></tr>\n",
              "\t<tr><th scope=row>commonmark</th><td>commonmark </td><td>1.7   </td><td>NA</td><td>NA                                                 </td></tr>\n",
              "\t<tr><th scope=row>cpp11</th><td>cpp11      </td><td>0.3.1 </td><td>NA</td><td>NA                                                 </td></tr>\n",
              "\t<tr><th scope=row>crayon</th><td>crayon     </td><td>1.4.1 </td><td>NA</td><td>NA                                                 </td></tr>\n",
              "\t<tr><th scope=row>credentials</th><td>credentials</td><td>1.3.1 </td><td>NA</td><td>NA                                                 </td></tr>\n",
              "\t<tr><th scope=row>curl</th><td><span style=white-space:pre-wrap>curl       </span></td><td>4.3.2 </td><td>NA</td><td><span style=white-space:pre-wrap>R (&gt;= 3.0.0)                                       </span></td></tr>\n",
              "\t<tr><th scope=row>data.table</th><td>data.table </td><td>1.14.0</td><td>NA</td><td><span style=white-space:pre-wrap>R (&gt;= 3.1.0)                                       </span></td></tr>\n",
              "\t<tr><th scope=row>DBI</th><td><span style=white-space:pre-wrap>DBI        </span></td><td>1.1.1 </td><td>NA</td><td><span style=white-space:pre-wrap>methods, R (&gt;= 3.0.0)                              </span></td></tr>\n",
              "\t<tr><th scope=row>dbplyr</th><td><span style=white-space:pre-wrap>dbplyr     </span></td><td>2.1.1 </td><td>NA</td><td><span style=white-space:pre-wrap>R (&gt;= 3.1)                                         </span></td></tr>\n",
              "\t<tr><th scope=row>desc</th><td><span style=white-space:pre-wrap>desc       </span></td><td>1.3.0 </td><td>NA</td><td><span style=white-space:pre-wrap>R (&gt;= 3.1.0)                                       </span></td></tr>\n",
              "\t<tr><th scope=row>devtools</th><td><span style=white-space:pre-wrap>devtools   </span></td><td>2.4.2 </td><td>NA</td><td><span style=white-space:pre-wrap>R (&gt;= 3.0.2), usethis (&gt;= 2.0.1)                   </span></td></tr>\n",
              "\t<tr><th scope=row>⋮</th><td>⋮</td><td>⋮</td><td>⋮</td><td>⋮</td></tr>\n",
              "\t<tr><th scope=row>zip</th><td>zip       </td><td>2.2.0  </td><td>NA         </td><td>NA                                             </td></tr>\n",
              "\t<tr><th scope=row>base</th><td>base      </td><td>4.1.1  </td><td>base       </td><td>NA                                             </td></tr>\n",
              "\t<tr><th scope=row>boot</th><td><span style=white-space:pre-wrap>boot      </span></td><td>1.3-28 </td><td>recommended</td><td><span style=white-space:pre-wrap>R (&gt;= 3.0.0), graphics, stats                  </span></td></tr>\n",
              "\t<tr><th scope=row>class</th><td><span style=white-space:pre-wrap>class     </span></td><td>7.3-19 </td><td>recommended</td><td><span style=white-space:pre-wrap>R (&gt;= 3.0.0), stats, utils                     </span></td></tr>\n",
              "\t<tr><th scope=row>cluster</th><td><span style=white-space:pre-wrap>cluster   </span></td><td><span style=white-space:pre-wrap>2.1.2  </span></td><td>recommended</td><td><span style=white-space:pre-wrap>R (&gt;= 3.4.0)                                   </span></td></tr>\n",
              "\t<tr><th scope=row>codetools</th><td>codetools </td><td>0.2-18 </td><td>recommended</td><td><span style=white-space:pre-wrap>R (&gt;= 2.1)                                     </span></td></tr>\n",
              "\t<tr><th scope=row>compiler</th><td>compiler  </td><td>4.1.1  </td><td>base       </td><td>NA                                             </td></tr>\n",
              "\t<tr><th scope=row>datasets</th><td>datasets  </td><td>4.1.1  </td><td>base       </td><td>NA                                             </td></tr>\n",
              "\t<tr><th scope=row>foreign</th><td><span style=white-space:pre-wrap>foreign   </span></td><td>0.8-81 </td><td>recommended</td><td><span style=white-space:pre-wrap>R (&gt;= 4.0.0)                                   </span></td></tr>\n",
              "\t<tr><th scope=row>graphics</th><td>graphics  </td><td>4.1.1  </td><td>base       </td><td>NA                                             </td></tr>\n",
              "\t<tr><th scope=row>grDevices</th><td>grDevices </td><td>4.1.1  </td><td>base       </td><td>NA                                             </td></tr>\n",
              "\t<tr><th scope=row>grid</th><td>grid      </td><td>4.1.1  </td><td>base       </td><td>NA                                             </td></tr>\n",
              "\t<tr><th scope=row>KernSmooth</th><td>KernSmooth</td><td>2.23-20</td><td>recommended</td><td><span style=white-space:pre-wrap>R (&gt;= 2.5.0), stats                            </span></td></tr>\n",
              "\t<tr><th scope=row>lattice</th><td><span style=white-space:pre-wrap>lattice   </span></td><td>0.20-44</td><td>recommended</td><td><span style=white-space:pre-wrap>R (&gt;= 3.0.0)                                   </span></td></tr>\n",
              "\t<tr><th scope=row>MASS</th><td><span style=white-space:pre-wrap>MASS      </span></td><td>7.3-54 </td><td>recommended</td><td>R (&gt;= 3.3.0), grDevices, graphics, stats, utils</td></tr>\n",
              "\t<tr><th scope=row>Matrix</th><td><span style=white-space:pre-wrap>Matrix    </span></td><td><span style=white-space:pre-wrap>1.3-4  </span></td><td>recommended</td><td><span style=white-space:pre-wrap>R (&gt;= 3.5.0)                                   </span></td></tr>\n",
              "\t<tr><th scope=row>methods</th><td>methods   </td><td>4.1.1  </td><td>base       </td><td>NA                                             </td></tr>\n",
              "\t<tr><th scope=row>mgcv</th><td><span style=white-space:pre-wrap>mgcv      </span></td><td>1.8-36 </td><td>recommended</td><td><span style=white-space:pre-wrap>R (&gt;= 3.6.0), nlme (&gt;= 3.1-64)                 </span></td></tr>\n",
              "\t<tr><th scope=row>nlme</th><td><span style=white-space:pre-wrap>nlme      </span></td><td>3.1-152</td><td>recommended</td><td><span style=white-space:pre-wrap>R (&gt;= 3.4.0)                                   </span></td></tr>\n",
              "\t<tr><th scope=row>nnet</th><td><span style=white-space:pre-wrap>nnet      </span></td><td>7.3-16 </td><td>recommended</td><td><span style=white-space:pre-wrap>R (&gt;= 3.0.0), stats, utils                     </span></td></tr>\n",
              "\t<tr><th scope=row>parallel</th><td>parallel  </td><td>4.1.1  </td><td>base       </td><td>NA                                             </td></tr>\n",
              "\t<tr><th scope=row>rpart</th><td><span style=white-space:pre-wrap>rpart     </span></td><td>4.1-15 </td><td>recommended</td><td><span style=white-space:pre-wrap>R (&gt;= 2.15.0), graphics, stats, grDevices      </span></td></tr>\n",
              "\t<tr><th scope=row>spatial</th><td><span style=white-space:pre-wrap>spatial   </span></td><td>7.3-14 </td><td>recommended</td><td><span style=white-space:pre-wrap>R (&gt;= 3.0.0), graphics, stats, utils           </span></td></tr>\n",
              "\t<tr><th scope=row>splines</th><td>splines   </td><td>4.1.1  </td><td>base       </td><td>NA                                             </td></tr>\n",
              "\t<tr><th scope=row>stats</th><td>stats     </td><td>4.1.1  </td><td>base       </td><td>NA                                             </td></tr>\n",
              "\t<tr><th scope=row>stats4</th><td>stats4    </td><td>4.1.1  </td><td>base       </td><td>NA                                             </td></tr>\n",
              "\t<tr><th scope=row>survival</th><td><span style=white-space:pre-wrap>survival  </span></td><td>3.2-13 </td><td>recommended</td><td><span style=white-space:pre-wrap>R (&gt;= 3.5.0)                                   </span></td></tr>\n",
              "\t<tr><th scope=row>tcltk</th><td>tcltk     </td><td>4.1.1  </td><td>base       </td><td>NA                                             </td></tr>\n",
              "\t<tr><th scope=row>tools</th><td>tools     </td><td>4.1.1  </td><td>base       </td><td>NA                                             </td></tr>\n",
              "\t<tr><th scope=row>utils</th><td>utils     </td><td>4.1.1  </td><td>base       </td><td>NA                                             </td></tr>\n",
              "</tbody>\n",
              "</table>\n"
            ]
          },
          "metadata": {}
        }
      ]
    },
    {
      "cell_type": "code",
      "metadata": {
        "id": "y-RZLKL22BT1"
      },
      "source": [
        "library()"
      ],
      "execution_count": 11,
      "outputs": []
    },
    {
      "cell_type": "code",
      "metadata": {
        "colab": {
          "base_uri": "https://localhost:8080/"
        },
        "id": "h5aHjrSt1fVn",
        "outputId": "0e6e3472-7e2c-4c93-d082-e195bc7b80c4"
      },
      "source": [
        "install.packages(\"fpp3\")"
      ],
      "execution_count": 12,
      "outputs": [
        {
          "output_type": "stream",
          "name": "stderr",
          "text": [
            "Installing package into ‘/usr/local/lib/R/site-library’\n",
            "(as ‘lib’ is unspecified)\n",
            "\n",
            "also installing the dependencies ‘numDeriv’, ‘warp’, ‘BH’, ‘distributional’, ‘progressr’, ‘slider’, ‘anytime’, ‘fable’, ‘fabletools’, ‘feasts’, ‘tsibble’, ‘tsibbledata’, ‘urca’\n",
            "\n",
            "\n"
          ]
        }
      ]
    },
    {
      "cell_type": "markdown",
      "metadata": {
        "id": "1TQbc-su3mM9"
      },
      "source": [
        "The predictability of an event or a quantity depends on several factors including:\n",
        "\n",
        "* how well we understand the factors that contribute to it;\n",
        "* how much data is available;\n",
        "* how similar the future is to the past;\n",
        "* whether the forecasts can affect the thing we are trying to forecast.\""
      ]
    },
    {
      "cell_type": "code",
      "metadata": {
        "colab": {
          "base_uri": "https://localhost:8080/",
          "height": 94
        },
        "id": "c_CyDBHA2rS2",
        "outputId": "7af08a8f-a623-44cb-bfe6-ff39ee74de91"
      },
      "source": [
        "search(\"fpp3\")"
      ],
      "execution_count": 13,
      "outputs": [
        {
          "output_type": "error",
          "ename": "ERROR",
          "evalue": "ignored",
          "traceback": [
            "Error in search(\"fpp3\"): unused argument (\"fpp3\")\nTraceback:\n"
          ]
        }
      ]
    },
    {
      "cell_type": "markdown",
      "metadata": {
        "id": "W_PSAWG99EwD"
      },
      "source": [
        "Preface\n",
        "1 Getting started\n",
        "\n",
        "1.1 What can be forecast?\n",
        "\n",
        "1.2 Forecasting, goals and planning\n",
        "\n",
        "1.3 Determining what to forecast\n",
        "\n",
        "1.4 Forecasting data and methods\n",
        "\n",
        "1.5 Some case studies\n",
        "\n",
        "1.6 The basic steps in a forecasting task\n",
        "\n",
        "1.7 The statistical forecasting perspective\n",
        "\n",
        "1.8 Exercises\n",
        "\n",
        "1.9 Further reading\n",
        "\n",
        "2 Time series graphics\n",
        "\n",
        "\n",
        "3 Time series decomposition\n",
        "\n",
        "4 Time series features\n",
        "\n",
        "5 The forecaster’s toolbox\n",
        "\n",
        "6 Judgmental forecasts\n",
        "\n",
        "7 Time series regression models\n",
        "\n",
        "8 Exponential smoothing\n",
        "\n",
        "9 ARIMA models\n",
        "\n",
        "10 Dynamic regression models\n",
        "\n",
        "11 Forecasting hierarchical and grouped time series\n",
        "\n",
        "12 Advanced forecasting methods\n",
        "\n",
        "13 Some practical forecasting issues\n",
        "\n",
        "Bibliography"
      ]
    },
    {
      "cell_type": "markdown",
      "metadata": {
        "id": "yhVti3qT5VUS"
      },
      "source": [
        "We have a good idea of the contributing factors: electricity demand is driven largely by temperatures, with smaller effects for calendar variation such as holidays, and economic conditions.\n",
        "There is usually several years of data on electricity demand available, and many decades of data on weather conditions.\n",
        "For short-term forecasting (up to a few weeks), it is safe to assume that demand behaviour will be similar to what has been seen in the past.\n",
        "For most residential users, the price of electricity is not dependent on demand, and so the demand forecasts have little or no effect on consumer behaviour."
      ]
    },
    {
      "cell_type": "markdown",
      "metadata": {
        "id": "1GnWbMla6fpN"
      },
      "source": [
        "It is also necessary to consider the forecasting horizon. Will forecasts be required for one month in advance, for 6 months, or for ten years?"
      ]
    },
    {
      "cell_type": "markdown",
      "metadata": {
        "id": "e6qC-ydv6jmj"
      },
      "source": [
        "How frequently are forecasts required? "
      ]
    },
    {
      "cell_type": "markdown",
      "metadata": {
        "id": "ev3sFpUC-1Pt"
      },
      "source": [
        "We will only consider time series that are observed at regular intervals of time (e.g., hourly, daily, weekly, monthly, quarterly, annually). Irregularly spaced time series are not considered."
      ]
    },
    {
      "cell_type": "code",
      "metadata": {
        "id": "s6kLwAA73VHk"
      },
      "source": [
        "Decomposition methods are helpful for studying the trend and seasonal patterns in a time series.[1] Popular time series models used for forecasting include exponential smoothing models and ARIMA models. [1]"
      ],
      "execution_count": null,
      "outputs": []
    },
    {
      "cell_type": "markdown",
      "metadata": {
        "id": "lr2TdTlV_C3f"
      },
      "source": [
        "Explanatory: predictor variables might be of the form\n",
        "\n",
        "ElectricityDemand = f(current temperature, strength of economy, population,\n",
        "time of day, day of week, error\n",
        ")\n"
      ]
    },
    {
      "cell_type": "markdown",
      "metadata": {
        "id": "QGmIPerUAcff"
      },
      "source": [
        "$ED_{t+1} = f(ED_t, ED_{t-1}, ED_{t-2}, ED_{t-3} \n",
        ",  ... , error ) $"
      ]
    },
    {
      "cell_type": "markdown",
      "metadata": {
        "id": "vdvjPQRgCXa2"
      },
      "source": [
        "where  \n",
        "t\n",
        "  is the present hour,  \n",
        "t\n",
        "+\n",
        "1\n",
        "  is the next hour,  \n",
        "t\n",
        "−\n",
        "1\n",
        "  is the previous hour,  \n",
        "t\n",
        "−\n",
        "2\n",
        "  is two hours ago, and so on. \n",
        "\n",
        "  Here, prediction of the future is based on past values of a variable, but not on external variables that may affect the system. Again, the “error” term on the right allows for random variation and the effects of relevant variables that are not included in the model."
      ]
    }
  ]
}