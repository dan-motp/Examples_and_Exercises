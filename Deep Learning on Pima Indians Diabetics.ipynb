{
 "cells": [
  {
   "cell_type": "markdown",
   "metadata": {},
   "source": [
    "# Some exercises with Keras using a Kaggle dataset\n",
    "\n",
    "For computational reasons, let's use this dataset which describes the medical records for Pima Indians and whether or not each patient will have an onset of diabetes within five years [more info](https://www.kaggle.com/kumargh/pimaindiansdiabetescsv)."
   ]
  },
  {
   "cell_type": "code",
   "execution_count": 1,
   "metadata": {},
   "outputs": [
    {
     "name": "stderr",
     "output_type": "stream",
     "text": [
      "Using TensorFlow backend.\n"
     ]
    }
   ],
   "source": [
    "from keras.models import Sequential\n",
    "from keras.layers import Dense\n",
    "from keras.wrappers.scikit_learn import KerasClassifier\n",
    "import numpy as np"
   ]
  },
  {
   "cell_type": "code",
   "execution_count": 2,
   "metadata": {},
   "outputs": [],
   "source": [
    "# fix random seed for reproducibility\n",
    "seed = 7\n",
    "np.random.seed(seed)"
   ]
  },
  {
   "cell_type": "code",
   "execution_count": 4,
   "metadata": {},
   "outputs": [],
   "source": [
    "# load pima indians dataset\n",
    "dataset = np.loadtxt(\"data/data_pima_indians_diabetes.csv\", delimiter=\",\")\n",
    "# split into input (X) and output (Y) variables\n",
    "X = dataset[:,0:8]\n",
    "Y = dataset[:,8]"
   ]
  },
  {
   "cell_type": "code",
   "execution_count": 5,
   "metadata": {},
   "outputs": [
    {
     "data": {
      "text/plain": [
       "array([[6.000e+00, 1.480e+02, 7.200e+01, 3.500e+01, 0.000e+00, 3.360e+01,\n",
       "        6.270e-01, 5.000e+01, 1.000e+00],\n",
       "       [1.000e+00, 8.500e+01, 6.600e+01, 2.900e+01, 0.000e+00, 2.660e+01,\n",
       "        3.510e-01, 3.100e+01, 0.000e+00],\n",
       "       [8.000e+00, 1.830e+02, 6.400e+01, 0.000e+00, 0.000e+00, 2.330e+01,\n",
       "        6.720e-01, 3.200e+01, 1.000e+00],\n",
       "       [1.000e+00, 8.900e+01, 6.600e+01, 2.300e+01, 9.400e+01, 2.810e+01,\n",
       "        1.670e-01, 2.100e+01, 0.000e+00],\n",
       "       [0.000e+00, 1.370e+02, 4.000e+01, 3.500e+01, 1.680e+02, 4.310e+01,\n",
       "        2.288e+00, 3.300e+01, 1.000e+00]])"
      ]
     },
     "execution_count": 5,
     "metadata": {},
     "output_type": "execute_result"
    }
   ],
   "source": [
    "dataset[:5]"
   ]
  },
  {
   "cell_type": "code",
   "execution_count": 6,
   "metadata": {},
   "outputs": [
    {
     "data": {
      "text/plain": [
       "array([[6.000e+00, 1.480e+02, 7.200e+01, 3.500e+01, 0.000e+00, 3.360e+01,\n",
       "        6.270e-01, 5.000e+01],\n",
       "       [1.000e+00, 8.500e+01, 6.600e+01, 2.900e+01, 0.000e+00, 2.660e+01,\n",
       "        3.510e-01, 3.100e+01],\n",
       "       [8.000e+00, 1.830e+02, 6.400e+01, 0.000e+00, 0.000e+00, 2.330e+01,\n",
       "        6.720e-01, 3.200e+01],\n",
       "       [1.000e+00, 8.900e+01, 6.600e+01, 2.300e+01, 9.400e+01, 2.810e+01,\n",
       "        1.670e-01, 2.100e+01],\n",
       "       [0.000e+00, 1.370e+02, 4.000e+01, 3.500e+01, 1.680e+02, 4.310e+01,\n",
       "        2.288e+00, 3.300e+01]])"
      ]
     },
     "execution_count": 6,
     "metadata": {},
     "output_type": "execute_result"
    }
   ],
   "source": [
    "X[:5]"
   ]
  },
  {
   "cell_type": "code",
   "execution_count": 7,
   "metadata": {},
   "outputs": [
    {
     "data": {
      "text/plain": [
       "array([1., 0., 1., 0., 1.])"
      ]
     },
     "execution_count": 7,
     "metadata": {},
     "output_type": "execute_result"
    }
   ],
   "source": [
    "Y[:5]"
   ]
  },
  {
   "cell_type": "code",
   "execution_count": 8,
   "metadata": {},
   "outputs": [],
   "source": [
    "# Function to create model, required for KerasClassifier\n",
    "def create_model(optimizer='rmsprop', init='glorot_uniform'):\n",
    "    # create model\n",
    "    model = Sequential()\n",
    "    model.add(Dense(12, input_dim=8, init=init, activation='relu'))\n",
    "    model.add(Dense(8, init=init, activation='relu'))\n",
    "    model.add(Dense(1, init=init, activation='sigmoid'))\n",
    "    \n",
    "    # Compile model\n",
    "    model.compile(loss='binary_crossentropy', optimizer=optimizer, metrics=['accuracy'])\n",
    "    return model"
   ]
  },
  {
   "cell_type": "code",
   "execution_count": 9,
   "metadata": {
    "scrolled": true
   },
   "outputs": [
    {
     "name": "stderr",
     "output_type": "stream",
     "text": [
      "<ipython-input-8-21c09937675e>:5: UserWarning: Update your `Dense` call to the Keras 2 API: `Dense(12, input_dim=8, activation=\"relu\", kernel_initializer=\"glorot_uniform\")`\n",
      "  model.add(Dense(12, input_dim=8, init=init, activation='relu'))\n",
      "<ipython-input-8-21c09937675e>:6: UserWarning: Update your `Dense` call to the Keras 2 API: `Dense(8, activation=\"relu\", kernel_initializer=\"glorot_uniform\")`\n",
      "  model.add(Dense(8, init=init, activation='relu'))\n",
      "<ipython-input-8-21c09937675e>:7: UserWarning: Update your `Dense` call to the Keras 2 API: `Dense(1, activation=\"sigmoid\", kernel_initializer=\"glorot_uniform\")`\n",
      "  model.add(Dense(1, init=init, activation='sigmoid'))\n",
      "<ipython-input-9-811ff480d80f>:3: UserWarning: The `nb_epoch` argument in `fit` has been renamed `epochs`.\n",
      "  history = model.fit(X, Y, validation_split=0.33, nb_epoch=150, batch_size=10)\n"
     ]
    },
    {
     "name": "stdout",
     "output_type": "stream",
     "text": [
      "Train on 514 samples, validate on 254 samples\n",
      "Epoch 1/150\n",
      "514/514 [==============================] - 0s 584us/step - loss: 3.2770 - accuracy: 0.5817 - val_loss: 1.1252 - val_accuracy: 0.5354\n",
      "Epoch 2/150\n",
      "514/514 [==============================] - 0s 117us/step - loss: 0.9837 - accuracy: 0.5895 - val_loss: 1.1768 - val_accuracy: 0.5630\n",
      "Epoch 3/150\n",
      "514/514 [==============================] - 0s 117us/step - loss: 0.8629 - accuracy: 0.6323 - val_loss: 1.0001 - val_accuracy: 0.6142\n",
      "Epoch 4/150\n",
      "514/514 [==============================] - 0s 102us/step - loss: 0.7872 - accuracy: 0.6673 - val_loss: 0.9076 - val_accuracy: 0.6654\n",
      "Epoch 5/150\n",
      "514/514 [==============================] - 0s 108us/step - loss: 0.7711 - accuracy: 0.6459 - val_loss: 0.8165 - val_accuracy: 0.6024\n",
      "Epoch 6/150\n",
      "514/514 [==============================] - 0s 112us/step - loss: 0.7384 - accuracy: 0.6693 - val_loss: 0.9302 - val_accuracy: 0.6417\n",
      "Epoch 7/150\n",
      "514/514 [==============================] - 0s 110us/step - loss: 0.7235 - accuracy: 0.6732 - val_loss: 0.7757 - val_accuracy: 0.6496\n",
      "Epoch 8/150\n",
      "514/514 [==============================] - 0s 116us/step - loss: 0.7118 - accuracy: 0.6654 - val_loss: 0.8500 - val_accuracy: 0.6417\n",
      "Epoch 9/150\n",
      "514/514 [==============================] - 0s 129us/step - loss: 0.6958 - accuracy: 0.6673 - val_loss: 1.0288 - val_accuracy: 0.4331\n",
      "Epoch 10/150\n",
      "514/514 [==============================] - 0s 100us/step - loss: 0.6993 - accuracy: 0.6693 - val_loss: 0.7777 - val_accuracy: 0.6260\n",
      "Epoch 11/150\n",
      "514/514 [==============================] - 0s 106us/step - loss: 0.6885 - accuracy: 0.6809 - val_loss: 1.0870 - val_accuracy: 0.4173\n",
      "Epoch 12/150\n",
      "514/514 [==============================] - 0s 100us/step - loss: 0.6770 - accuracy: 0.6770 - val_loss: 0.7743 - val_accuracy: 0.5748\n",
      "Epoch 13/150\n",
      "514/514 [==============================] - 0s 107us/step - loss: 0.6837 - accuracy: 0.6809 - val_loss: 0.8160 - val_accuracy: 0.6772\n",
      "Epoch 14/150\n",
      "514/514 [==============================] - 0s 114us/step - loss: 0.6753 - accuracy: 0.6790 - val_loss: 0.8675 - val_accuracy: 0.6614\n",
      "Epoch 15/150\n",
      "514/514 [==============================] - 0s 106us/step - loss: 0.6844 - accuracy: 0.6809 - val_loss: 0.6994 - val_accuracy: 0.5827\n",
      "Epoch 16/150\n",
      "514/514 [==============================] - 0s 118us/step - loss: 0.6529 - accuracy: 0.6809 - val_loss: 0.6720 - val_accuracy: 0.6496\n",
      "Epoch 17/150\n",
      "514/514 [==============================] - 0s 104us/step - loss: 0.6576 - accuracy: 0.6848 - val_loss: 0.7048 - val_accuracy: 0.6614\n",
      "Epoch 18/150\n",
      "514/514 [==============================] - 0s 102us/step - loss: 0.6495 - accuracy: 0.7004 - val_loss: 0.6641 - val_accuracy: 0.6535\n",
      "Epoch 19/150\n",
      "514/514 [==============================] - 0s 107us/step - loss: 0.6500 - accuracy: 0.6965 - val_loss: 0.6981 - val_accuracy: 0.6772\n",
      "Epoch 20/150\n",
      "514/514 [==============================] - 0s 105us/step - loss: 0.6307 - accuracy: 0.7004 - val_loss: 0.8458 - val_accuracy: 0.6732\n",
      "Epoch 21/150\n",
      "514/514 [==============================] - 0s 112us/step - loss: 0.6266 - accuracy: 0.7004 - val_loss: 0.6798 - val_accuracy: 0.6220\n",
      "Epoch 22/150\n",
      "514/514 [==============================] - 0s 108us/step - loss: 0.6263 - accuracy: 0.7082 - val_loss: 0.7012 - val_accuracy: 0.5709\n",
      "Epoch 23/150\n",
      "514/514 [==============================] - 0s 111us/step - loss: 0.6215 - accuracy: 0.6732 - val_loss: 0.6248 - val_accuracy: 0.6732\n",
      "Epoch 24/150\n",
      "514/514 [==============================] - 0s 100us/step - loss: 0.6260 - accuracy: 0.7062 - val_loss: 0.6491 - val_accuracy: 0.6457\n",
      "Epoch 25/150\n",
      "514/514 [==============================] - 0s 101us/step - loss: 0.6045 - accuracy: 0.6946 - val_loss: 0.7004 - val_accuracy: 0.6024\n",
      "Epoch 26/150\n",
      "514/514 [==============================] - 0s 111us/step - loss: 0.6058 - accuracy: 0.7218 - val_loss: 0.6363 - val_accuracy: 0.6850\n",
      "Epoch 27/150\n",
      "514/514 [==============================] - 0s 107us/step - loss: 0.5954 - accuracy: 0.6926 - val_loss: 0.7204 - val_accuracy: 0.6339\n",
      "Epoch 28/150\n",
      "514/514 [==============================] - 0s 109us/step - loss: 0.5875 - accuracy: 0.7140 - val_loss: 0.6270 - val_accuracy: 0.6890\n",
      "Epoch 29/150\n",
      "514/514 [==============================] - 0s 113us/step - loss: 0.6022 - accuracy: 0.7121 - val_loss: 0.8355 - val_accuracy: 0.6929\n",
      "Epoch 30/150\n",
      "514/514 [==============================] - 0s 109us/step - loss: 0.6300 - accuracy: 0.7023 - val_loss: 0.6096 - val_accuracy: 0.6811\n",
      "Epoch 31/150\n",
      "514/514 [==============================] - 0s 103us/step - loss: 0.6039 - accuracy: 0.6946 - val_loss: 0.6114 - val_accuracy: 0.7047\n",
      "Epoch 32/150\n",
      "514/514 [==============================] - 0s 108us/step - loss: 0.5887 - accuracy: 0.6984 - val_loss: 0.6293 - val_accuracy: 0.7087\n",
      "Epoch 33/150\n",
      "514/514 [==============================] - 0s 116us/step - loss: 0.5975 - accuracy: 0.7121 - val_loss: 0.6346 - val_accuracy: 0.6457\n",
      "Epoch 34/150\n",
      "514/514 [==============================] - 0s 99us/step - loss: 0.5953 - accuracy: 0.7043 - val_loss: 0.6231 - val_accuracy: 0.7126\n",
      "Epoch 35/150\n",
      "514/514 [==============================] - 0s 100us/step - loss: 0.5966 - accuracy: 0.7062 - val_loss: 0.6415 - val_accuracy: 0.6969\n",
      "Epoch 36/150\n",
      "514/514 [==============================] - 0s 100us/step - loss: 0.5746 - accuracy: 0.7296 - val_loss: 0.6050 - val_accuracy: 0.6929\n",
      "Epoch 37/150\n",
      "514/514 [==============================] - 0s 112us/step - loss: 0.5998 - accuracy: 0.7043 - val_loss: 0.7175 - val_accuracy: 0.5827\n",
      "Epoch 38/150\n",
      "514/514 [==============================] - 0s 108us/step - loss: 0.5972 - accuracy: 0.7043 - val_loss: 0.6621 - val_accuracy: 0.7008\n",
      "Epoch 39/150\n",
      "514/514 [==============================] - 0s 109us/step - loss: 0.5784 - accuracy: 0.7237 - val_loss: 0.7252 - val_accuracy: 0.7047\n",
      "Epoch 40/150\n",
      "514/514 [==============================] - 0s 113us/step - loss: 0.5798 - accuracy: 0.7257 - val_loss: 0.7045 - val_accuracy: 0.7087\n",
      "Epoch 41/150\n",
      "514/514 [==============================] - 0s 128us/step - loss: 0.5837 - accuracy: 0.7121 - val_loss: 0.6217 - val_accuracy: 0.7087\n",
      "Epoch 42/150\n",
      "514/514 [==============================] - 0s 106us/step - loss: 0.5736 - accuracy: 0.7179 - val_loss: 0.6078 - val_accuracy: 0.6890\n",
      "Epoch 43/150\n",
      "514/514 [==============================] - 0s 106us/step - loss: 0.5942 - accuracy: 0.6790 - val_loss: 0.6113 - val_accuracy: 0.6693\n",
      "Epoch 44/150\n",
      "514/514 [==============================] - 0s 103us/step - loss: 0.5720 - accuracy: 0.7296 - val_loss: 0.6109 - val_accuracy: 0.7008\n",
      "Epoch 45/150\n",
      "514/514 [==============================] - 0s 108us/step - loss: 0.5718 - accuracy: 0.7101 - val_loss: 0.5982 - val_accuracy: 0.6693\n",
      "Epoch 46/150\n",
      "514/514 [==============================] - 0s 103us/step - loss: 0.5892 - accuracy: 0.6984 - val_loss: 0.5792 - val_accuracy: 0.7205\n",
      "Epoch 47/150\n",
      "514/514 [==============================] - 0s 102us/step - loss: 0.5617 - accuracy: 0.7354 - val_loss: 0.6185 - val_accuracy: 0.6614\n",
      "Epoch 48/150\n",
      "514/514 [==============================] - 0s 106us/step - loss: 0.5757 - accuracy: 0.7237 - val_loss: 0.5819 - val_accuracy: 0.7087\n",
      "Epoch 49/150\n",
      "514/514 [==============================] - 0s 112us/step - loss: 0.5725 - accuracy: 0.7276 - val_loss: 0.8029 - val_accuracy: 0.5433\n",
      "Epoch 50/150\n",
      "514/514 [==============================] - 0s 109us/step - loss: 0.5803 - accuracy: 0.7062 - val_loss: 0.5934 - val_accuracy: 0.6969\n",
      "Epoch 51/150\n",
      "514/514 [==============================] - 0s 108us/step - loss: 0.5754 - accuracy: 0.7023 - val_loss: 0.5914 - val_accuracy: 0.7126\n",
      "Epoch 52/150\n",
      "514/514 [==============================] - 0s 113us/step - loss: 0.5545 - accuracy: 0.7237 - val_loss: 0.7753 - val_accuracy: 0.5669\n",
      "Epoch 53/150\n",
      "514/514 [==============================] - 0s 110us/step - loss: 0.5670 - accuracy: 0.7218 - val_loss: 0.6680 - val_accuracy: 0.6969\n",
      "Epoch 54/150\n",
      "514/514 [==============================] - 0s 113us/step - loss: 0.5768 - accuracy: 0.7023 - val_loss: 0.7651 - val_accuracy: 0.5512\n",
      "Epoch 55/150\n",
      "514/514 [==============================] - 0s 106us/step - loss: 0.5720 - accuracy: 0.7121 - val_loss: 0.6868 - val_accuracy: 0.6024\n",
      "Epoch 56/150\n",
      "514/514 [==============================] - 0s 106us/step - loss: 0.5657 - accuracy: 0.7198 - val_loss: 0.6313 - val_accuracy: 0.6654\n"
     ]
    },
    {
     "name": "stdout",
     "output_type": "stream",
     "text": [
      "Epoch 57/150\n",
      "514/514 [==============================] - 0s 104us/step - loss: 0.5587 - accuracy: 0.7374 - val_loss: 0.6139 - val_accuracy: 0.6378\n",
      "Epoch 58/150\n",
      "514/514 [==============================] - 0s 110us/step - loss: 0.5609 - accuracy: 0.7160 - val_loss: 0.7319 - val_accuracy: 0.6024\n",
      "Epoch 59/150\n",
      "514/514 [==============================] - 0s 102us/step - loss: 0.5633 - accuracy: 0.7140 - val_loss: 0.5610 - val_accuracy: 0.7244\n",
      "Epoch 60/150\n",
      "514/514 [==============================] - 0s 98us/step - loss: 0.5651 - accuracy: 0.7160 - val_loss: 0.6774 - val_accuracy: 0.5984\n",
      "Epoch 61/150\n",
      "514/514 [==============================] - 0s 103us/step - loss: 0.5451 - accuracy: 0.7451 - val_loss: 0.6274 - val_accuracy: 0.7008\n",
      "Epoch 62/150\n",
      "514/514 [==============================] - 0s 100us/step - loss: 0.5670 - accuracy: 0.7237 - val_loss: 0.6041 - val_accuracy: 0.7008\n",
      "Epoch 63/150\n",
      "514/514 [==============================] - 0s 107us/step - loss: 0.5572 - accuracy: 0.7023 - val_loss: 0.5843 - val_accuracy: 0.6850\n",
      "Epoch 64/150\n",
      "514/514 [==============================] - 0s 101us/step - loss: 0.5632 - accuracy: 0.7179 - val_loss: 0.6546 - val_accuracy: 0.7126\n",
      "Epoch 65/150\n",
      "514/514 [==============================] - 0s 98us/step - loss: 0.5719 - accuracy: 0.7023 - val_loss: 0.6147 - val_accuracy: 0.7087\n",
      "Epoch 66/150\n",
      "514/514 [==============================] - 0s 105us/step - loss: 0.5453 - accuracy: 0.7335 - val_loss: 0.7147 - val_accuracy: 0.6890\n",
      "Epoch 67/150\n",
      "514/514 [==============================] - 0s 100us/step - loss: 0.5422 - accuracy: 0.7315 - val_loss: 0.6351 - val_accuracy: 0.6732\n",
      "Epoch 68/150\n",
      "514/514 [==============================] - 0s 105us/step - loss: 0.5563 - accuracy: 0.7179 - val_loss: 0.5844 - val_accuracy: 0.7087\n",
      "Epoch 69/150\n",
      "514/514 [==============================] - 0s 102us/step - loss: 0.5587 - accuracy: 0.7237 - val_loss: 0.7321 - val_accuracy: 0.5669\n",
      "Epoch 70/150\n",
      "514/514 [==============================] - 0s 101us/step - loss: 0.5590 - accuracy: 0.7023 - val_loss: 0.6267 - val_accuracy: 0.6969\n",
      "Epoch 71/150\n",
      "514/514 [==============================] - 0s 108us/step - loss: 0.5466 - accuracy: 0.7354 - val_loss: 0.5881 - val_accuracy: 0.7205\n",
      "Epoch 72/150\n",
      "514/514 [==============================] - 0s 99us/step - loss: 0.5359 - accuracy: 0.7490 - val_loss: 0.8518 - val_accuracy: 0.5433\n",
      "Epoch 73/150\n",
      "514/514 [==============================] - 0s 107us/step - loss: 0.5586 - accuracy: 0.7004 - val_loss: 0.5822 - val_accuracy: 0.7244\n",
      "Epoch 74/150\n",
      "514/514 [==============================] - 0s 104us/step - loss: 0.5557 - accuracy: 0.7354 - val_loss: 0.6117 - val_accuracy: 0.6929\n",
      "Epoch 75/150\n",
      "514/514 [==============================] - 0s 108us/step - loss: 0.5503 - accuracy: 0.7335 - val_loss: 0.6401 - val_accuracy: 0.6654\n",
      "Epoch 76/150\n",
      "514/514 [==============================] - 0s 104us/step - loss: 0.5495 - accuracy: 0.7393 - val_loss: 0.5981 - val_accuracy: 0.7323\n",
      "Epoch 77/150\n",
      "514/514 [==============================] - 0s 114us/step - loss: 0.5517 - accuracy: 0.7412 - val_loss: 0.6496 - val_accuracy: 0.6496\n",
      "Epoch 78/150\n",
      "514/514 [==============================] - 0s 107us/step - loss: 0.5547 - accuracy: 0.7101 - val_loss: 0.5721 - val_accuracy: 0.6929\n",
      "Epoch 79/150\n",
      "514/514 [==============================] - 0s 118us/step - loss: 0.5361 - accuracy: 0.7335 - val_loss: 0.6786 - val_accuracy: 0.6378\n",
      "Epoch 80/150\n",
      "514/514 [==============================] - 0s 107us/step - loss: 0.5424 - accuracy: 0.7393 - val_loss: 0.6078 - val_accuracy: 0.6811\n",
      "Epoch 81/150\n",
      "514/514 [==============================] - 0s 111us/step - loss: 0.5433 - accuracy: 0.7510 - val_loss: 0.5883 - val_accuracy: 0.7087\n",
      "Epoch 82/150\n",
      "514/514 [==============================] - 0s 109us/step - loss: 0.5446 - accuracy: 0.7374 - val_loss: 0.5942 - val_accuracy: 0.6929\n",
      "Epoch 83/150\n",
      "514/514 [==============================] - 0s 107us/step - loss: 0.5459 - accuracy: 0.7237 - val_loss: 0.6336 - val_accuracy: 0.6614\n",
      "Epoch 84/150\n",
      "514/514 [==============================] - 0s 104us/step - loss: 0.5369 - accuracy: 0.7335 - val_loss: 0.6417 - val_accuracy: 0.7008\n",
      "Epoch 85/150\n",
      "514/514 [==============================] - 0s 110us/step - loss: 0.5544 - accuracy: 0.7101 - val_loss: 0.5860 - val_accuracy: 0.7283\n",
      "Epoch 86/150\n",
      "514/514 [==============================] - 0s 102us/step - loss: 0.5376 - accuracy: 0.7451 - val_loss: 0.5529 - val_accuracy: 0.7323\n",
      "Epoch 87/150\n",
      "514/514 [==============================] - 0s 101us/step - loss: 0.5442 - accuracy: 0.7296 - val_loss: 0.5966 - val_accuracy: 0.6969\n",
      "Epoch 88/150\n",
      "514/514 [==============================] - 0s 102us/step - loss: 0.5364 - accuracy: 0.7354 - val_loss: 0.5766 - val_accuracy: 0.7008\n",
      "Epoch 89/150\n",
      "514/514 [==============================] - 0s 98us/step - loss: 0.5316 - accuracy: 0.7490 - val_loss: 0.6711 - val_accuracy: 0.6378\n",
      "Epoch 90/150\n",
      "514/514 [==============================] - 0s 105us/step - loss: 0.5434 - accuracy: 0.7296 - val_loss: 0.6041 - val_accuracy: 0.6929\n",
      "Epoch 91/150\n",
      "514/514 [==============================] - 0s 114us/step - loss: 0.5388 - accuracy: 0.7451 - val_loss: 0.5587 - val_accuracy: 0.7323\n",
      "Epoch 92/150\n",
      "514/514 [==============================] - 0s 116us/step - loss: 0.5226 - accuracy: 0.7315 - val_loss: 0.6201 - val_accuracy: 0.7087\n",
      "Epoch 93/150\n",
      "514/514 [==============================] - 0s 113us/step - loss: 0.5376 - accuracy: 0.7315 - val_loss: 0.5710 - val_accuracy: 0.7126\n",
      "Epoch 94/150\n",
      "514/514 [==============================] - 0s 107us/step - loss: 0.5294 - accuracy: 0.7549 - val_loss: 0.7008 - val_accuracy: 0.6063\n",
      "Epoch 95/150\n",
      "514/514 [==============================] - 0s 108us/step - loss: 0.5212 - accuracy: 0.7490 - val_loss: 0.6481 - val_accuracy: 0.6850\n",
      "Epoch 96/150\n",
      "514/514 [==============================] - 0s 103us/step - loss: 0.5344 - accuracy: 0.7276 - val_loss: 0.5517 - val_accuracy: 0.7520\n",
      "Epoch 97/150\n",
      "514/514 [==============================] - 0s 103us/step - loss: 0.5426 - accuracy: 0.7393 - val_loss: 0.5836 - val_accuracy: 0.6890\n",
      "Epoch 98/150\n",
      "514/514 [==============================] - 0s 107us/step - loss: 0.5198 - accuracy: 0.7529 - val_loss: 0.5574 - val_accuracy: 0.7165\n",
      "Epoch 99/150\n",
      "514/514 [==============================] - 0s 102us/step - loss: 0.5337 - accuracy: 0.7374 - val_loss: 0.5904 - val_accuracy: 0.7087\n",
      "Epoch 100/150\n",
      "514/514 [==============================] - 0s 97us/step - loss: 0.5208 - accuracy: 0.7549 - val_loss: 0.5764 - val_accuracy: 0.7047\n",
      "Epoch 101/150\n",
      "514/514 [==============================] - 0s 100us/step - loss: 0.5244 - accuracy: 0.7510 - val_loss: 0.5475 - val_accuracy: 0.7441\n",
      "Epoch 102/150\n",
      "514/514 [==============================] - 0s 101us/step - loss: 0.5324 - accuracy: 0.7374 - val_loss: 0.8264 - val_accuracy: 0.5630\n",
      "Epoch 103/150\n",
      "514/514 [==============================] - 0s 107us/step - loss: 0.5248 - accuracy: 0.7393 - val_loss: 0.5931 - val_accuracy: 0.7087\n",
      "Epoch 104/150\n",
      "514/514 [==============================] - 0s 104us/step - loss: 0.5278 - accuracy: 0.7354 - val_loss: 0.6631 - val_accuracy: 0.7008\n",
      "Epoch 105/150\n",
      "514/514 [==============================] - 0s 102us/step - loss: 0.5389 - accuracy: 0.7296 - val_loss: 0.7287 - val_accuracy: 0.6024\n",
      "Epoch 106/150\n",
      "514/514 [==============================] - 0s 102us/step - loss: 0.5143 - accuracy: 0.7646 - val_loss: 0.5836 - val_accuracy: 0.7283\n",
      "Epoch 107/150\n",
      "514/514 [==============================] - 0s 106us/step - loss: 0.5222 - accuracy: 0.7237 - val_loss: 0.6121 - val_accuracy: 0.7047\n",
      "Epoch 108/150\n",
      "514/514 [==============================] - 0s 109us/step - loss: 0.5177 - accuracy: 0.7393 - val_loss: 0.5527 - val_accuracy: 0.7323\n",
      "Epoch 109/150\n",
      "514/514 [==============================] - 0s 100us/step - loss: 0.5186 - accuracy: 0.7607 - val_loss: 0.5563 - val_accuracy: 0.7205\n",
      "Epoch 110/150\n",
      "514/514 [==============================] - 0s 98us/step - loss: 0.5106 - accuracy: 0.7626 - val_loss: 0.6093 - val_accuracy: 0.7047\n",
      "Epoch 111/150\n",
      "514/514 [==============================] - 0s 104us/step - loss: 0.5254 - accuracy: 0.7393 - val_loss: 0.7082 - val_accuracy: 0.7008\n",
      "Epoch 112/150\n",
      "514/514 [==============================] - 0s 101us/step - loss: 0.5295 - accuracy: 0.7101 - val_loss: 0.5851 - val_accuracy: 0.7087\n",
      "Epoch 113/150\n"
     ]
    },
    {
     "name": "stdout",
     "output_type": "stream",
     "text": [
      "514/514 [==============================] - 0s 101us/step - loss: 0.5166 - accuracy: 0.7588 - val_loss: 0.5994 - val_accuracy: 0.7126\n",
      "Epoch 114/150\n",
      "514/514 [==============================] - 0s 102us/step - loss: 0.5229 - accuracy: 0.7257 - val_loss: 0.5663 - val_accuracy: 0.7126\n",
      "Epoch 115/150\n",
      "514/514 [==============================] - 0s 104us/step - loss: 0.5285 - accuracy: 0.7451 - val_loss: 0.5617 - val_accuracy: 0.7047\n",
      "Epoch 116/150\n",
      "514/514 [==============================] - 0s 101us/step - loss: 0.5247 - accuracy: 0.7335 - val_loss: 0.6232 - val_accuracy: 0.6732\n",
      "Epoch 117/150\n",
      "514/514 [==============================] - 0s 103us/step - loss: 0.5159 - accuracy: 0.7510 - val_loss: 0.5994 - val_accuracy: 0.7205\n",
      "Epoch 118/150\n",
      "514/514 [==============================] - 0s 110us/step - loss: 0.5176 - accuracy: 0.7588 - val_loss: 0.5604 - val_accuracy: 0.7165\n",
      "Epoch 119/150\n",
      "514/514 [==============================] - 0s 100us/step - loss: 0.5192 - accuracy: 0.7393 - val_loss: 0.5843 - val_accuracy: 0.7126\n",
      "Epoch 120/150\n",
      "514/514 [==============================] - 0s 104us/step - loss: 0.5264 - accuracy: 0.7471 - val_loss: 0.5642 - val_accuracy: 0.7008\n",
      "Epoch 121/150\n",
      "514/514 [==============================] - 0s 98us/step - loss: 0.5137 - accuracy: 0.7529 - val_loss: 0.6210 - val_accuracy: 0.6772\n",
      "Epoch 122/150\n",
      "514/514 [==============================] - 0s 103us/step - loss: 0.5161 - accuracy: 0.7685 - val_loss: 0.5459 - val_accuracy: 0.7362\n",
      "Epoch 123/150\n",
      "514/514 [==============================] - 0s 108us/step - loss: 0.5199 - accuracy: 0.7335 - val_loss: 0.6062 - val_accuracy: 0.7008\n",
      "Epoch 124/150\n",
      "514/514 [==============================] - 0s 102us/step - loss: 0.5184 - accuracy: 0.7315 - val_loss: 0.6148 - val_accuracy: 0.6811\n",
      "Epoch 125/150\n",
      "514/514 [==============================] - 0s 109us/step - loss: 0.5189 - accuracy: 0.7626 - val_loss: 0.6157 - val_accuracy: 0.7047\n",
      "Epoch 126/150\n",
      "514/514 [==============================] - 0s 98us/step - loss: 0.5115 - accuracy: 0.7529 - val_loss: 0.5924 - val_accuracy: 0.7047\n",
      "Epoch 127/150\n",
      "514/514 [==============================] - 0s 103us/step - loss: 0.5067 - accuracy: 0.7510 - val_loss: 0.5686 - val_accuracy: 0.7205\n",
      "Epoch 128/150\n",
      "514/514 [==============================] - 0s 102us/step - loss: 0.5002 - accuracy: 0.7607 - val_loss: 0.7232 - val_accuracy: 0.6929\n",
      "Epoch 129/150\n",
      "514/514 [==============================] - 0s 109us/step - loss: 0.5137 - accuracy: 0.7529 - val_loss: 0.5537 - val_accuracy: 0.7283\n",
      "Epoch 130/150\n",
      "514/514 [==============================] - 0s 100us/step - loss: 0.5180 - accuracy: 0.7374 - val_loss: 0.7536 - val_accuracy: 0.5866\n",
      "Epoch 131/150\n",
      "514/514 [==============================] - 0s 100us/step - loss: 0.5214 - accuracy: 0.7315 - val_loss: 0.5643 - val_accuracy: 0.7283\n",
      "Epoch 132/150\n",
      "514/514 [==============================] - 0s 114us/step - loss: 0.5182 - accuracy: 0.7549 - val_loss: 0.6477 - val_accuracy: 0.7008\n",
      "Epoch 133/150\n",
      "514/514 [==============================] - 0s 110us/step - loss: 0.5151 - accuracy: 0.7607 - val_loss: 0.5709 - val_accuracy: 0.7283\n",
      "Epoch 134/150\n",
      "514/514 [==============================] - 0s 104us/step - loss: 0.5168 - accuracy: 0.7432 - val_loss: 0.5653 - val_accuracy: 0.7244\n",
      "Epoch 135/150\n",
      "514/514 [==============================] - 0s 109us/step - loss: 0.5105 - accuracy: 0.7510 - val_loss: 0.5586 - val_accuracy: 0.7165\n",
      "Epoch 136/150\n",
      "514/514 [==============================] - 0s 102us/step - loss: 0.5161 - accuracy: 0.7412 - val_loss: 0.6146 - val_accuracy: 0.6969\n",
      "Epoch 137/150\n",
      "514/514 [==============================] - 0s 114us/step - loss: 0.5106 - accuracy: 0.7549 - val_loss: 0.5410 - val_accuracy: 0.7480\n",
      "Epoch 138/150\n",
      "514/514 [==============================] - 0s 104us/step - loss: 0.5111 - accuracy: 0.7315 - val_loss: 0.5387 - val_accuracy: 0.7362\n",
      "Epoch 139/150\n",
      "514/514 [==============================] - 0s 103us/step - loss: 0.5103 - accuracy: 0.7510 - val_loss: 0.6117 - val_accuracy: 0.6772\n",
      "Epoch 140/150\n",
      "514/514 [==============================] - 0s 107us/step - loss: 0.5146 - accuracy: 0.7471 - val_loss: 0.5623 - val_accuracy: 0.7283\n",
      "Epoch 141/150\n",
      "514/514 [==============================] - 0s 110us/step - loss: 0.5088 - accuracy: 0.7374 - val_loss: 0.5448 - val_accuracy: 0.7323\n",
      "Epoch 142/150\n",
      "514/514 [==============================] - 0s 101us/step - loss: 0.5176 - accuracy: 0.7451 - val_loss: 0.5805 - val_accuracy: 0.7126\n",
      "Epoch 143/150\n",
      "514/514 [==============================] - 0s 97us/step - loss: 0.5082 - accuracy: 0.7412 - val_loss: 0.6467 - val_accuracy: 0.7008\n",
      "Epoch 144/150\n",
      "514/514 [==============================] - 0s 107us/step - loss: 0.5088 - accuracy: 0.7412 - val_loss: 0.5471 - val_accuracy: 0.7283\n",
      "Epoch 145/150\n",
      "514/514 [==============================] - 0s 104us/step - loss: 0.5075 - accuracy: 0.7529 - val_loss: 0.6402 - val_accuracy: 0.6969\n",
      "Epoch 146/150\n",
      "514/514 [==============================] - 0s 100us/step - loss: 0.5235 - accuracy: 0.7374 - val_loss: 0.5577 - val_accuracy: 0.7283\n",
      "Epoch 147/150\n",
      "514/514 [==============================] - 0s 100us/step - loss: 0.5093 - accuracy: 0.7490 - val_loss: 0.5878 - val_accuracy: 0.6890\n",
      "Epoch 148/150\n",
      "514/514 [==============================] - 0s 100us/step - loss: 0.5060 - accuracy: 0.7510 - val_loss: 0.5616 - val_accuracy: 0.7087\n",
      "Epoch 149/150\n",
      "514/514 [==============================] - 0s 103us/step - loss: 0.5104 - accuracy: 0.7510 - val_loss: 0.5468 - val_accuracy: 0.7362\n",
      "Epoch 150/150\n",
      "514/514 [==============================] - 0s 102us/step - loss: 0.5016 - accuracy: 0.7626 - val_loss: 0.6193 - val_accuracy: 0.6969\n"
     ]
    }
   ],
   "source": [
    "# Fit the model\n",
    "model = create_model()\n",
    "history = model.fit(X, Y, validation_split=0.33, nb_epoch=150, batch_size=10)"
   ]
  },
  {
   "cell_type": "code",
   "execution_count": 10,
   "metadata": {},
   "outputs": [
    {
     "name": "stdout",
     "output_type": "stream",
     "text": [
      "768/768 [==============================] - 0s 13us/step\n",
      "\n",
      "accuracy: 72.14%\n"
     ]
    },
    {
     "data": {
      "text/plain": [
       "[0.5715850902100404, 0.7213541865348816]"
      ]
     },
     "execution_count": 10,
     "metadata": {},
     "output_type": "execute_result"
    }
   ],
   "source": [
    "# evaluate the model\n",
    "scores = model.evaluate(X, Y)\n",
    "print(\"\\n%s: %.2f%%\" % (model.metrics_names[1], scores[1]*100))\n",
    "scores"
   ]
  },
  {
   "cell_type": "code",
   "execution_count": 11,
   "metadata": {},
   "outputs": [
    {
     "name": "stdout",
     "output_type": "stream",
     "text": [
      "Prediction Accuracy: 72.14%\n"
     ]
    }
   ],
   "source": [
    "probabilities = model.predict(X)\n",
    "predictions = [float(np.round(x)) for x in probabilities]\n",
    "accuracy = np.mean(predictions == Y)\n",
    "print(\"Prediction Accuracy: %.2f%%\" % (accuracy*100))"
   ]
  },
  {
   "cell_type": "code",
   "execution_count": 12,
   "metadata": {},
   "outputs": [
    {
     "name": "stdout",
     "output_type": "stream",
     "text": [
      "val_loss\n",
      "val_accuracy\n",
      "loss\n",
      "accuracy\n"
     ]
    }
   ],
   "source": [
    "for key in history.history.keys():\n",
    "    print(key)"
   ]
  },
  {
   "cell_type": "markdown",
   "metadata": {},
   "source": [
    "**1.Exercise - Perform a StratifiedKfold validation using scikit-learn (*with the following parameters: n_splits=10, shuffle=True, random_state=seed*) - print mean result.**"
   ]
  },
  {
   "cell_type": "code",
   "execution_count": 17,
   "metadata": {},
   "outputs": [
    {
     "name": "stderr",
     "output_type": "stream",
     "text": [
      "<ipython-input-8-21c09937675e>:5: UserWarning: Update your `Dense` call to the Keras 2 API: `Dense(12, input_dim=8, activation=\"relu\", kernel_initializer=\"glorot_uniform\")`\n",
      "  model.add(Dense(12, input_dim=8, init=init, activation='relu'))\n",
      "<ipython-input-8-21c09937675e>:6: UserWarning: Update your `Dense` call to the Keras 2 API: `Dense(8, activation=\"relu\", kernel_initializer=\"glorot_uniform\")`\n",
      "  model.add(Dense(8, init=init, activation='relu'))\n",
      "<ipython-input-8-21c09937675e>:7: UserWarning: Update your `Dense` call to the Keras 2 API: `Dense(1, activation=\"sigmoid\", kernel_initializer=\"glorot_uniform\")`\n",
      "  model.add(Dense(1, init=init, activation='sigmoid'))\n"
     ]
    },
    {
     "data": {
      "text/plain": [
       "array([0.35064936, 0.36363637, 0.50649351, 0.64935064, 0.58441556,\n",
       "       0.35064936, 0.59740257, 0.48051947, 0.53947371, 0.68421054])"
      ]
     },
     "execution_count": 17,
     "metadata": {},
     "output_type": "execute_result"
    }
   ],
   "source": [
    "# TODO\n",
    "from sklearn.model_selection import StratifiedKFold\n",
    "from sklearn.model_selection import cross_val_score\n",
    "\n",
    "# create model\n",
    "model_gs = KerasClassifier(build_fn=create_model, verbose=0)\n",
    "\n",
    "skf = StratifiedKFold(n_splits=10, shuffle=True, random_state=seed)\n",
    "cross_val_score(estimator=model_gs, X=X, y=Y, cv=skf)"
   ]
  },
  {
   "cell_type": "markdown",
   "metadata": {},
   "source": [
    "**2.Exercise - Evaluate model with standardized inputs, using the same StratifiedKFold's parameters.**"
   ]
  },
  {
   "cell_type": "code",
   "execution_count": 27,
   "metadata": {
    "scrolled": true
   },
   "outputs": [
    {
     "name": "stderr",
     "output_type": "stream",
     "text": [
      "<ipython-input-8-21c09937675e>:5: UserWarning: Update your `Dense` call to the Keras 2 API: `Dense(12, input_dim=8, activation=\"relu\", kernel_initializer=\"glorot_uniform\")`\n",
      "  model.add(Dense(12, input_dim=8, init=init, activation='relu'))\n",
      "<ipython-input-8-21c09937675e>:6: UserWarning: Update your `Dense` call to the Keras 2 API: `Dense(8, activation=\"relu\", kernel_initializer=\"glorot_uniform\")`\n",
      "  model.add(Dense(8, init=init, activation='relu'))\n",
      "<ipython-input-8-21c09937675e>:7: UserWarning: Update your `Dense` call to the Keras 2 API: `Dense(1, activation=\"sigmoid\", kernel_initializer=\"glorot_uniform\")`\n",
      "  model.add(Dense(1, init=init, activation='sigmoid'))\n"
     ]
    },
    {
     "name": "stdout",
     "output_type": "stream",
     "text": [
      "Epoch 1/1\n",
      " - 0s - loss: 0.9395 - accuracy: 0.3517\n"
     ]
    },
    {
     "name": "stderr",
     "output_type": "stream",
     "text": [
      "<ipython-input-8-21c09937675e>:5: UserWarning: Update your `Dense` call to the Keras 2 API: `Dense(12, input_dim=8, activation=\"relu\", kernel_initializer=\"glorot_uniform\")`\n",
      "  model.add(Dense(12, input_dim=8, init=init, activation='relu'))\n",
      "<ipython-input-8-21c09937675e>:6: UserWarning: Update your `Dense` call to the Keras 2 API: `Dense(8, activation=\"relu\", kernel_initializer=\"glorot_uniform\")`\n",
      "  model.add(Dense(8, init=init, activation='relu'))\n",
      "<ipython-input-8-21c09937675e>:7: UserWarning: Update your `Dense` call to the Keras 2 API: `Dense(1, activation=\"sigmoid\", kernel_initializer=\"glorot_uniform\")`\n",
      "  model.add(Dense(1, init=init, activation='sigmoid'))\n"
     ]
    },
    {
     "name": "stdout",
     "output_type": "stream",
     "text": [
      "Epoch 1/1\n",
      " - 0s - loss: 0.6622 - accuracy: 0.6715\n"
     ]
    },
    {
     "name": "stderr",
     "output_type": "stream",
     "text": [
      "<ipython-input-8-21c09937675e>:5: UserWarning: Update your `Dense` call to the Keras 2 API: `Dense(12, input_dim=8, activation=\"relu\", kernel_initializer=\"glorot_uniform\")`\n",
      "  model.add(Dense(12, input_dim=8, init=init, activation='relu'))\n",
      "<ipython-input-8-21c09937675e>:6: UserWarning: Update your `Dense` call to the Keras 2 API: `Dense(8, activation=\"relu\", kernel_initializer=\"glorot_uniform\")`\n",
      "  model.add(Dense(8, init=init, activation='relu'))\n",
      "<ipython-input-8-21c09937675e>:7: UserWarning: Update your `Dense` call to the Keras 2 API: `Dense(1, activation=\"sigmoid\", kernel_initializer=\"glorot_uniform\")`\n",
      "  model.add(Dense(1, init=init, activation='sigmoid'))\n"
     ]
    },
    {
     "name": "stdout",
     "output_type": "stream",
     "text": [
      "Epoch 1/1\n",
      " - 0s - loss: 0.6947 - accuracy: 0.5702\n"
     ]
    },
    {
     "name": "stderr",
     "output_type": "stream",
     "text": [
      "<ipython-input-8-21c09937675e>:5: UserWarning: Update your `Dense` call to the Keras 2 API: `Dense(12, input_dim=8, activation=\"relu\", kernel_initializer=\"glorot_uniform\")`\n",
      "  model.add(Dense(12, input_dim=8, init=init, activation='relu'))\n",
      "<ipython-input-8-21c09937675e>:6: UserWarning: Update your `Dense` call to the Keras 2 API: `Dense(8, activation=\"relu\", kernel_initializer=\"glorot_uniform\")`\n",
      "  model.add(Dense(8, init=init, activation='relu'))\n",
      "<ipython-input-8-21c09937675e>:7: UserWarning: Update your `Dense` call to the Keras 2 API: `Dense(1, activation=\"sigmoid\", kernel_initializer=\"glorot_uniform\")`\n",
      "  model.add(Dense(1, init=init, activation='sigmoid'))\n"
     ]
    },
    {
     "name": "stdout",
     "output_type": "stream",
     "text": [
      "Epoch 1/1\n",
      " - 0s - loss: 0.6093 - accuracy: 0.6946\n"
     ]
    },
    {
     "name": "stderr",
     "output_type": "stream",
     "text": [
      "<ipython-input-8-21c09937675e>:5: UserWarning: Update your `Dense` call to the Keras 2 API: `Dense(12, input_dim=8, activation=\"relu\", kernel_initializer=\"glorot_uniform\")`\n",
      "  model.add(Dense(12, input_dim=8, init=init, activation='relu'))\n",
      "<ipython-input-8-21c09937675e>:6: UserWarning: Update your `Dense` call to the Keras 2 API: `Dense(8, activation=\"relu\", kernel_initializer=\"glorot_uniform\")`\n",
      "  model.add(Dense(8, init=init, activation='relu'))\n",
      "<ipython-input-8-21c09937675e>:7: UserWarning: Update your `Dense` call to the Keras 2 API: `Dense(1, activation=\"sigmoid\", kernel_initializer=\"glorot_uniform\")`\n",
      "  model.add(Dense(1, init=init, activation='sigmoid'))\n"
     ]
    },
    {
     "name": "stdout",
     "output_type": "stream",
     "text": [
      "Epoch 1/1\n",
      " - 0s - loss: 0.7208 - accuracy: 0.5658\n"
     ]
    },
    {
     "name": "stderr",
     "output_type": "stream",
     "text": [
      "<ipython-input-8-21c09937675e>:5: UserWarning: Update your `Dense` call to the Keras 2 API: `Dense(12, input_dim=8, activation=\"relu\", kernel_initializer=\"glorot_uniform\")`\n",
      "  model.add(Dense(12, input_dim=8, init=init, activation='relu'))\n",
      "<ipython-input-8-21c09937675e>:6: UserWarning: Update your `Dense` call to the Keras 2 API: `Dense(8, activation=\"relu\", kernel_initializer=\"glorot_uniform\")`\n",
      "  model.add(Dense(8, init=init, activation='relu'))\n",
      "<ipython-input-8-21c09937675e>:7: UserWarning: Update your `Dense` call to the Keras 2 API: `Dense(1, activation=\"sigmoid\", kernel_initializer=\"glorot_uniform\")`\n",
      "  model.add(Dense(1, init=init, activation='sigmoid'))\n"
     ]
    },
    {
     "name": "stdout",
     "output_type": "stream",
     "text": [
      "Epoch 1/1\n",
      " - 0s - loss: 0.6400 - accuracy: 0.6397\n"
     ]
    },
    {
     "name": "stderr",
     "output_type": "stream",
     "text": [
      "<ipython-input-8-21c09937675e>:5: UserWarning: Update your `Dense` call to the Keras 2 API: `Dense(12, input_dim=8, activation=\"relu\", kernel_initializer=\"glorot_uniform\")`\n",
      "  model.add(Dense(12, input_dim=8, init=init, activation='relu'))\n",
      "<ipython-input-8-21c09937675e>:6: UserWarning: Update your `Dense` call to the Keras 2 API: `Dense(8, activation=\"relu\", kernel_initializer=\"glorot_uniform\")`\n",
      "  model.add(Dense(8, init=init, activation='relu'))\n",
      "<ipython-input-8-21c09937675e>:7: UserWarning: Update your `Dense` call to the Keras 2 API: `Dense(1, activation=\"sigmoid\", kernel_initializer=\"glorot_uniform\")`\n",
      "  model.add(Dense(1, init=init, activation='sigmoid'))\n"
     ]
    },
    {
     "name": "stdout",
     "output_type": "stream",
     "text": [
      "Epoch 1/1\n",
      " - 0s - loss: 0.7342 - accuracy: 0.4472\n"
     ]
    },
    {
     "name": "stderr",
     "output_type": "stream",
     "text": [
      "<ipython-input-8-21c09937675e>:5: UserWarning: Update your `Dense` call to the Keras 2 API: `Dense(12, input_dim=8, activation=\"relu\", kernel_initializer=\"glorot_uniform\")`\n",
      "  model.add(Dense(12, input_dim=8, init=init, activation='relu'))\n",
      "<ipython-input-8-21c09937675e>:6: UserWarning: Update your `Dense` call to the Keras 2 API: `Dense(8, activation=\"relu\", kernel_initializer=\"glorot_uniform\")`\n",
      "  model.add(Dense(8, init=init, activation='relu'))\n",
      "<ipython-input-8-21c09937675e>:7: UserWarning: Update your `Dense` call to the Keras 2 API: `Dense(1, activation=\"sigmoid\", kernel_initializer=\"glorot_uniform\")`\n",
      "  model.add(Dense(1, init=init, activation='sigmoid'))\n"
     ]
    },
    {
     "name": "stdout",
     "output_type": "stream",
     "text": [
      "Epoch 1/1\n",
      " - 0s - loss: 0.6991 - accuracy: 0.4790\n"
     ]
    },
    {
     "name": "stderr",
     "output_type": "stream",
     "text": [
      "<ipython-input-8-21c09937675e>:5: UserWarning: Update your `Dense` call to the Keras 2 API: `Dense(12, input_dim=8, activation=\"relu\", kernel_initializer=\"glorot_uniform\")`\n",
      "  model.add(Dense(12, input_dim=8, init=init, activation='relu'))\n",
      "<ipython-input-8-21c09937675e>:6: UserWarning: Update your `Dense` call to the Keras 2 API: `Dense(8, activation=\"relu\", kernel_initializer=\"glorot_uniform\")`\n",
      "  model.add(Dense(8, init=init, activation='relu'))\n",
      "<ipython-input-8-21c09937675e>:7: UserWarning: Update your `Dense` call to the Keras 2 API: `Dense(1, activation=\"sigmoid\", kernel_initializer=\"glorot_uniform\")`\n",
      "  model.add(Dense(1, init=init, activation='sigmoid'))\n"
     ]
    },
    {
     "name": "stdout",
     "output_type": "stream",
     "text": [
      "Epoch 1/1\n",
      " - 0s - loss: 0.7071 - accuracy: 0.4798\n"
     ]
    },
    {
     "name": "stderr",
     "output_type": "stream",
     "text": [
      "<ipython-input-8-21c09937675e>:5: UserWarning: Update your `Dense` call to the Keras 2 API: `Dense(12, input_dim=8, activation=\"relu\", kernel_initializer=\"glorot_uniform\")`\n",
      "  model.add(Dense(12, input_dim=8, init=init, activation='relu'))\n",
      "<ipython-input-8-21c09937675e>:6: UserWarning: Update your `Dense` call to the Keras 2 API: `Dense(8, activation=\"relu\", kernel_initializer=\"glorot_uniform\")`\n",
      "  model.add(Dense(8, init=init, activation='relu'))\n",
      "<ipython-input-8-21c09937675e>:7: UserWarning: Update your `Dense` call to the Keras 2 API: `Dense(1, activation=\"sigmoid\", kernel_initializer=\"glorot_uniform\")`\n",
      "  model.add(Dense(1, init=init, activation='sigmoid'))\n"
     ]
    },
    {
     "name": "stdout",
     "output_type": "stream",
     "text": [
      "Epoch 1/1\n",
      " - 0s - loss: 0.6578 - accuracy: 0.6503\n",
      "Standardized: 65.37% (8.85%)\n"
     ]
    }
   ],
   "source": [
    "from sklearn.pipeline import Pipeline\n",
    "from sklearn.preprocessing import StandardScaler\n",
    "\n",
    "estimators = []\n",
    "estimators.append(('standardize', StandardScaler()))\n",
    "estimators.append(('mlp', KerasClassifier(build_fn=create_model, nb_epoch=150, batch_size=10, verbose=2)))\n",
    "pipeline = Pipeline(estimators)\n",
    "\n",
    "# TODO - StratifiedKFold & cross_val_score \n",
    "skf = StratifiedKFold(n_splits=10, shuffle=True, random_state=seed)\n",
    "results = cross_val_score(estimator=pipeline, X=X, y=Y, cv=skf)\n",
    "\n",
    "print(\"Standardized: %.2f%% (%.2f%%)\" % (results.mean()*100, results.std()*100))"
   ]
  },
  {
   "cell_type": "markdown",
   "metadata": {
    "collapsed": true
   },
   "source": [
    "**3.Exercise - Perform a grid search to find the best hyperparameters for {optimizer, init_weights, epoch, batch} - NOTE: test two options, at your choice, for each parameter.**"
   ]
  },
  {
   "cell_type": "code",
   "execution_count": 31,
   "metadata": {
    "scrolled": true
   },
   "outputs": [
    {
     "name": "stderr",
     "output_type": "stream",
     "text": [
      "<ipython-input-8-21c09937675e>:5: UserWarning: Update your `Dense` call to the Keras 2 API: `Dense(12, input_dim=8, activation=\"relu\", kernel_initializer=\"glorot_uniform\")`\n",
      "  model.add(Dense(12, input_dim=8, init=init, activation='relu'))\n",
      "<ipython-input-8-21c09937675e>:6: UserWarning: Update your `Dense` call to the Keras 2 API: `Dense(8, activation=\"relu\", kernel_initializer=\"glorot_uniform\")`\n",
      "  model.add(Dense(8, init=init, activation='relu'))\n",
      "<ipython-input-8-21c09937675e>:7: UserWarning: Update your `Dense` call to the Keras 2 API: `Dense(1, activation=\"sigmoid\", kernel_initializer=\"glorot_uniform\")`\n",
      "  model.add(Dense(1, init=init, activation='sigmoid'))\n"
     ]
    },
    {
     "name": "stdout",
     "output_type": "stream",
     "text": [
      "Best: 0.619683 using {'nb_epoch': 10, 'optimizer': 'rmsprop'}\n"
     ]
    }
   ],
   "source": [
    "from sklearn.model_selection import GridSearchCV\n",
    "\n",
    "# create model\n",
    "model_gs = KerasClassifier(build_fn=create_model, verbose=0)\n",
    "\n",
    "# grid search epochs, batch size and optimizer\n",
    "optimizers = ['Adam', 'rmsprop']\n",
    "init = []\n",
    "epochs = [10, 20]\n",
    "batches = []\n",
    "param_grid = dict(optimizer=optimizers, nb_epoch=epochs)\n",
    "\n",
    "# TODO - GridSearchCV & fit\n",
    "grid = GridSearchCV(model_gs, param_grid, cv=7)\n",
    "grid_result = grid.fit(X, Y)\n",
    "\n",
    "# summarize results\n",
    "print(\"Best: %f using %s\" % (grid_result.best_score_, grid_result.best_params_))"
   ]
  },
  {
   "cell_type": "code",
   "execution_count": 32,
   "metadata": {
    "scrolled": true
   },
   "outputs": [
    {
     "name": "stdout",
     "output_type": "stream",
     "text": [
      "['mean_fit_time', 'mean_score_time', 'mean_test_score', 'param_nb_epoch', 'param_optimizer', 'params', 'rank_test_score', 'split0_test_score', 'split1_test_score', 'split2_test_score', 'split3_test_score', 'split4_test_score', 'split5_test_score', 'split6_test_score', 'std_fit_time', 'std_score_time', 'std_test_score'] \n",
      "\n",
      "0.442428 (0.110049) with: {'nb_epoch': 10, 'optimizer': 'Adam'}\n",
      "0.619683 (0.106438) with: {'nb_epoch': 10, 'optimizer': 'rmsprop'}\n",
      "0.523520 (0.137369) with: {'nb_epoch': 20, 'optimizer': 'Adam'}\n",
      "0.455999 (0.129817) with: {'nb_epoch': 20, 'optimizer': 'rmsprop'}\n"
     ]
    }
   ],
   "source": [
    "print(sorted(grid.cv_results_.keys()), '\\n')\n",
    "\n",
    "means = grid.cv_results_['mean_test_score']\n",
    "stds = grid.cv_results_['std_test_score']\n",
    "params = grid.cv_results_['params']\n",
    "\n",
    "for mean, stdev, param in zip(means, stds, params):\n",
    "    print(\"%f (%f) with: %r\" % (mean, stdev, param))"
   ]
  },
  {
   "cell_type": "markdown",
   "metadata": {},
   "source": [
    "**4. Exercise - Using the *history*, plot the *accuracy* and *loss*, on training *(accuracy, loss)* and on validation *(val_accuracy, val_loss)***"
   ]
  },
  {
   "cell_type": "code",
   "execution_count": 34,
   "metadata": {},
   "outputs": [
    {
     "data": {
      "image/png": "[encoded data removed]",
      "text/plain": [
       "<Figure size 432x288 with 2 Axes>"
      ]
     },
     "metadata": {
      "needs_background": "light"
     },
     "output_type": "display_data"
    }
   ],
   "source": [
    "import matplotlib.pyplot as plt\n",
    "%matplotlib inline\n",
    "\n",
    "# TODO - plotting the metrics\n",
    "fig = plt.figure()\n",
    "plt.subplot(2,1,1)\n",
    "plt.plot(history.history['accuracy'])\n",
    "plt.plot(history.history['val_accuracy'])\n",
    "plt.title('model accuracy')\n",
    "plt.ylabel('accuracy')\n",
    "plt.xlabel('epoch')\n",
    "plt.legend(['train', 'test'], loc='lower right')\n",
    "\n",
    "plt.subplot(2,1,2)\n",
    "plt.plot(history.history['loss'])\n",
    "plt.plot(history.history['val_loss'])\n",
    "plt.title('model loss')\n",
    "plt.ylabel('loss')\n",
    "plt.xlabel('epoch')\n",
    "plt.legend(['train', 'test'], loc='upper right')\n",
    "\n",
    "plt.tight_layout()"
   ]
  },
  {
   "cell_type": "markdown",
   "metadata": {},
   "source": [
    "**5.Exercise - Serialize model to JSON format and weights to HDF5 format.**"
   ]
  },
  {
   "cell_type": "code",
   "execution_count": 35,
   "metadata": {
    "scrolled": true
   },
   "outputs": [
    {
     "name": "stdout",
     "output_type": "stream",
     "text": [
      "{\n",
      "  \"class_name\": \"Sequential\",\n",
      "  \"config\": {\n",
      "    \"name\": \"sequential_1\",\n",
      "    \"layers\": [\n",
      "      {\n",
      "        \"class_name\": \"Dense\",\n",
      "        \"config\": {\n",
      "          \"name\": \"dense_1\",\n",
      "          \"trainable\": true,\n",
      "          \"batch_input_shape\": [\n",
      "            null,\n",
      "            8\n",
      "          ],\n",
      "          \"dtype\": \"float32\",\n",
      "          \"units\": 12,\n",
      "          \"activation\": \"relu\",\n",
      "          \"use_bias\": true,\n",
      "          \"kernel_initializer\": {\n",
      "            \"class_name\": \"VarianceScaling\",\n",
      "            \"config\": {\n",
      "              \"scale\": 1.0,\n",
      "              \"mode\": \"fan_avg\",\n",
      "              \"distribution\": \"uniform\",\n",
      "              \"seed\": null\n",
      "            }\n",
      "          },\n",
      "          \"bias_initializer\": {\n",
      "            \"class_name\": \"Zeros\",\n",
      "            \"config\": {}\n",
      "          },\n",
      "          \"kernel_regularizer\": null,\n",
      "          \"bias_regularizer\": null,\n",
      "          \"activity_regularizer\": null,\n",
      "          \"kernel_constraint\": null,\n",
      "          \"bias_constraint\": null\n",
      "        }\n",
      "      },\n",
      "      {\n",
      "        \"class_name\": \"Dense\",\n",
      "        \"config\": {\n",
      "          \"name\": \"dense_2\",\n",
      "          \"trainable\": true,\n",
      "          \"dtype\": \"float32\",\n",
      "          \"units\": 8,\n",
      "          \"activation\": \"relu\",\n",
      "          \"use_bias\": true,\n",
      "          \"kernel_initializer\": {\n",
      "            \"class_name\": \"VarianceScaling\",\n",
      "            \"config\": {\n",
      "              \"scale\": 1.0,\n",
      "              \"mode\": \"fan_avg\",\n",
      "              \"distribution\": \"uniform\",\n",
      "              \"seed\": null\n",
      "            }\n",
      "          },\n",
      "          \"bias_initializer\": {\n",
      "            \"class_name\": \"Zeros\",\n",
      "            \"config\": {}\n",
      "          },\n",
      "          \"kernel_regularizer\": null,\n",
      "          \"bias_regularizer\": null,\n",
      "          \"activity_regularizer\": null,\n",
      "          \"kernel_constraint\": null,\n",
      "          \"bias_constraint\": null\n",
      "        }\n",
      "      },\n",
      "      {\n",
      "        \"class_name\": \"Dense\",\n",
      "        \"config\": {\n",
      "          \"name\": \"dense_3\",\n",
      "          \"trainable\": true,\n",
      "          \"dtype\": \"float32\",\n",
      "          \"units\": 1,\n",
      "          \"activation\": \"sigmoid\",\n",
      "          \"use_bias\": true,\n",
      "          \"kernel_initializer\": {\n",
      "            \"class_name\": \"VarianceScaling\",\n",
      "            \"config\": {\n",
      "              \"scale\": 1.0,\n",
      "              \"mode\": \"fan_avg\",\n",
      "              \"distribution\": \"uniform\",\n",
      "              \"seed\": null\n",
      "            }\n",
      "          },\n",
      "          \"bias_initializer\": {\n",
      "            \"class_name\": \"Zeros\",\n",
      "            \"config\": {}\n",
      "          },\n",
      "          \"kernel_regularizer\": null,\n",
      "          \"bias_regularizer\": null,\n",
      "          \"activity_regularizer\": null,\n",
      "          \"kernel_constraint\": null,\n",
      "          \"bias_constraint\": null\n",
      "        }\n",
      "      }\n",
      "    ]\n",
      "  },\n",
      "  \"keras_version\": \"2.3.1\",\n",
      "  \"backend\": \"tensorflow\"\n",
      "}\n",
      "Saved model to disk\n"
     ]
    }
   ],
   "source": [
    "from keras.models import model_from_json\n",
    "import os\n",
    "import json\n",
    "\n",
    "# serialize model to JSON\n",
    "model_json = model.to_json()\n",
    "print(json.dumps(json.loads(model_json), indent=2))\n",
    "with open(\"results/model.json\", \"w\") as json_file:\n",
    "    json_file.write(model_json)\n",
    "\n",
    "# serialize weights to HDF5\n",
    "model.save_weights(\"results/weights_json.h5\")\n",
    "print(\"Saved model to disk\")"
   ]
  },
  {
   "cell_type": "markdown",
   "metadata": {},
   "source": [
    "**6.Exercise - Load model from disk.**"
   ]
  },
  {
   "cell_type": "code",
   "execution_count": 36,
   "metadata": {},
   "outputs": [
    {
     "name": "stdout",
     "output_type": "stream",
     "text": [
      "Loaded model from disk\n"
     ]
    }
   ],
   "source": [
    "# load json and create model\n",
    "json_file = open('results/model.json', 'r')\n",
    "loaded_model_json = json_file.read()\n",
    "json_file.close()\n",
    "loaded_model = model_from_json(loaded_model_json)\n",
    "\n",
    "# load weights into new model\n",
    "loaded_model.load_weights(\"results/weights_json.h5\")\n",
    "print(\"Loaded model from disk\")"
   ]
  },
  {
   "cell_type": "markdown",
   "metadata": {},
   "source": [
    "**7.Exercise - Provide a model checkpoint every time there is an improvement from previous epoch.**"
   ]
  },
  {
   "cell_type": "code",
   "execution_count": 37,
   "metadata": {},
   "outputs": [
    {
     "name": "stderr",
     "output_type": "stream",
     "text": [
      "<ipython-input-37-65577374b902>:9: UserWarning: The `nb_epoch` argument in `fit` has been renamed `epochs`.\n",
      "  model.fit(X, Y, validation_split=0.33, nb_epoch=150, batch_size=10, callbacks=callbacks_list, verbose=0)\n"
     ]
    },
    {
     "name": "stdout",
     "output_type": "stream",
     "text": [
      "\n",
      "Epoch 00001: val_accuracy improved from -inf to 0.72047, saving model to results/weights-improvement-01-0.72.hdf5\n",
      "\n",
      "Epoch 00002: val_accuracy did not improve from 0.72047\n",
      "\n",
      "Epoch 00003: val_accuracy improved from 0.72047 to 0.72441, saving model to results/weights-improvement-03-0.72.hdf5\n",
      "\n",
      "Epoch 00004: val_accuracy did not improve from 0.72441\n",
      "\n",
      "Epoch 00005: val_accuracy did not improve from 0.72441\n",
      "\n",
      "Epoch 00006: val_accuracy did not improve from 0.72441\n",
      "\n",
      "Epoch 00007: val_accuracy did not improve from 0.72441\n",
      "\n",
      "Epoch 00008: val_accuracy improved from 0.72441 to 0.74409, saving model to results/weights-improvement-08-0.74.hdf5\n",
      "\n",
      "Epoch 00009: val_accuracy did not improve from 0.74409\n",
      "\n",
      "Epoch 00010: val_accuracy did not improve from 0.74409\n",
      "\n",
      "Epoch 00011: val_accuracy did not improve from 0.74409\n",
      "\n",
      "Epoch 00012: val_accuracy did not improve from 0.74409\n",
      "\n",
      "Epoch 00013: val_accuracy did not improve from 0.74409\n",
      "\n",
      "Epoch 00014: val_accuracy did not improve from 0.74409\n",
      "\n",
      "Epoch 00015: val_accuracy did not improve from 0.74409\n",
      "\n",
      "Epoch 00016: val_accuracy improved from 0.74409 to 0.75591, saving model to results/weights-improvement-16-0.76.hdf5\n",
      "\n",
      "Epoch 00017: val_accuracy did not improve from 0.75591\n",
      "\n",
      "Epoch 00018: val_accuracy did not improve from 0.75591\n",
      "\n",
      "Epoch 00019: val_accuracy did not improve from 0.75591\n",
      "\n",
      "Epoch 00020: val_accuracy did not improve from 0.75591\n",
      "\n",
      "Epoch 00021: val_accuracy did not improve from 0.75591\n",
      "\n",
      "Epoch 00022: val_accuracy did not improve from 0.75591\n",
      "\n",
      "Epoch 00023: val_accuracy did not improve from 0.75591\n",
      "\n",
      "Epoch 00024: val_accuracy did not improve from 0.75591\n",
      "\n",
      "Epoch 00025: val_accuracy did not improve from 0.75591\n",
      "\n",
      "Epoch 00026: val_accuracy did not improve from 0.75591\n",
      "\n",
      "Epoch 00027: val_accuracy did not improve from 0.75591\n",
      "\n",
      "Epoch 00028: val_accuracy did not improve from 0.75591\n",
      "\n",
      "Epoch 00029: val_accuracy did not improve from 0.75591\n",
      "\n",
      "Epoch 00030: val_accuracy did not improve from 0.75591\n",
      "\n",
      "Epoch 00031: val_accuracy did not improve from 0.75591\n",
      "\n",
      "Epoch 00032: val_accuracy did not improve from 0.75591\n",
      "\n",
      "Epoch 00033: val_accuracy did not improve from 0.75591\n",
      "\n",
      "Epoch 00034: val_accuracy did not improve from 0.75591\n",
      "\n",
      "Epoch 00035: val_accuracy did not improve from 0.75591\n",
      "\n",
      "Epoch 00036: val_accuracy did not improve from 0.75591\n",
      "\n",
      "Epoch 00037: val_accuracy did not improve from 0.75591\n",
      "\n",
      "Epoch 00038: val_accuracy did not improve from 0.75591\n",
      "\n",
      "Epoch 00039: val_accuracy did not improve from 0.75591\n",
      "\n",
      "Epoch 00040: val_accuracy did not improve from 0.75591\n",
      "\n",
      "Epoch 00041: val_accuracy did not improve from 0.75591\n",
      "\n",
      "Epoch 00042: val_accuracy did not improve from 0.75591\n",
      "\n",
      "Epoch 00043: val_accuracy did not improve from 0.75591\n",
      "\n",
      "Epoch 00044: val_accuracy did not improve from 0.75591\n",
      "\n",
      "Epoch 00045: val_accuracy did not improve from 0.75591\n",
      "\n",
      "Epoch 00046: val_accuracy did not improve from 0.75591\n",
      "\n",
      "Epoch 00047: val_accuracy did not improve from 0.75591\n",
      "\n",
      "Epoch 00048: val_accuracy did not improve from 0.75591\n",
      "\n",
      "Epoch 00049: val_accuracy did not improve from 0.75591\n",
      "\n",
      "Epoch 00050: val_accuracy did not improve from 0.75591\n",
      "\n",
      "Epoch 00051: val_accuracy did not improve from 0.75591\n",
      "\n",
      "Epoch 00052: val_accuracy did not improve from 0.75591\n",
      "\n",
      "Epoch 00053: val_accuracy did not improve from 0.75591\n",
      "\n",
      "Epoch 00054: val_accuracy did not improve from 0.75591\n",
      "\n",
      "Epoch 00055: val_accuracy did not improve from 0.75591\n",
      "\n",
      "Epoch 00056: val_accuracy did not improve from 0.75591\n",
      "\n",
      "Epoch 00057: val_accuracy did not improve from 0.75591\n",
      "\n",
      "Epoch 00058: val_accuracy did not improve from 0.75591\n",
      "\n",
      "Epoch 00059: val_accuracy did not improve from 0.75591\n",
      "\n",
      "Epoch 00060: val_accuracy did not improve from 0.75591\n",
      "\n",
      "Epoch 00061: val_accuracy did not improve from 0.75591\n",
      "\n",
      "Epoch 00062: val_accuracy did not improve from 0.75591\n",
      "\n",
      "Epoch 00063: val_accuracy did not improve from 0.75591\n",
      "\n",
      "Epoch 00064: val_accuracy did not improve from 0.75591\n",
      "\n",
      "Epoch 00065: val_accuracy did not improve from 0.75591\n",
      "\n",
      "Epoch 00066: val_accuracy did not improve from 0.75591\n",
      "\n",
      "Epoch 00067: val_accuracy did not improve from 0.75591\n",
      "\n",
      "Epoch 00068: val_accuracy did not improve from 0.75591\n",
      "\n",
      "Epoch 00069: val_accuracy did not improve from 0.75591\n",
      "\n",
      "Epoch 00070: val_accuracy did not improve from 0.75591\n",
      "\n",
      "Epoch 00071: val_accuracy did not improve from 0.75591\n",
      "\n",
      "Epoch 00072: val_accuracy did not improve from 0.75591\n",
      "\n",
      "Epoch 00073: val_accuracy did not improve from 0.75591\n",
      "\n",
      "Epoch 00074: val_accuracy did not improve from 0.75591\n",
      "\n",
      "Epoch 00075: val_accuracy did not improve from 0.75591\n",
      "\n",
      "Epoch 00076: val_accuracy did not improve from 0.75591\n",
      "\n",
      "Epoch 00077: val_accuracy did not improve from 0.75591\n",
      "\n",
      "Epoch 00078: val_accuracy did not improve from 0.75591\n",
      "\n",
      "Epoch 00079: val_accuracy did not improve from 0.75591\n",
      "\n",
      "Epoch 00080: val_accuracy did not improve from 0.75591\n",
      "\n",
      "Epoch 00081: val_accuracy did not improve from 0.75591\n",
      "\n",
      "Epoch 00082: val_accuracy did not improve from 0.75591\n",
      "\n",
      "Epoch 00083: val_accuracy did not improve from 0.75591\n",
      "\n",
      "Epoch 00084: val_accuracy did not improve from 0.75591\n",
      "\n",
      "Epoch 00085: val_accuracy did not improve from 0.75591\n",
      "\n",
      "Epoch 00086: val_accuracy did not improve from 0.75591\n",
      "\n",
      "Epoch 00087: val_accuracy did not improve from 0.75591\n",
      "\n",
      "Epoch 00088: val_accuracy did not improve from 0.75591\n",
      "\n",
      "Epoch 00089: val_accuracy did not improve from 0.75591\n",
      "\n",
      "Epoch 00090: val_accuracy did not improve from 0.75591\n",
      "\n",
      "Epoch 00091: val_accuracy did not improve from 0.75591\n",
      "\n",
      "Epoch 00092: val_accuracy did not improve from 0.75591\n",
      "\n",
      "Epoch 00093: val_accuracy did not improve from 0.75591\n",
      "\n",
      "Epoch 00094: val_accuracy did not improve from 0.75591\n",
      "\n",
      "Epoch 00095: val_accuracy did not improve from 0.75591\n",
      "\n",
      "Epoch 00096: val_accuracy did not improve from 0.75591\n",
      "\n",
      "Epoch 00097: val_accuracy did not improve from 0.75591\n",
      "\n",
      "Epoch 00098: val_accuracy did not improve from 0.75591\n",
      "\n",
      "Epoch 00099: val_accuracy did not improve from 0.75591\n",
      "\n",
      "Epoch 00100: val_accuracy did not improve from 0.75591\n",
      "\n",
      "Epoch 00101: val_accuracy did not improve from 0.75591\n",
      "\n",
      "Epoch 00102: val_accuracy did not improve from 0.75591\n",
      "\n",
      "Epoch 00103: val_accuracy improved from 0.75591 to 0.76378, saving model to results/weights-improvement-103-0.76.hdf5\n",
      "\n",
      "Epoch 00104: val_accuracy did not improve from 0.76378\n",
      "\n",
      "Epoch 00105: val_accuracy did not improve from 0.76378\n",
      "\n",
      "Epoch 00106: val_accuracy did not improve from 0.76378\n",
      "\n",
      "Epoch 00107: val_accuracy did not improve from 0.76378\n",
      "\n",
      "Epoch 00108: val_accuracy did not improve from 0.76378\n",
      "\n",
      "Epoch 00109: val_accuracy did not improve from 0.76378\n",
      "\n",
      "Epoch 00110: val_accuracy did not improve from 0.76378\n",
      "\n",
      "Epoch 00111: val_accuracy did not improve from 0.76378\n",
      "\n",
      "Epoch 00112: val_accuracy did not improve from 0.76378\n",
      "\n",
      "Epoch 00113: val_accuracy did not improve from 0.76378\n",
      "\n",
      "Epoch 00114: val_accuracy did not improve from 0.76378\n",
      "\n",
      "Epoch 00115: val_accuracy did not improve from 0.76378\n",
      "\n",
      "Epoch 00116: val_accuracy did not improve from 0.76378\n",
      "\n",
      "Epoch 00117: val_accuracy did not improve from 0.76378\n",
      "\n",
      "Epoch 00118: val_accuracy did not improve from 0.76378\n",
      "\n",
      "Epoch 00119: val_accuracy did not improve from 0.76378\n",
      "\n",
      "Epoch 00120: val_accuracy did not improve from 0.76378\n",
      "\n",
      "Epoch 00121: val_accuracy did not improve from 0.76378\n",
      "\n",
      "Epoch 00122: val_accuracy did not improve from 0.76378\n",
      "\n",
      "Epoch 00123: val_accuracy did not improve from 0.76378\n",
      "\n",
      "Epoch 00124: val_accuracy did not improve from 0.76378\n",
      "\n",
      "Epoch 00125: val_accuracy did not improve from 0.76378\n",
      "\n",
      "Epoch 00126: val_accuracy did not improve from 0.76378\n",
      "\n",
      "Epoch 00127: val_accuracy did not improve from 0.76378\n",
      "\n",
      "Epoch 00128: val_accuracy did not improve from 0.76378\n",
      "\n",
      "Epoch 00129: val_accuracy did not improve from 0.76378\n",
      "\n",
      "Epoch 00130: val_accuracy did not improve from 0.76378\n",
      "\n",
      "Epoch 00131: val_accuracy did not improve from 0.76378\n",
      "\n",
      "Epoch 00132: val_accuracy did not improve from 0.76378\n",
      "\n",
      "Epoch 00133: val_accuracy did not improve from 0.76378\n",
      "\n",
      "Epoch 00134: val_accuracy did not improve from 0.76378\n",
      "\n",
      "Epoch 00135: val_accuracy did not improve from 0.76378\n",
      "\n",
      "Epoch 00136: val_accuracy did not improve from 0.76378\n",
      "\n",
      "Epoch 00137: val_accuracy did not improve from 0.76378\n",
      "\n",
      "Epoch 00138: val_accuracy did not improve from 0.76378\n",
      "\n",
      "Epoch 00139: val_accuracy did not improve from 0.76378\n",
      "\n",
      "Epoch 00140: val_accuracy did not improve from 0.76378\n",
      "\n",
      "Epoch 00141: val_accuracy did not improve from 0.76378\n",
      "\n",
      "Epoch 00142: val_accuracy did not improve from 0.76378\n",
      "\n",
      "Epoch 00143: val_accuracy did not improve from 0.76378\n"
     ]
    },
    {
     "name": "stdout",
     "output_type": "stream",
     "text": [
      "\n",
      "Epoch 00144: val_accuracy did not improve from 0.76378\n",
      "\n",
      "Epoch 00145: val_accuracy did not improve from 0.76378\n",
      "\n",
      "Epoch 00146: val_accuracy did not improve from 0.76378\n",
      "\n",
      "Epoch 00147: val_accuracy did not improve from 0.76378\n",
      "\n",
      "Epoch 00148: val_accuracy did not improve from 0.76378\n",
      "\n",
      "Epoch 00149: val_accuracy did not improve from 0.76378\n",
      "\n",
      "Epoch 00150: val_accuracy did not improve from 0.76378\n"
     ]
    },
    {
     "data": {
      "text/plain": [
       "<keras.callbacks.callbacks.History at 0x7fb1f8503370>"
      ]
     },
     "execution_count": 37,
     "metadata": {},
     "output_type": "execute_result"
    }
   ],
   "source": [
    "from keras.callbacks import ModelCheckpoint\n",
    "\n",
    "# checkpoint\n",
    "filepath = \"results/weights-improvement-{epoch:02d}-{val_accuracy:.2f}.hdf5\"\n",
    "checkpoint = ModelCheckpoint(filepath, monitor='val_accuracy', verbose=1, save_best_only=True, mode='max')\n",
    "callbacks_list = [checkpoint]\n",
    "\n",
    "# TODO - fit the model\n",
    "model.fit(X, Y, validation_split=0.33, nb_epoch=150, batch_size=10, callbacks=callbacks_list, verbose=0)"
   ]
  },
  {
   "cell_type": "code",
   "execution_count": 40,
   "metadata": {},
   "outputs": [
    {
     "name": "stdout",
     "output_type": "stream",
     "text": [
      "[<keras.callbacks.callbacks.ModelCheckpoint object at 0x7fb1f8503dc0>]\n"
     ]
    }
   ],
   "source": [
    "print(callbacks_list)"
   ]
  },
  {
   "cell_type": "markdown",
   "metadata": {},
   "source": [
    "**8.Exercise - Provide a model checkpoint for the best training epoch.**"
   ]
  },
  {
   "cell_type": "code",
   "execution_count": 41,
   "metadata": {},
   "outputs": [
    {
     "name": "stderr",
     "output_type": "stream",
     "text": [
      "<ipython-input-41-881fc0a552c3>:9: UserWarning: The `nb_epoch` argument in `fit` has been renamed `epochs`.\n",
      "  model.fit(X, Y, validation_split=0.33, nb_epoch=150, batch_size=10, callbacks=callbacks_list, verbose=0)\n"
     ]
    },
    {
     "name": "stdout",
     "output_type": "stream",
     "text": [
      "\n",
      "Epoch 00001: val_accuracy improved from -inf to 0.71654, saving model to results/weights.best.hdf5\n",
      "\n",
      "Epoch 00002: val_accuracy did not improve from 0.71654\n",
      "\n",
      "Epoch 00003: val_accuracy did not improve from 0.71654\n",
      "\n",
      "Epoch 00004: val_accuracy improved from 0.71654 to 0.72441, saving model to results/weights.best.hdf5\n",
      "\n",
      "Epoch 00005: val_accuracy improved from 0.72441 to 0.73228, saving model to results/weights.best.hdf5\n",
      "\n",
      "Epoch 00006: val_accuracy did not improve from 0.73228\n",
      "\n",
      "Epoch 00007: val_accuracy improved from 0.73228 to 0.76378, saving model to results/weights.best.hdf5\n",
      "\n",
      "Epoch 00008: val_accuracy did not improve from 0.76378\n",
      "\n",
      "Epoch 00009: val_accuracy did not improve from 0.76378\n",
      "\n",
      "Epoch 00010: val_accuracy did not improve from 0.76378\n",
      "\n",
      "Epoch 00011: val_accuracy did not improve from 0.76378\n",
      "\n",
      "Epoch 00012: val_accuracy did not improve from 0.76378\n",
      "\n",
      "Epoch 00013: val_accuracy did not improve from 0.76378\n",
      "\n",
      "Epoch 00014: val_accuracy did not improve from 0.76378\n",
      "\n",
      "Epoch 00015: val_accuracy did not improve from 0.76378\n",
      "\n",
      "Epoch 00016: val_accuracy did not improve from 0.76378\n",
      "\n",
      "Epoch 00017: val_accuracy did not improve from 0.76378\n",
      "\n",
      "Epoch 00018: val_accuracy did not improve from 0.76378\n",
      "\n",
      "Epoch 00019: val_accuracy did not improve from 0.76378\n",
      "\n",
      "Epoch 00020: val_accuracy did not improve from 0.76378\n",
      "\n",
      "Epoch 00021: val_accuracy did not improve from 0.76378\n",
      "\n",
      "Epoch 00022: val_accuracy did not improve from 0.76378\n",
      "\n",
      "Epoch 00023: val_accuracy did not improve from 0.76378\n",
      "\n",
      "Epoch 00024: val_accuracy did not improve from 0.76378\n",
      "\n",
      "Epoch 00025: val_accuracy did not improve from 0.76378\n",
      "\n",
      "Epoch 00026: val_accuracy did not improve from 0.76378\n",
      "\n",
      "Epoch 00027: val_accuracy did not improve from 0.76378\n",
      "\n",
      "Epoch 00028: val_accuracy did not improve from 0.76378\n",
      "\n",
      "Epoch 00029: val_accuracy did not improve from 0.76378\n",
      "\n",
      "Epoch 00030: val_accuracy did not improve from 0.76378\n",
      "\n",
      "Epoch 00031: val_accuracy did not improve from 0.76378\n",
      "\n",
      "Epoch 00032: val_accuracy did not improve from 0.76378\n",
      "\n",
      "Epoch 00033: val_accuracy did not improve from 0.76378\n",
      "\n",
      "Epoch 00034: val_accuracy did not improve from 0.76378\n",
      "\n",
      "Epoch 00035: val_accuracy did not improve from 0.76378\n",
      "\n",
      "Epoch 00036: val_accuracy did not improve from 0.76378\n",
      "\n",
      "Epoch 00037: val_accuracy did not improve from 0.76378\n",
      "\n",
      "Epoch 00038: val_accuracy did not improve from 0.76378\n",
      "\n",
      "Epoch 00039: val_accuracy did not improve from 0.76378\n",
      "\n",
      "Epoch 00040: val_accuracy did not improve from 0.76378\n",
      "\n",
      "Epoch 00041: val_accuracy did not improve from 0.76378\n",
      "\n",
      "Epoch 00042: val_accuracy did not improve from 0.76378\n",
      "\n",
      "Epoch 00043: val_accuracy did not improve from 0.76378\n",
      "\n",
      "Epoch 00044: val_accuracy did not improve from 0.76378\n",
      "\n",
      "Epoch 00045: val_accuracy did not improve from 0.76378\n",
      "\n",
      "Epoch 00046: val_accuracy did not improve from 0.76378\n",
      "\n",
      "Epoch 00047: val_accuracy did not improve from 0.76378\n",
      "\n",
      "Epoch 00048: val_accuracy did not improve from 0.76378\n",
      "\n",
      "Epoch 00049: val_accuracy did not improve from 0.76378\n",
      "\n",
      "Epoch 00050: val_accuracy did not improve from 0.76378\n",
      "\n",
      "Epoch 00051: val_accuracy did not improve from 0.76378\n",
      "\n",
      "Epoch 00052: val_accuracy did not improve from 0.76378\n",
      "\n",
      "Epoch 00053: val_accuracy did not improve from 0.76378\n",
      "\n",
      "Epoch 00054: val_accuracy did not improve from 0.76378\n",
      "\n",
      "Epoch 00055: val_accuracy did not improve from 0.76378\n",
      "\n",
      "Epoch 00056: val_accuracy did not improve from 0.76378\n",
      "\n",
      "Epoch 00057: val_accuracy did not improve from 0.76378\n",
      "\n",
      "Epoch 00058: val_accuracy did not improve from 0.76378\n",
      "\n",
      "Epoch 00059: val_accuracy did not improve from 0.76378\n",
      "\n",
      "Epoch 00060: val_accuracy did not improve from 0.76378\n",
      "\n",
      "Epoch 00061: val_accuracy did not improve from 0.76378\n",
      "\n",
      "Epoch 00062: val_accuracy did not improve from 0.76378\n",
      "\n",
      "Epoch 00063: val_accuracy did not improve from 0.76378\n",
      "\n",
      "Epoch 00064: val_accuracy did not improve from 0.76378\n",
      "\n",
      "Epoch 00065: val_accuracy did not improve from 0.76378\n",
      "\n",
      "Epoch 00066: val_accuracy did not improve from 0.76378\n",
      "\n",
      "Epoch 00067: val_accuracy did not improve from 0.76378\n",
      "\n",
      "Epoch 00068: val_accuracy did not improve from 0.76378\n",
      "\n",
      "Epoch 00069: val_accuracy did not improve from 0.76378\n",
      "\n",
      "Epoch 00070: val_accuracy did not improve from 0.76378\n",
      "\n",
      "Epoch 00071: val_accuracy did not improve from 0.76378\n",
      "\n",
      "Epoch 00072: val_accuracy did not improve from 0.76378\n",
      "\n",
      "Epoch 00073: val_accuracy did not improve from 0.76378\n",
      "\n",
      "Epoch 00074: val_accuracy did not improve from 0.76378\n",
      "\n",
      "Epoch 00075: val_accuracy did not improve from 0.76378\n",
      "\n",
      "Epoch 00076: val_accuracy did not improve from 0.76378\n",
      "\n",
      "Epoch 00077: val_accuracy did not improve from 0.76378\n",
      "\n",
      "Epoch 00078: val_accuracy did not improve from 0.76378\n",
      "\n",
      "Epoch 00079: val_accuracy did not improve from 0.76378\n",
      "\n",
      "Epoch 00080: val_accuracy did not improve from 0.76378\n",
      "\n",
      "Epoch 00081: val_accuracy did not improve from 0.76378\n",
      "\n",
      "Epoch 00082: val_accuracy improved from 0.76378 to 0.77165, saving model to results/weights.best.hdf5\n",
      "\n",
      "Epoch 00083: val_accuracy did not improve from 0.77165\n",
      "\n",
      "Epoch 00084: val_accuracy did not improve from 0.77165\n",
      "\n",
      "Epoch 00085: val_accuracy did not improve from 0.77165\n",
      "\n",
      "Epoch 00086: val_accuracy did not improve from 0.77165\n",
      "\n",
      "Epoch 00087: val_accuracy did not improve from 0.77165\n",
      "\n",
      "Epoch 00088: val_accuracy did not improve from 0.77165\n",
      "\n",
      "Epoch 00089: val_accuracy did not improve from 0.77165\n",
      "\n",
      "Epoch 00090: val_accuracy did not improve from 0.77165\n",
      "\n",
      "Epoch 00091: val_accuracy did not improve from 0.77165\n",
      "\n",
      "Epoch 00092: val_accuracy did not improve from 0.77165\n",
      "\n",
      "Epoch 00093: val_accuracy did not improve from 0.77165\n",
      "\n",
      "Epoch 00094: val_accuracy did not improve from 0.77165\n",
      "\n",
      "Epoch 00095: val_accuracy did not improve from 0.77165\n",
      "\n",
      "Epoch 00096: val_accuracy did not improve from 0.77165\n",
      "\n",
      "Epoch 00097: val_accuracy did not improve from 0.77165\n",
      "\n",
      "Epoch 00098: val_accuracy did not improve from 0.77165\n",
      "\n",
      "Epoch 00099: val_accuracy did not improve from 0.77165\n",
      "\n",
      "Epoch 00100: val_accuracy did not improve from 0.77165\n",
      "\n",
      "Epoch 00101: val_accuracy did not improve from 0.77165\n",
      "\n",
      "Epoch 00102: val_accuracy did not improve from 0.77165\n",
      "\n",
      "Epoch 00103: val_accuracy did not improve from 0.77165\n",
      "\n",
      "Epoch 00104: val_accuracy did not improve from 0.77165\n",
      "\n",
      "Epoch 00105: val_accuracy did not improve from 0.77165\n",
      "\n",
      "Epoch 00106: val_accuracy did not improve from 0.77165\n",
      "\n",
      "Epoch 00107: val_accuracy did not improve from 0.77165\n",
      "\n",
      "Epoch 00108: val_accuracy did not improve from 0.77165\n",
      "\n",
      "Epoch 00109: val_accuracy did not improve from 0.77165\n",
      "\n",
      "Epoch 00110: val_accuracy did not improve from 0.77165\n",
      "\n",
      "Epoch 00111: val_accuracy did not improve from 0.77165\n",
      "\n",
      "Epoch 00112: val_accuracy did not improve from 0.77165\n",
      "\n",
      "Epoch 00113: val_accuracy did not improve from 0.77165\n",
      "\n",
      "Epoch 00114: val_accuracy did not improve from 0.77165\n",
      "\n",
      "Epoch 00115: val_accuracy did not improve from 0.77165\n",
      "\n",
      "Epoch 00116: val_accuracy did not improve from 0.77165\n",
      "\n",
      "Epoch 00117: val_accuracy did not improve from 0.77165\n",
      "\n",
      "Epoch 00118: val_accuracy did not improve from 0.77165\n",
      "\n",
      "Epoch 00119: val_accuracy did not improve from 0.77165\n",
      "\n",
      "Epoch 00120: val_accuracy did not improve from 0.77165\n",
      "\n",
      "Epoch 00121: val_accuracy did not improve from 0.77165\n",
      "\n",
      "Epoch 00122: val_accuracy did not improve from 0.77165\n",
      "\n",
      "Epoch 00123: val_accuracy did not improve from 0.77165\n",
      "\n",
      "Epoch 00124: val_accuracy did not improve from 0.77165\n",
      "\n",
      "Epoch 00125: val_accuracy did not improve from 0.77165\n",
      "\n",
      "Epoch 00126: val_accuracy did not improve from 0.77165\n",
      "\n",
      "Epoch 00127: val_accuracy did not improve from 0.77165\n",
      "\n",
      "Epoch 00128: val_accuracy did not improve from 0.77165\n",
      "\n",
      "Epoch 00129: val_accuracy did not improve from 0.77165\n",
      "\n",
      "Epoch 00130: val_accuracy did not improve from 0.77165\n",
      "\n",
      "Epoch 00131: val_accuracy did not improve from 0.77165\n",
      "\n",
      "Epoch 00132: val_accuracy did not improve from 0.77165\n",
      "\n",
      "Epoch 00133: val_accuracy did not improve from 0.77165\n",
      "\n",
      "Epoch 00134: val_accuracy did not improve from 0.77165\n",
      "\n",
      "Epoch 00135: val_accuracy did not improve from 0.77165\n",
      "\n",
      "Epoch 00136: val_accuracy did not improve from 0.77165\n",
      "\n",
      "Epoch 00137: val_accuracy did not improve from 0.77165\n",
      "\n",
      "Epoch 00138: val_accuracy did not improve from 0.77165\n",
      "\n",
      "Epoch 00139: val_accuracy did not improve from 0.77165\n",
      "\n",
      "Epoch 00140: val_accuracy did not improve from 0.77165\n",
      "\n",
      "Epoch 00141: val_accuracy did not improve from 0.77165\n",
      "\n",
      "Epoch 00142: val_accuracy did not improve from 0.77165\n",
      "\n",
      "Epoch 00143: val_accuracy did not improve from 0.77165\n",
      "\n",
      "Epoch 00144: val_accuracy did not improve from 0.77165\n"
     ]
    },
    {
     "name": "stdout",
     "output_type": "stream",
     "text": [
      "\n",
      "Epoch 00145: val_accuracy did not improve from 0.77165\n",
      "\n",
      "Epoch 00146: val_accuracy did not improve from 0.77165\n",
      "\n",
      "Epoch 00147: val_accuracy did not improve from 0.77165\n",
      "\n",
      "Epoch 00148: val_accuracy did not improve from 0.77165\n",
      "\n",
      "Epoch 00149: val_accuracy did not improve from 0.77165\n",
      "\n",
      "Epoch 00150: val_accuracy did not improve from 0.77165\n"
     ]
    },
    {
     "data": {
      "text/plain": [
       "<keras.callbacks.callbacks.History at 0x7fb1f850cb80>"
      ]
     },
     "execution_count": 41,
     "metadata": {},
     "output_type": "execute_result"
    }
   ],
   "source": [
    "# checkpoint\n",
    "filepath = \"results/weights.best.hdf5\"\n",
    "# TODO - create model checkpoint\n",
    "checkpoint = ModelCheckpoint(filepath, monitor='val_accuracy', verbose=1, save_best_only=True, mode='max')\n",
    "callbacks_list = [checkpoint]\n",
    "\n",
    "\n",
    "# TODO - fit the model\n",
    "model.fit(X, Y, validation_split=0.33, nb_epoch=150, batch_size=10, callbacks=callbacks_list, verbose=0)"
   ]
  },
  {
   "cell_type": "markdown",
   "metadata": {},
   "source": [
    "**9. Exercise - Create model and set weights from previous best checkpoint.**"
   ]
  },
  {
   "cell_type": "code",
   "execution_count": 46,
   "metadata": {},
   "outputs": [
    {
     "name": "stdout",
     "output_type": "stream",
     "text": [
      "768/768 [==============================] - 0s 40us/step\n",
      "accuracy: 79.04%\n"
     ]
    },
    {
     "name": "stderr",
     "output_type": "stream",
     "text": [
      "<ipython-input-46-0378e241d8ba>:3: UserWarning: Update your `Dense` call to the Keras 2 API: `Dense(12, input_dim=8, activation=\"relu\", kernel_initializer=\"uniform\")`\n",
      "  load_model.add(Dense(12, input_dim=8, init='uniform', activation='relu'))\n",
      "<ipython-input-46-0378e241d8ba>:4: UserWarning: Update your `Dense` call to the Keras 2 API: `Dense(8, activation=\"relu\", kernel_initializer=\"uniform\")`\n",
      "  load_model.add(Dense(8, init='uniform', activation='relu'))\n",
      "<ipython-input-46-0378e241d8ba>:5: UserWarning: Update your `Dense` call to the Keras 2 API: `Dense(1, activation=\"sigmoid\", kernel_initializer=\"uniform\")`\n",
      "  load_model.add(Dense(1, init='uniform', activation='sigmoid'))\n"
     ]
    }
   ],
   "source": [
    "# create model\n",
    "load_model = Sequential()\n",
    "load_model.add(Dense(12, input_dim=8, init='uniform', activation='relu'))\n",
    "load_model.add(Dense(8, init='uniform', activation='relu'))\n",
    "load_model.add(Dense(1, init='uniform', activation='sigmoid'))\n",
    "\n",
    "# TODO - load weights\n",
    "load_model.load_weights(\"results/weights.best.hdf5\")\n",
    "\n",
    "# TODO - compile model \n",
    "load_model.compile(loss='binary_crossentropy', optimizer='rmsprop', metrics=['accuracy'])\n",
    "\n",
    "scores = load_model.evaluate(X, Y)\n",
    "\n",
    "# TODO - estimate accuracy on whole dataset using loaded weights\n",
    "print(\"%s: %.2f%%\" % (load_model.metrics_names[1], scores[1]*100))"
   ]
  },
  {
   "cell_type": "code",
   "execution_count": 45,
   "metadata": {},
   "outputs": [
    {
     "data": {
      "text/plain": [
       "[0.5715850902100404, 0.7213541865348816]"
      ]
     },
     "execution_count": 45,
     "metadata": {},
     "output_type": "execute_result"
    }
   ],
   "source": [
    "scores"
   ]
  },
  {
   "cell_type": "markdown",
   "metadata": {},
   "source": [
    "**10. Exercise - Create model with dropout in the input layer with weight constraint, using standardized inputs.**"
   ]
  },
  {
   "cell_type": "code",
   "execution_count": 47,
   "metadata": {
    "scrolled": true
   },
   "outputs": [
    {
     "name": "stderr",
     "output_type": "stream",
     "text": [
      "<ipython-input-47-8fa558c80bb2>:11: UserWarning: Update your `Dense` call to the Keras 2 API: `Dense(12, input_dim=8, activation=\"relu\", kernel_initializer=\"glorot_uniform\")`\n",
      "  model.add(Dense(12, input_dim=8, init='glorot_uniform', activation='relu'))\n",
      "<ipython-input-47-8fa558c80bb2>:12: UserWarning: Update your `Dense` call to the Keras 2 API: `Dense(8, activation=\"relu\", kernel_initializer=\"glorot_uniform\")`\n",
      "  model.add(Dense(8, init='glorot_uniform', activation='relu'))\n",
      "<ipython-input-47-8fa558c80bb2>:13: UserWarning: Update your `Dense` call to the Keras 2 API: `Dense(1, activation=\"sigmoid\", kernel_initializer=\"glorot_uniform\")`\n",
      "  model.add(Dense(1, init='glorot_uniform', activation='sigmoid'))\n"
     ]
    },
    {
     "name": "stdout",
     "output_type": "stream",
     "text": [
      "Epoch 1/1\n",
      " - 0s - loss: 0.8545 - accuracy: 0.3616\n"
     ]
    },
    {
     "name": "stderr",
     "output_type": "stream",
     "text": [
      "<ipython-input-47-8fa558c80bb2>:11: UserWarning: Update your `Dense` call to the Keras 2 API: `Dense(12, input_dim=8, activation=\"relu\", kernel_initializer=\"glorot_uniform\")`\n",
      "  model.add(Dense(12, input_dim=8, init='glorot_uniform', activation='relu'))\n",
      "<ipython-input-47-8fa558c80bb2>:12: UserWarning: Update your `Dense` call to the Keras 2 API: `Dense(8, activation=\"relu\", kernel_initializer=\"glorot_uniform\")`\n",
      "  model.add(Dense(8, init='glorot_uniform', activation='relu'))\n",
      "<ipython-input-47-8fa558c80bb2>:13: UserWarning: Update your `Dense` call to the Keras 2 API: `Dense(1, activation=\"sigmoid\", kernel_initializer=\"glorot_uniform\")`\n",
      "  model.add(Dense(1, init='glorot_uniform', activation='sigmoid'))\n"
     ]
    },
    {
     "name": "stdout",
     "output_type": "stream",
     "text": [
      "Epoch 1/1\n",
      " - 0s - loss: 0.6684 - accuracy: 0.5879\n"
     ]
    },
    {
     "name": "stderr",
     "output_type": "stream",
     "text": [
      "<ipython-input-47-8fa558c80bb2>:11: UserWarning: Update your `Dense` call to the Keras 2 API: `Dense(12, input_dim=8, activation=\"relu\", kernel_initializer=\"glorot_uniform\")`\n",
      "  model.add(Dense(12, input_dim=8, init='glorot_uniform', activation='relu'))\n",
      "<ipython-input-47-8fa558c80bb2>:12: UserWarning: Update your `Dense` call to the Keras 2 API: `Dense(8, activation=\"relu\", kernel_initializer=\"glorot_uniform\")`\n",
      "  model.add(Dense(8, init='glorot_uniform', activation='relu'))\n",
      "<ipython-input-47-8fa558c80bb2>:13: UserWarning: Update your `Dense` call to the Keras 2 API: `Dense(1, activation=\"sigmoid\", kernel_initializer=\"glorot_uniform\")`\n",
      "  model.add(Dense(1, init='glorot_uniform', activation='sigmoid'))\n"
     ]
    },
    {
     "name": "stdout",
     "output_type": "stream",
     "text": [
      "Epoch 1/1\n",
      " - 0s - loss: 0.7772 - accuracy: 0.4707\n"
     ]
    },
    {
     "name": "stderr",
     "output_type": "stream",
     "text": [
      "<ipython-input-47-8fa558c80bb2>:11: UserWarning: Update your `Dense` call to the Keras 2 API: `Dense(12, input_dim=8, activation=\"relu\", kernel_initializer=\"glorot_uniform\")`\n",
      "  model.add(Dense(12, input_dim=8, init='glorot_uniform', activation='relu'))\n",
      "<ipython-input-47-8fa558c80bb2>:12: UserWarning: Update your `Dense` call to the Keras 2 API: `Dense(8, activation=\"relu\", kernel_initializer=\"glorot_uniform\")`\n",
      "  model.add(Dense(8, init='glorot_uniform', activation='relu'))\n",
      "<ipython-input-47-8fa558c80bb2>:13: UserWarning: Update your `Dense` call to the Keras 2 API: `Dense(1, activation=\"sigmoid\", kernel_initializer=\"glorot_uniform\")`\n",
      "  model.add(Dense(1, init='glorot_uniform', activation='sigmoid'))\n"
     ]
    },
    {
     "name": "stdout",
     "output_type": "stream",
     "text": [
      "Epoch 1/1\n",
      " - 0s - loss: 0.6574 - accuracy: 0.6341\n"
     ]
    },
    {
     "name": "stderr",
     "output_type": "stream",
     "text": [
      "<ipython-input-47-8fa558c80bb2>:11: UserWarning: Update your `Dense` call to the Keras 2 API: `Dense(12, input_dim=8, activation=\"relu\", kernel_initializer=\"glorot_uniform\")`\n",
      "  model.add(Dense(12, input_dim=8, init='glorot_uniform', activation='relu'))\n",
      "<ipython-input-47-8fa558c80bb2>:12: UserWarning: Update your `Dense` call to the Keras 2 API: `Dense(8, activation=\"relu\", kernel_initializer=\"glorot_uniform\")`\n",
      "  model.add(Dense(8, init='glorot_uniform', activation='relu'))\n",
      "<ipython-input-47-8fa558c80bb2>:13: UserWarning: Update your `Dense` call to the Keras 2 API: `Dense(1, activation=\"sigmoid\", kernel_initializer=\"glorot_uniform\")`\n",
      "  model.add(Dense(1, init='glorot_uniform', activation='sigmoid'))\n"
     ]
    },
    {
     "name": "stdout",
     "output_type": "stream",
     "text": [
      "Epoch 1/1\n",
      " - 0s - loss: 0.7030 - accuracy: 0.5691\n",
      "Accuracy: 62.52% (10.36%)\n"
     ]
    }
   ],
   "source": [
    "from sklearn.pipeline import Pipeline\n",
    "from sklearn.preprocessing import StandardScaler\n",
    "from sklearn.model_selection import StratifiedKFold, cross_val_score\n",
    "from keras.layers import Dropout\n",
    "\n",
    "# dropout in the input layer with weight constraint\n",
    "def create_model_dropout_init():\n",
    "    # create model\n",
    "    model = Sequential()\n",
    "    model.add(Dropout(0.2, input_shape=(8,)))\n",
    "    model.add(Dense(12, input_dim=8, init='glorot_uniform', activation='relu'))\n",
    "    \n",
    "    model.add(Dense(8, init='glorot_uniform', activation='relu'))\n",
    "    \n",
    "    model.add(Dense(1, init='glorot_uniform', activation='sigmoid'))\n",
    "    \n",
    "    # compile model\n",
    "    model.compile(loss='binary_crossentropy', optimizer='rmsprop', metrics=['accuracy'])\n",
    "    return model\n",
    " \n",
    "estimators = []\n",
    "estimators.append(('standardize', StandardScaler()))\n",
    "estimators.append(('mlp', KerasClassifier(build_fn=create_model_dropout_init, nb_epoch=150, batch_size=10, verbose=2)))\n",
    "pipeline = Pipeline(estimators)\n",
    "kfold = StratifiedKFold(n_splits=5, shuffle=True, random_state=seed)\n",
    "results = cross_val_score(pipeline, X, Y, cv=kfold)\n",
    "print(\"Accuracy: %.2f%% (%.2f%%)\" % (results.mean()*100, results.std()*100))"
   ]
  },
  {
   "cell_type": "markdown",
   "metadata": {},
   "source": [
    "**11. Exercise - Create model with dropout in hidden layers with weight constraint, using standardized inputs.**"
   ]
  },
  {
   "cell_type": "code",
   "execution_count": 55,
   "metadata": {
    "scrolled": true
   },
   "outputs": [
    {
     "name": "stderr",
     "output_type": "stream",
     "text": [
      "<ipython-input-55-09647502846b>:6: UserWarning: Update your `Dense` call to the Keras 2 API: `Dense(12, input_dim=8, activation=\"relu\", kernel_initializer=\"glorot_uniform\")`\n",
      "  model.add(Dense(12, input_dim=8, init='glorot_uniform', activation='relu'))\n",
      "<ipython-input-55-09647502846b>:8: UserWarning: Update your `Dense` call to the Keras 2 API: `Dense(8, activation=\"relu\", kernel_initializer=\"glorot_uniform\")`\n",
      "  model.add(Dense(8, init='glorot_uniform', activation='relu'))\n",
      "<ipython-input-55-09647502846b>:10: UserWarning: Update your `Dense` call to the Keras 2 API: `Dense(1, activation=\"sigmoid\", kernel_initializer=\"glorot_uniform\")`\n",
      "  model.add(Dense(1, init='glorot_uniform', activation='sigmoid'))\n"
     ]
    },
    {
     "name": "stdout",
     "output_type": "stream",
     "text": [
      "Epoch 1/1\n",
      " - 0s - loss: 0.7669 - accuracy: 0.4446\n"
     ]
    },
    {
     "name": "stderr",
     "output_type": "stream",
     "text": [
      "<ipython-input-55-09647502846b>:6: UserWarning: Update your `Dense` call to the Keras 2 API: `Dense(12, input_dim=8, activation=\"relu\", kernel_initializer=\"glorot_uniform\")`\n",
      "  model.add(Dense(12, input_dim=8, init='glorot_uniform', activation='relu'))\n",
      "<ipython-input-55-09647502846b>:8: UserWarning: Update your `Dense` call to the Keras 2 API: `Dense(8, activation=\"relu\", kernel_initializer=\"glorot_uniform\")`\n",
      "  model.add(Dense(8, init='glorot_uniform', activation='relu'))\n",
      "<ipython-input-55-09647502846b>:10: UserWarning: Update your `Dense` call to the Keras 2 API: `Dense(1, activation=\"sigmoid\", kernel_initializer=\"glorot_uniform\")`\n",
      "  model.add(Dense(1, init='glorot_uniform', activation='sigmoid'))\n"
     ]
    },
    {
     "name": "stdout",
     "output_type": "stream",
     "text": [
      "Epoch 1/1\n",
      " - 0s - loss: 0.7033 - accuracy: 0.6336\n"
     ]
    },
    {
     "name": "stderr",
     "output_type": "stream",
     "text": [
      "<ipython-input-55-09647502846b>:6: UserWarning: Update your `Dense` call to the Keras 2 API: `Dense(12, input_dim=8, activation=\"relu\", kernel_initializer=\"glorot_uniform\")`\n",
      "  model.add(Dense(12, input_dim=8, init='glorot_uniform', activation='relu'))\n",
      "<ipython-input-55-09647502846b>:8: UserWarning: Update your `Dense` call to the Keras 2 API: `Dense(8, activation=\"relu\", kernel_initializer=\"glorot_uniform\")`\n",
      "  model.add(Dense(8, init='glorot_uniform', activation='relu'))\n",
      "<ipython-input-55-09647502846b>:10: UserWarning: Update your `Dense` call to the Keras 2 API: `Dense(1, activation=\"sigmoid\", kernel_initializer=\"glorot_uniform\")`\n",
      "  model.add(Dense(1, init='glorot_uniform', activation='sigmoid'))\n"
     ]
    },
    {
     "name": "stdout",
     "output_type": "stream",
     "text": [
      "Epoch 1/1\n",
      " - 0s - loss: 0.6624 - accuracy: 0.6498\n"
     ]
    },
    {
     "name": "stderr",
     "output_type": "stream",
     "text": [
      "<ipython-input-55-09647502846b>:6: UserWarning: Update your `Dense` call to the Keras 2 API: `Dense(12, input_dim=8, activation=\"relu\", kernel_initializer=\"glorot_uniform\")`\n",
      "  model.add(Dense(12, input_dim=8, init='glorot_uniform', activation='relu'))\n",
      "<ipython-input-55-09647502846b>:8: UserWarning: Update your `Dense` call to the Keras 2 API: `Dense(8, activation=\"relu\", kernel_initializer=\"glorot_uniform\")`\n",
      "  model.add(Dense(8, init='glorot_uniform', activation='relu'))\n",
      "<ipython-input-55-09647502846b>:10: UserWarning: Update your `Dense` call to the Keras 2 API: `Dense(1, activation=\"sigmoid\", kernel_initializer=\"glorot_uniform\")`\n",
      "  model.add(Dense(1, init='glorot_uniform', activation='sigmoid'))\n"
     ]
    },
    {
     "name": "stdout",
     "output_type": "stream",
     "text": [
      "Epoch 1/1\n",
      " - 0s - loss: 0.7324 - accuracy: 0.4634\n"
     ]
    },
    {
     "name": "stderr",
     "output_type": "stream",
     "text": [
      "<ipython-input-55-09647502846b>:6: UserWarning: Update your `Dense` call to the Keras 2 API: `Dense(12, input_dim=8, activation=\"relu\", kernel_initializer=\"glorot_uniform\")`\n",
      "  model.add(Dense(12, input_dim=8, init='glorot_uniform', activation='relu'))\n",
      "<ipython-input-55-09647502846b>:8: UserWarning: Update your `Dense` call to the Keras 2 API: `Dense(8, activation=\"relu\", kernel_initializer=\"glorot_uniform\")`\n",
      "  model.add(Dense(8, init='glorot_uniform', activation='relu'))\n",
      "<ipython-input-55-09647502846b>:10: UserWarning: Update your `Dense` call to the Keras 2 API: `Dense(1, activation=\"sigmoid\", kernel_initializer=\"glorot_uniform\")`\n",
      "  model.add(Dense(1, init='glorot_uniform', activation='sigmoid'))\n"
     ]
    },
    {
     "name": "stdout",
     "output_type": "stream",
     "text": [
      "Epoch 1/1\n",
      " - 0s - loss: 0.7027 - accuracy: 0.5740\n",
      "Accuracy: 60.68% (5.12%)\n"
     ]
    }
   ],
   "source": [
    "# TODO\n",
    "# dropout in the input layer with weight constraint\n",
    "def create_model_dropout_init():\n",
    "    # create model\n",
    "    model = Sequential()\n",
    "    model.add(Dense(12, input_dim=8, init='glorot_uniform', activation='relu'))\n",
    "    model.add(Dropout(0.2, input_shape=(8,)))\n",
    "    model.add(Dense(8, init='glorot_uniform', activation='relu'))\n",
    "    model.add(Dropout(0.2, input_shape=(8,)))\n",
    "    model.add(Dense(1, init='glorot_uniform', activation='sigmoid'))\n",
    "    \n",
    "    # compile model\n",
    "    model.compile(loss='binary_crossentropy', optimizer='rmsprop', metrics=['accuracy'])\n",
    "    return model\n",
    " \n",
    "estimators = []\n",
    "estimators.append(('standardize', StandardScaler()))\n",
    "estimators.append(('mlp', KerasClassifier(build_fn=create_model_dropout_init, nb_epoch=150, batch_size=10, verbose=2)))\n",
    "pipeline = Pipeline(estimators)\n",
    "kfold = StratifiedKFold(n_splits=5, shuffle=True, random_state=seed)\n",
    "results = cross_val_score(pipeline, X, Y, cv=kfold)\n",
    "print(\"Accuracy: %.2f%% (%.2f%%)\" % (results.mean()*100, results.std()*100))"
   ]
  },
  {
   "cell_type": "markdown",
   "metadata": {},
   "source": [
    "**12.Exercise - Create a model with a decreasing decay rate, such as *decay_rate = learning_rate / epochs*, starting with *lr=0.1* and *epochs=50*, for a SGD optimizer with momemtum=0.8.**"
   ]
  },
  {
   "cell_type": "code",
   "execution_count": 50,
   "metadata": {},
   "outputs": [
    {
     "name": "stderr",
     "output_type": "stream",
     "text": [
      "<ipython-input-50-0f43a2a084a3>:5: UserWarning: Update your `Dense` call to the Keras 2 API: `Dense(12, input_dim=8, activation=\"relu\", kernel_initializer=\"glorot_uniform\")`\n",
      "  model_sgd_lr.add(Dense(12, input_dim=8, init='glorot_uniform', activation='relu'))\n",
      "<ipython-input-50-0f43a2a084a3>:6: UserWarning: Update your `Dense` call to the Keras 2 API: `Dense(8, activation=\"relu\", kernel_initializer=\"glorot_uniform\")`\n",
      "  model_sgd_lr.add(Dense(8, init='glorot_uniform', activation='relu'))\n",
      "<ipython-input-50-0f43a2a084a3>:7: UserWarning: Update your `Dense` call to the Keras 2 API: `Dense(1, activation=\"sigmoid\", kernel_initializer=\"glorot_uniform\")`\n",
      "  model_sgd_lr.add(Dense(1, init='glorot_uniform', activation='sigmoid'))\n",
      "<ipython-input-50-0f43a2a084a3>:18: UserWarning: The `nb_epoch` argument in `fit` has been renamed `epochs`.\n",
      "  model_sgd_lr.fit(X, Y, validation_split=0.33, nb_epoch=epochs, batch_size=10)\n"
     ]
    },
    {
     "name": "stdout",
     "output_type": "stream",
     "text": [
      "Train on 514 samples, validate on 254 samples\n",
      "Epoch 1/50\n",
      "514/514 [==============================] - 0s 325us/step - loss: 7.8082 - accuracy: 0.6245 - val_loss: 0.6280 - val_accuracy: 0.6772\n",
      "Epoch 2/50\n",
      "514/514 [==============================] - 0s 128us/step - loss: 0.6601 - accuracy: 0.6401 - val_loss: 0.6328 - val_accuracy: 0.6732\n",
      "Epoch 3/50\n",
      "514/514 [==============================] - 0s 118us/step - loss: 0.6534 - accuracy: 0.6420 - val_loss: 0.6322 - val_accuracy: 0.6732\n",
      "Epoch 4/50\n",
      "514/514 [==============================] - 0s 131us/step - loss: 0.6532 - accuracy: 0.6420 - val_loss: 0.6322 - val_accuracy: 0.6732\n",
      "Epoch 5/50\n",
      "514/514 [==============================] - 0s 134us/step - loss: 0.6559 - accuracy: 0.6420 - val_loss: 0.6334 - val_accuracy: 0.6732\n",
      "Epoch 6/50\n",
      "514/514 [==============================] - 0s 130us/step - loss: 0.6545 - accuracy: 0.6420 - val_loss: 0.6334 - val_accuracy: 0.6732\n",
      "Epoch 7/50\n",
      "514/514 [==============================] - 0s 129us/step - loss: 0.6543 - accuracy: 0.6420 - val_loss: 0.6336 - val_accuracy: 0.6732\n",
      "Epoch 8/50\n",
      "514/514 [==============================] - 0s 166us/step - loss: 0.6569 - accuracy: 0.6420 - val_loss: 0.6336 - val_accuracy: 0.6732\n",
      "Epoch 9/50\n",
      "514/514 [==============================] - 0s 152us/step - loss: 0.6533 - accuracy: 0.6420 - val_loss: 0.6326 - val_accuracy: 0.6732\n",
      "Epoch 10/50\n",
      "514/514 [==============================] - 0s 168us/step - loss: 0.6533 - accuracy: 0.6420 - val_loss: 0.6355 - val_accuracy: 0.6732\n",
      "Epoch 11/50\n",
      "514/514 [==============================] - 0s 144us/step - loss: 0.6528 - accuracy: 0.6420 - val_loss: 0.6344 - val_accuracy: 0.6732\n",
      "Epoch 12/50\n",
      "514/514 [==============================] - 0s 144us/step - loss: 0.6536 - accuracy: 0.6420 - val_loss: 0.6323 - val_accuracy: 0.6732\n",
      "Epoch 13/50\n",
      "514/514 [==============================] - 0s 141us/step - loss: 0.6537 - accuracy: 0.6420 - val_loss: 0.6398 - val_accuracy: 0.6732\n",
      "Epoch 14/50\n",
      "514/514 [==============================] - 0s 140us/step - loss: 0.6525 - accuracy: 0.6420 - val_loss: 0.6347 - val_accuracy: 0.6732\n",
      "Epoch 15/50\n",
      "514/514 [==============================] - 0s 132us/step - loss: 0.6524 - accuracy: 0.6420 - val_loss: 0.6360 - val_accuracy: 0.6732\n",
      "Epoch 16/50\n",
      "514/514 [==============================] - 0s 146us/step - loss: 0.6533 - accuracy: 0.6420 - val_loss: 0.6360 - val_accuracy: 0.6732\n",
      "Epoch 17/50\n",
      "514/514 [==============================] - 0s 150us/step - loss: 0.6527 - accuracy: 0.6420 - val_loss: 0.6331 - val_accuracy: 0.6732\n",
      "Epoch 18/50\n",
      "514/514 [==============================] - 0s 146us/step - loss: 0.6526 - accuracy: 0.6420 - val_loss: 0.6359 - val_accuracy: 0.6732\n",
      "Epoch 19/50\n",
      "514/514 [==============================] - 0s 145us/step - loss: 0.6546 - accuracy: 0.6420 - val_loss: 0.6344 - val_accuracy: 0.6732\n",
      "Epoch 20/50\n",
      "514/514 [==============================] - 0s 148us/step - loss: 0.6521 - accuracy: 0.6420 - val_loss: 0.6339 - val_accuracy: 0.6732\n",
      "Epoch 21/50\n",
      "514/514 [==============================] - 0s 145us/step - loss: 0.6523 - accuracy: 0.6420 - val_loss: 0.6324 - val_accuracy: 0.6732\n",
      "Epoch 22/50\n",
      "514/514 [==============================] - 0s 148us/step - loss: 0.6528 - accuracy: 0.6420 - val_loss: 0.6339 - val_accuracy: 0.6732\n",
      "Epoch 23/50\n",
      "514/514 [==============================] - 0s 149us/step - loss: 0.6529 - accuracy: 0.6420 - val_loss: 0.6358 - val_accuracy: 0.6732\n",
      "Epoch 24/50\n",
      "514/514 [==============================] - 0s 156us/step - loss: 0.6516 - accuracy: 0.6420 - val_loss: 0.6334 - val_accuracy: 0.6732\n",
      "Epoch 25/50\n",
      "514/514 [==============================] - 0s 155us/step - loss: 0.6528 - accuracy: 0.6420 - val_loss: 0.6329 - val_accuracy: 0.6732\n",
      "Epoch 26/50\n",
      "514/514 [==============================] - 0s 144us/step - loss: 0.6526 - accuracy: 0.6420 - val_loss: 0.6331 - val_accuracy: 0.6732\n",
      "Epoch 27/50\n",
      "514/514 [==============================] - 0s 133us/step - loss: 0.6528 - accuracy: 0.6420 - val_loss: 0.6341 - val_accuracy: 0.6732\n",
      "Epoch 28/50\n",
      "514/514 [==============================] - 0s 136us/step - loss: 0.6522 - accuracy: 0.6420 - val_loss: 0.6339 - val_accuracy: 0.6732\n",
      "Epoch 29/50\n",
      "514/514 [==============================] - 0s 123us/step - loss: 0.6527 - accuracy: 0.6420 - val_loss: 0.6337 - val_accuracy: 0.6732\n",
      "Epoch 30/50\n",
      "514/514 [==============================] - 0s 125us/step - loss: 0.6528 - accuracy: 0.6420 - val_loss: 0.6346 - val_accuracy: 0.6732\n",
      "Epoch 31/50\n",
      "514/514 [==============================] - 0s 149us/step - loss: 0.6521 - accuracy: 0.6420 - val_loss: 0.6336 - val_accuracy: 0.6732\n",
      "Epoch 32/50\n",
      "514/514 [==============================] - 0s 134us/step - loss: 0.6521 - accuracy: 0.6420 - val_loss: 0.6347 - val_accuracy: 0.6732\n",
      "Epoch 33/50\n",
      "514/514 [==============================] - 0s 145us/step - loss: 0.6523 - accuracy: 0.6420 - val_loss: 0.6340 - val_accuracy: 0.6732\n",
      "Epoch 34/50\n",
      "514/514 [==============================] - 0s 140us/step - loss: 0.6520 - accuracy: 0.6420 - val_loss: 0.6336 - val_accuracy: 0.6732\n",
      "Epoch 35/50\n",
      "514/514 [==============================] - 0s 147us/step - loss: 0.6518 - accuracy: 0.6420 - val_loss: 0.6347 - val_accuracy: 0.6732\n",
      "Epoch 36/50\n",
      "514/514 [==============================] - 0s 142us/step - loss: 0.6538 - accuracy: 0.6420 - val_loss: 0.6341 - val_accuracy: 0.6732\n",
      "Epoch 37/50\n",
      "514/514 [==============================] - 0s 144us/step - loss: 0.6522 - accuracy: 0.6420 - val_loss: 0.6348 - val_accuracy: 0.6732\n",
      "Epoch 38/50\n",
      "514/514 [==============================] - 0s 145us/step - loss: 0.6521 - accuracy: 0.6420 - val_loss: 0.6356 - val_accuracy: 0.6732\n",
      "Epoch 39/50\n",
      "514/514 [==============================] - 0s 143us/step - loss: 0.6525 - accuracy: 0.6420 - val_loss: 0.6348 - val_accuracy: 0.6732\n",
      "Epoch 40/50\n",
      "514/514 [==============================] - 0s 141us/step - loss: 0.6531 - accuracy: 0.6420 - val_loss: 0.6342 - val_accuracy: 0.6732\n",
      "Epoch 41/50\n",
      "514/514 [==============================] - 0s 133us/step - loss: 0.6526 - accuracy: 0.6420 - val_loss: 0.6351 - val_accuracy: 0.6732\n",
      "Epoch 42/50\n",
      "514/514 [==============================] - 0s 141us/step - loss: 0.6521 - accuracy: 0.6420 - val_loss: 0.6342 - val_accuracy: 0.6732\n",
      "Epoch 43/50\n",
      "514/514 [==============================] - 0s 141us/step - loss: 0.6521 - accuracy: 0.6420 - val_loss: 0.6341 - val_accuracy: 0.6732\n",
      "Epoch 44/50\n",
      "514/514 [==============================] - 0s 147us/step - loss: 0.6523 - accuracy: 0.6420 - val_loss: 0.6340 - val_accuracy: 0.6732\n",
      "Epoch 45/50\n",
      "514/514 [==============================] - 0s 145us/step - loss: 0.6524 - accuracy: 0.6420 - val_loss: 0.6344 - val_accuracy: 0.6732\n",
      "Epoch 46/50\n",
      "514/514 [==============================] - 0s 150us/step - loss: 0.6522 - accuracy: 0.6420 - val_loss: 0.6342 - val_accuracy: 0.6732\n",
      "Epoch 47/50\n",
      "514/514 [==============================] - 0s 143us/step - loss: 0.6522 - accuracy: 0.6420 - val_loss: 0.6344 - val_accuracy: 0.6732\n",
      "Epoch 48/50\n",
      "514/514 [==============================] - 0s 133us/step - loss: 0.6521 - accuracy: 0.6420 - val_loss: 0.6346 - val_accuracy: 0.6732\n",
      "Epoch 49/50\n",
      "514/514 [==============================] - 0s 138us/step - loss: 0.6518 - accuracy: 0.6420 - val_loss: 0.6340 - val_accuracy: 0.6732\n",
      "Epoch 50/50\n",
      "514/514 [==============================] - 0s 143us/step - loss: 0.6523 - accuracy: 0.6420 - val_loss: 0.6338 - val_accuracy: 0.6732\n"
     ]
    },
    {
     "data": {
      "text/plain": [
       "<keras.callbacks.callbacks.History at 0x7fb1f75a7fa0>"
      ]
     },
     "execution_count": 50,
     "metadata": {},
     "output_type": "execute_result"
    }
   ],
   "source": [
    "from keras.optimizers import SGD\n",
    "\n",
    "# create model\n",
    "model_sgd_lr = Sequential()\n",
    "model_sgd_lr.add(Dense(12, input_dim=8, init='glorot_uniform', activation='relu'))\n",
    "model_sgd_lr.add(Dense(8, init='glorot_uniform', activation='relu'))\n",
    "model_sgd_lr.add(Dense(1, init='glorot_uniform', activation='sigmoid'))\n",
    "\n",
    "# compile model\n",
    "epochs = 50\n",
    "learning_rate = 0.1\n",
    "decay_rate = learning_rate / epochs\n",
    "momentum = 0.8\n",
    "sgd = SGD(lr=learning_rate, momentum=momentum, decay=decay_rate, nesterov=False)\n",
    "model_sgd_lr.compile(loss='binary_crossentropy', optimizer=sgd, metrics=['accuracy'])\n",
    "\n",
    "# fit the model\n",
    "model_sgd_lr.fit(X, Y, validation_split=0.33, nb_epoch=epochs, batch_size=10)"
   ]
  },
  {
   "cell_type": "markdown",
   "metadata": {},
   "source": [
    "**13.Exercise - Create a model with a learning rate scheduler for each epoch, with the following conditions:**\n",
    "* ***initial_lrate = 0.1***\n",
    "* ***drop = 0.5***\n",
    "* ***epochs_drop = 10.0***\n",
    "* ***lrate = initial_lrate $\\times$ math.pow(drop, math.floor((1+epoch)/epochs_drop))***\n",
    "\n",
    "**for the same SGD optimizer with momemtum**"
   ]
  },
  {
   "cell_type": "code",
   "execution_count": 52,
   "metadata": {},
   "outputs": [],
   "source": [
    "# learning rate schedule\n",
    "def step_decay(epoch):\n",
    "    initial_lrate = 0.1\n",
    "    drop = 0.5\n",
    "    epochs_drop = 10.0\n",
    "    lrate = initial_lrate * math.pow(drop, math.floor((1+epoch)/epochs_drop))\n",
    "    return lrate"
   ]
  },
  {
   "cell_type": "code",
   "execution_count": 56,
   "metadata": {},
   "outputs": [
    {
     "name": "stdout",
     "output_type": "stream",
     "text": [
      "Epoch 1/150\n",
      "768/768 [==============================] - 0s 101us/step - loss: 0.6485 - accuracy: 0.6510\n",
      "Epoch 2/150\n",
      "460/768 [================>.............] - ETA: 0s - loss: 0.6343 - accuracy: 0.6761"
     ]
    },
    {
     "name": "stderr",
     "output_type": "stream",
     "text": [
      "<ipython-input-56-33880c747083>:6: UserWarning: Update your `Dense` call to the Keras 2 API: `Dense(12, input_dim=8, activation=\"relu\", kernel_initializer=\"glorot_uniform\")`\n",
      "  model_sgd_lr_schd.add(Dense(12, input_dim=8, init='glorot_uniform', activation='relu'))\n",
      "<ipython-input-56-33880c747083>:7: UserWarning: Update your `Dense` call to the Keras 2 API: `Dense(8, activation=\"relu\", kernel_initializer=\"glorot_uniform\")`\n",
      "  model_sgd_lr_schd.add(Dense(8, init='glorot_uniform', activation='relu'))\n",
      "<ipython-input-56-33880c747083>:8: UserWarning: Update your `Dense` call to the Keras 2 API: `Dense(1, activation=\"sigmoid\", kernel_initializer=\"glorot_uniform\")`\n",
      "  model_sgd_lr_schd.add(Dense(1, init='glorot_uniform', activation='sigmoid'))\n",
      "<ipython-input-56-33880c747083>:21: UserWarning: The `nb_epoch` argument in `fit` has been renamed `epochs`.\n",
      "  model.fit(X, Y, nb_epoch=epochs, batch_size=10, callbacks=callbacks_list, verbose=1)\n"
     ]
    },
    {
     "name": "stdout",
     "output_type": "stream",
     "text": [
      "768/768 [==============================] - 0s 110us/step - loss: 0.6516 - accuracy: 0.6510\n",
      "Epoch 3/150\n",
      "768/768 [==============================] - 0s 106us/step - loss: 0.6499 - accuracy: 0.6510\n",
      "Epoch 4/150\n",
      "768/768 [==============================] - 0s 105us/step - loss: 0.6461 - accuracy: 0.6510\n",
      "Epoch 5/150\n",
      "768/768 [==============================] - 0s 100us/step - loss: 0.6538 - accuracy: 0.6510\n",
      "Epoch 6/150\n",
      "768/768 [==============================] - 0s 104us/step - loss: 0.6525 - accuracy: 0.6510\n",
      "Epoch 7/150\n",
      "768/768 [==============================] - 0s 105us/step - loss: 0.6523 - accuracy: 0.6510\n",
      "Epoch 8/150\n",
      "768/768 [==============================] - 0s 103us/step - loss: 0.6509 - accuracy: 0.6510\n",
      "Epoch 9/150\n",
      "768/768 [==============================] - 0s 102us/step - loss: 0.6523 - accuracy: 0.6510\n",
      "Epoch 10/150\n",
      "768/768 [==============================] - 0s 99us/step - loss: 0.6503 - accuracy: 0.6510\n",
      "Epoch 11/150\n",
      "768/768 [==============================] - 0s 104us/step - loss: 0.6492 - accuracy: 0.6510\n",
      "Epoch 12/150\n",
      "768/768 [==============================] - 0s 104us/step - loss: 0.6490 - accuracy: 0.6510\n",
      "Epoch 13/150\n",
      "768/768 [==============================] - 0s 104us/step - loss: 0.6492 - accuracy: 0.6510\n",
      "Epoch 14/150\n",
      "768/768 [==============================] - 0s 117us/step - loss: 0.6492 - accuracy: 0.6510\n",
      "Epoch 15/150\n",
      "768/768 [==============================] - 0s 107us/step - loss: 0.6497 - accuracy: 0.6510\n",
      "Epoch 16/150\n",
      "768/768 [==============================] - 0s 109us/step - loss: 0.6496 - accuracy: 0.6510\n",
      "Epoch 17/150\n",
      "768/768 [==============================] - 0s 111us/step - loss: 0.6491 - accuracy: 0.6510\n",
      "Epoch 18/150\n",
      "768/768 [==============================] - 0s 106us/step - loss: 0.6492 - accuracy: 0.6510\n",
      "Epoch 19/150\n",
      "768/768 [==============================] - 0s 107us/step - loss: 0.6496 - accuracy: 0.6510\n",
      "Epoch 20/150\n",
      "768/768 [==============================] - 0s 102us/step - loss: 0.6492 - accuracy: 0.6510\n",
      "Epoch 21/150\n",
      "768/768 [==============================] - 0s 98us/step - loss: 0.6478 - accuracy: 0.6510\n",
      "Epoch 22/150\n",
      "768/768 [==============================] - 0s 100us/step - loss: 0.6480 - accuracy: 0.6510\n",
      "Epoch 23/150\n",
      "768/768 [==============================] - 0s 96us/step - loss: 0.6478 - accuracy: 0.6510\n",
      "Epoch 24/150\n",
      "768/768 [==============================] - 0s 106us/step - loss: 0.6485 - accuracy: 0.6510\n",
      "Epoch 25/150\n",
      "768/768 [==============================] - 0s 106us/step - loss: 0.6480 - accuracy: 0.6510\n",
      "Epoch 26/150\n",
      "768/768 [==============================] - 0s 111us/step - loss: 0.6484 - accuracy: 0.6510\n",
      "Epoch 27/150\n",
      "768/768 [==============================] - 0s 106us/step - loss: 0.6475 - accuracy: 0.6510\n",
      "Epoch 28/150\n",
      "768/768 [==============================] - 0s 112us/step - loss: 0.6487 - accuracy: 0.6510\n",
      "Epoch 29/150\n",
      "768/768 [==============================] - 0s 99us/step - loss: 0.6482 - accuracy: 0.6510\n",
      "Epoch 30/150\n",
      "768/768 [==============================] - 0s 101us/step - loss: 0.6476 - accuracy: 0.6510\n",
      "Epoch 31/150\n",
      "768/768 [==============================] - 0s 105us/step - loss: 0.6467 - accuracy: 0.6510\n",
      "Epoch 32/150\n",
      "768/768 [==============================] - 0s 112us/step - loss: 0.6478 - accuracy: 0.6510\n",
      "Epoch 33/150\n",
      "768/768 [==============================] - 0s 117us/step - loss: 0.6476 - accuracy: 0.6510\n",
      "Epoch 34/150\n",
      "768/768 [==============================] - 0s 106us/step - loss: 0.6478 - accuracy: 0.6510\n",
      "Epoch 35/150\n",
      "768/768 [==============================] - 0s 109us/step - loss: 0.6475 - accuracy: 0.6510\n",
      "Epoch 36/150\n",
      "768/768 [==============================] - 0s 112us/step - loss: 0.6476 - accuracy: 0.6510\n",
      "Epoch 37/150\n",
      "768/768 [==============================] - 0s 126us/step - loss: 0.6474 - accuracy: 0.6510\n",
      "Epoch 38/150\n",
      "768/768 [==============================] - 0s 93us/step - loss: 0.6473 - accuracy: 0.6510\n",
      "Epoch 39/150\n",
      "768/768 [==============================] - 0s 115us/step - loss: 0.6477 - accuracy: 0.6510\n",
      "Epoch 40/150\n",
      "768/768 [==============================] - 0s 109us/step - loss: 0.6473 - accuracy: 0.6510\n",
      "Epoch 41/150\n",
      "768/768 [==============================] - 0s 106us/step - loss: 0.6473 - accuracy: 0.6510\n",
      "Epoch 42/150\n",
      "768/768 [==============================] - 0s 109us/step - loss: 0.6471 - accuracy: 0.6510\n",
      "Epoch 43/150\n",
      "768/768 [==============================] - 0s 106us/step - loss: 0.6472 - accuracy: 0.6510\n",
      "Epoch 44/150\n",
      "768/768 [==============================] - 0s 113us/step - loss: 0.6472 - accuracy: 0.6510\n",
      "Epoch 45/150\n",
      "768/768 [==============================] - 0s 103us/step - loss: 0.6472 - accuracy: 0.6510\n",
      "Epoch 46/150\n",
      "768/768 [==============================] - 0s 106us/step - loss: 0.6471 - accuracy: 0.6510\n",
      "Epoch 47/150\n",
      "768/768 [==============================] - 0s 111us/step - loss: 0.6472 - accuracy: 0.6510\n",
      "Epoch 48/150\n",
      "768/768 [==============================] - 0s 98us/step - loss: 0.6473 - accuracy: 0.6510\n",
      "Epoch 49/150\n",
      "768/768 [==============================] - 0s 89us/step - loss: 0.6472 - accuracy: 0.6510\n",
      "Epoch 50/150\n",
      "768/768 [==============================] - 0s 90us/step - loss: 0.6471 - accuracy: 0.6510\n",
      "Epoch 51/150\n",
      "768/768 [==============================] - 0s 98us/step - loss: 0.6471 - accuracy: 0.6510\n",
      "Epoch 52/150\n",
      "768/768 [==============================] - 0s 93us/step - loss: 0.6470 - accuracy: 0.6510\n",
      "Epoch 53/150\n",
      "768/768 [==============================] - 0s 98us/step - loss: 0.6470 - accuracy: 0.6510\n",
      "Epoch 54/150\n",
      "768/768 [==============================] - 0s 114us/step - loss: 0.6470 - accuracy: 0.6510\n",
      "Epoch 55/150\n",
      "768/768 [==============================] - 0s 96us/step - loss: 0.6470 - accuracy: 0.6510\n",
      "Epoch 56/150\n",
      "768/768 [==============================] - 0s 105us/step - loss: 0.6470 - accuracy: 0.6510\n",
      "Epoch 57/150\n",
      "768/768 [==============================] - 0s 107us/step - loss: 0.6470 - accuracy: 0.6510\n",
      "Epoch 58/150\n",
      "768/768 [==============================] - 0s 96us/step - loss: 0.6471 - accuracy: 0.6510\n",
      "Epoch 59/150\n",
      "768/768 [==============================] - 0s 96us/step - loss: 0.6470 - accuracy: 0.6510\n",
      "Epoch 60/150\n",
      "768/768 [==============================] - 0s 101us/step - loss: 0.6469 - accuracy: 0.6510\n",
      "Epoch 61/150\n",
      "768/768 [==============================] - 0s 106us/step - loss: 0.6469 - accuracy: 0.6510\n",
      "Epoch 62/150\n",
      "768/768 [==============================] - 0s 113us/step - loss: 0.6469 - accuracy: 0.6510\n",
      "Epoch 63/150\n",
      "768/768 [==============================] - 0s 105us/step - loss: 0.6469 - accuracy: 0.6510\n",
      "Epoch 64/150\n",
      "768/768 [==============================] - 0s 103us/step - loss: 0.6469 - accuracy: 0.6510\n",
      "Epoch 65/150\n",
      "768/768 [==============================] - 0s 114us/step - loss: 0.6469 - accuracy: 0.6510\n",
      "Epoch 66/150\n",
      "768/768 [==============================] - 0s 107us/step - loss: 0.6470 - accuracy: 0.6510\n",
      "Epoch 67/150\n",
      "768/768 [==============================] - 0s 108us/step - loss: 0.6469 - accuracy: 0.6510\n",
      "Epoch 68/150\n",
      "768/768 [==============================] - 0s 112us/step - loss: 0.6469 - accuracy: 0.6510\n",
      "Epoch 69/150\n",
      "768/768 [==============================] - 0s 110us/step - loss: 0.6469 - accuracy: 0.6510\n",
      "Epoch 70/150\n",
      "768/768 [==============================] - 0s 102us/step - loss: 0.6469 - accuracy: 0.6510\n",
      "Epoch 71/150\n",
      "768/768 [==============================] - 0s 98us/step - loss: 0.6469 - accuracy: 0.6510\n",
      "Epoch 72/150\n",
      "768/768 [==============================] - 0s 103us/step - loss: 0.6469 - accuracy: 0.6510\n",
      "Epoch 73/150\n",
      "768/768 [==============================] - 0s 99us/step - loss: 0.6468 - accuracy: 0.6510\n",
      "Epoch 74/150\n",
      "768/768 [==============================] - 0s 100us/step - loss: 0.6469 - accuracy: 0.6510\n",
      "Epoch 75/150\n",
      "768/768 [==============================] - 0s 100us/step - loss: 0.6469 - accuracy: 0.6510\n",
      "Epoch 76/150\n",
      "768/768 [==============================] - 0s 99us/step - loss: 0.6469 - accuracy: 0.6510\n",
      "Epoch 77/150\n",
      "768/768 [==============================] - 0s 99us/step - loss: 0.6469 - accuracy: 0.6510\n",
      "Epoch 78/150\n",
      "768/768 [==============================] - 0s 101us/step - loss: 0.6469 - accuracy: 0.6510\n",
      "Epoch 79/150\n",
      "768/768 [==============================] - 0s 89us/step - loss: 0.6469 - accuracy: 0.6510\n",
      "Epoch 80/150\n",
      "768/768 [==============================] - 0s 98us/step - loss: 0.6468 - accuracy: 0.6510\n",
      "Epoch 81/150\n",
      "768/768 [==============================] - 0s 95us/step - loss: 0.6468 - accuracy: 0.6510\n",
      "Epoch 82/150\n",
      "768/768 [==============================] - 0s 96us/step - loss: 0.6468 - accuracy: 0.6510\n",
      "Epoch 83/150\n",
      "768/768 [==============================] - 0s 97us/step - loss: 0.6468 - accuracy: 0.6510\n",
      "Epoch 84/150\n",
      "768/768 [==============================] - 0s 90us/step - loss: 0.6468 - accuracy: 0.6510\n",
      "Epoch 85/150\n",
      "768/768 [==============================] - 0s 88us/step - loss: 0.6468 - accuracy: 0.6510\n",
      "Epoch 86/150\n",
      "768/768 [==============================] - 0s 94us/step - loss: 0.6468 - accuracy: 0.6510\n",
      "Epoch 87/150\n",
      "768/768 [==============================] - 0s 97us/step - loss: 0.6468 - accuracy: 0.6510\n",
      "Epoch 88/150\n",
      "768/768 [==============================] - 0s 95us/step - loss: 0.6468 - accuracy: 0.6510\n",
      "Epoch 89/150\n",
      "768/768 [==============================] - 0s 95us/step - loss: 0.6468 - accuracy: 0.6510\n",
      "Epoch 90/150\n",
      "768/768 [==============================] - 0s 104us/step - loss: 0.6468 - accuracy: 0.6510\n",
      "Epoch 91/150\n",
      "768/768 [==============================] - 0s 102us/step - loss: 0.6468 - accuracy: 0.6510\n",
      "Epoch 92/150\n",
      "768/768 [==============================] - 0s 95us/step - loss: 0.6468 - accuracy: 0.6510\n",
      "Epoch 93/150\n",
      "768/768 [==============================] - 0s 91us/step - loss: 0.6468 - accuracy: 0.6510\n",
      "Epoch 94/150\n",
      "768/768 [==============================] - 0s 87us/step - loss: 0.6468 - accuracy: 0.6510\n",
      "Epoch 95/150\n",
      "768/768 [==============================] - 0s 95us/step - loss: 0.6468 - accuracy: 0.6510\n",
      "Epoch 96/150\n",
      "768/768 [==============================] - 0s 94us/step - loss: 0.6468 - accuracy: 0.6510\n",
      "Epoch 97/150\n",
      "768/768 [==============================] - 0s 92us/step - loss: 0.6468 - accuracy: 0.6510\n",
      "Epoch 98/150\n",
      "768/768 [==============================] - 0s 90us/step - loss: 0.6468 - accuracy: 0.6510\n",
      "Epoch 99/150\n",
      "768/768 [==============================] - 0s 100us/step - loss: 0.6468 - accuracy: 0.6510\n",
      "Epoch 100/150\n",
      "768/768 [==============================] - 0s 99us/step - loss: 0.6468 - accuracy: 0.6510\n",
      "Epoch 101/150\n",
      "768/768 [==============================] - 0s 94us/step - loss: 0.6468 - accuracy: 0.6510\n",
      "Epoch 102/150\n",
      "768/768 [==============================] - 0s 93us/step - loss: 0.6468 - accuracy: 0.6510\n",
      "Epoch 103/150\n",
      "768/768 [==============================] - 0s 100us/step - loss: 0.6468 - accuracy: 0.6510\n",
      "Epoch 104/150\n",
      "768/768 [==============================] - 0s 97us/step - loss: 0.6468 - accuracy: 0.6510\n",
      "Epoch 105/150\n",
      "768/768 [==============================] - 0s 100us/step - loss: 0.6468 - accuracy: 0.6510\n",
      "Epoch 106/150\n",
      "768/768 [==============================] - 0s 103us/step - loss: 0.6468 - accuracy: 0.6510\n",
      "Epoch 107/150\n",
      "768/768 [==============================] - 0s 109us/step - loss: 0.6468 - accuracy: 0.6510\n",
      "Epoch 108/150\n",
      "768/768 [==============================] - 0s 102us/step - loss: 0.6468 - accuracy: 0.6510\n",
      "Epoch 109/150\n",
      "768/768 [==============================] - 0s 104us/step - loss: 0.6468 - accuracy: 0.6510\n",
      "Epoch 110/150\n",
      "768/768 [==============================] - 0s 98us/step - loss: 0.6468 - accuracy: 0.6510\n",
      "Epoch 111/150\n",
      "768/768 [==============================] - 0s 87us/step - loss: 0.6468 - accuracy: 0.6510\n",
      "Epoch 112/150\n",
      "768/768 [==============================] - 0s 93us/step - loss: 0.6468 - accuracy: 0.6510\n",
      "Epoch 113/150\n",
      "768/768 [==============================] - 0s 88us/step - loss: 0.6468 - accuracy: 0.6510\n",
      "Epoch 114/150\n",
      "768/768 [==============================] - 0s 87us/step - loss: 0.6468 - accuracy: 0.6510\n",
      "Epoch 115/150\n",
      "768/768 [==============================] - 0s 94us/step - loss: 0.6468 - accuracy: 0.6510\n",
      "Epoch 116/150\n",
      "768/768 [==============================] - 0s 96us/step - loss: 0.6468 - accuracy: 0.6510\n",
      "Epoch 117/150\n",
      "768/768 [==============================] - 0s 92us/step - loss: 0.6468 - accuracy: 0.6510\n",
      "Epoch 118/150\n",
      "768/768 [==============================] - 0s 98us/step - loss: 0.6468 - accuracy: 0.6510\n",
      "Epoch 119/150\n",
      "768/768 [==============================] - 0s 94us/step - loss: 0.6468 - accuracy: 0.6510\n",
      "Epoch 120/150\n",
      "768/768 [==============================] - 0s 102us/step - loss: 0.6468 - accuracy: 0.6510\n",
      "Epoch 121/150\n",
      "768/768 [==============================] - 0s 97us/step - loss: 0.6468 - accuracy: 0.6510\n",
      "Epoch 122/150\n",
      "768/768 [==============================] - 0s 100us/step - loss: 0.6468 - accuracy: 0.6510\n",
      "Epoch 123/150\n",
      "768/768 [==============================] - 0s 94us/step - loss: 0.6468 - accuracy: 0.6510\n",
      "Epoch 124/150\n",
      "768/768 [==============================] - 0s 96us/step - loss: 0.6468 - accuracy: 0.6510\n",
      "Epoch 125/150\n",
      "768/768 [==============================] - 0s 96us/step - loss: 0.6468 - accuracy: 0.6510\n",
      "Epoch 126/150\n",
      "768/768 [==============================] - 0s 103us/step - loss: 0.6468 - accuracy: 0.6510\n",
      "Epoch 127/150\n",
      "768/768 [==============================] - 0s 86us/step - loss: 0.6468 - accuracy: 0.6510\n",
      "Epoch 128/150\n",
      "768/768 [==============================] - 0s 98us/step - loss: 0.6468 - accuracy: 0.6510\n",
      "Epoch 129/150\n",
      "768/768 [==============================] - 0s 88us/step - loss: 0.6468 - accuracy: 0.6510\n",
      "Epoch 130/150\n",
      "768/768 [==============================] - 0s 92us/step - loss: 0.6468 - accuracy: 0.6510\n",
      "Epoch 131/150\n",
      "768/768 [==============================] - 0s 92us/step - loss: 0.6468 - accuracy: 0.6510\n",
      "Epoch 132/150\n",
      "768/768 [==============================] - 0s 92us/step - loss: 0.6468 - accuracy: 0.6510\n",
      "Epoch 133/150\n",
      "768/768 [==============================] - 0s 89us/step - loss: 0.6468 - accuracy: 0.6510\n",
      "Epoch 134/150\n",
      "768/768 [==============================] - 0s 92us/step - loss: 0.6468 - accuracy: 0.6510\n",
      "Epoch 135/150\n",
      "768/768 [==============================] - 0s 91us/step - loss: 0.6468 - accuracy: 0.6510\n",
      "Epoch 136/150\n",
      "768/768 [==============================] - 0s 97us/step - loss: 0.6468 - accuracy: 0.6510\n",
      "Epoch 137/150\n",
      "768/768 [==============================] - 0s 99us/step - loss: 0.6468 - accuracy: 0.6510\n",
      "Epoch 138/150\n",
      "768/768 [==============================] - 0s 98us/step - loss: 0.6468 - accuracy: 0.6510\n",
      "Epoch 139/150\n",
      "768/768 [==============================] - 0s 96us/step - loss: 0.6468 - accuracy: 0.6510\n",
      "Epoch 140/150\n",
      "768/768 [==============================] - 0s 101us/step - loss: 0.6468 - accuracy: 0.6510\n",
      "Epoch 141/150\n",
      "768/768 [==============================] - 0s 103us/step - loss: 0.6468 - accuracy: 0.6510\n",
      "Epoch 142/150\n",
      "768/768 [==============================] - 0s 102us/step - loss: 0.6468 - accuracy: 0.6510\n",
      "Epoch 143/150\n",
      "768/768 [==============================] - 0s 95us/step - loss: 0.6468 - accuracy: 0.6510\n",
      "Epoch 144/150\n",
      "768/768 [==============================] - 0s 97us/step - loss: 0.6468 - accuracy: 0.6510\n",
      "Epoch 145/150\n",
      "768/768 [==============================] - 0s 95us/step - loss: 0.6468 - accuracy: 0.6510\n",
      "Epoch 146/150\n",
      "768/768 [==============================] - 0s 95us/step - loss: 0.6468 - accuracy: 0.6510\n",
      "Epoch 147/150\n",
      "768/768 [==============================] - 0s 95us/step - loss: 0.6468 - accuracy: 0.6510\n",
      "Epoch 148/150\n",
      "768/768 [==============================] - 0s 98us/step - loss: 0.6468 - accuracy: 0.6510\n",
      "Epoch 149/150\n",
      "768/768 [==============================] - 0s 95us/step - loss: 0.6468 - accuracy: 0.6510\n",
      "Epoch 150/150\n",
      "768/768 [==============================] - 0s 97us/step - loss: 0.6468 - accuracy: 0.6510\n"
     ]
    },
    {
     "data": {
      "text/plain": [
       "<keras.callbacks.callbacks.History at 0x7fb1f8160b80>"
      ]
     },
     "execution_count": 56,
     "metadata": {},
     "output_type": "execute_result"
    }
   ],
   "source": [
    "from keras.callbacks import LearningRateScheduler\n",
    "import math\n",
    "\n",
    "# create model\n",
    "model_sgd_lr_schd = Sequential()\n",
    "model_sgd_lr_schd.add(Dense(12, input_dim=8, init='glorot_uniform', activation='relu'))\n",
    "model_sgd_lr_schd.add(Dense(8, init='glorot_uniform', activation='relu'))\n",
    "model_sgd_lr_schd.add(Dense(1, init='glorot_uniform', activation='sigmoid'))\n",
    "\n",
    "# TODO - compile model\n",
    "epochs = 150\n",
    "decay = 0.0\n",
    "momentum = 0.8\n",
    "model_sgd_lr_schd.compile(loss='binary_crossentropy', optimizer=sgd, metrics=['accuracy'])\n",
    "\n",
    "# learning scheduler callback\n",
    "lrate = LearningRateScheduler(step_decay)\n",
    "callbacks_list = [lrate]\n",
    "\n",
    "# TODO - fit the model with the learning scheduler callback\n",
    "model.fit(X, Y, nb_epoch=epochs, batch_size=10, callbacks=callbacks_list, verbose=1)"
   ]
  },
  {
   "cell_type": "markdown",
   "metadata": {},
   "source": [
    "**14.Exercise - Create a smaller and a larger NN model and compare results.**"
   ]
  },
  {
   "cell_type": "code",
   "execution_count": null,
   "metadata": {},
   "outputs": [],
   "source": [
    "# TODO"
   ]
  }
 ],
 "metadata": {
  "kernelspec": {
   "display_name": "Python 3",
   "language": "python",
   "name": "python3"
  },
  "language_info": {
   "codemirror_mode": {
    "name": "ipython",
    "version": 3
   },
   "file_extension": ".py",
   "mimetype": "text/x-python",
   "name": "python",
   "nbconvert_exporter": "python",
   "pygments_lexer": "ipython3",
   "version": "3.8.3"
  }
 },
 "nbformat": 4,
 "nbformat_minor": 1
}
