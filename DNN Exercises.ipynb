{
 "cells": [
  {
   "cell_type": "markdown",
   "metadata": {},
   "source": [
    "# Some Exercises"
   ]
  },
  {
   "cell_type": "code",
   "execution_count": 1,
   "metadata": {},
   "outputs": [],
   "source": [
    "# Python ≥3.5 is required\n",
    "import sys\n",
    "assert sys.version_info >= (3, 5)\n",
    "\n",
    "# Scikit-Learn ≥0.20 is required\n",
    "import sklearn\n",
    "assert sklearn.__version__ >= \"0.20\"\n",
    "\n",
    "try:\n",
    "    # %tensorflow_version only exists in Colab.\n",
    "    %tensorflow_version 2.x\n",
    "except Exception:\n",
    "    pass\n",
    "\n",
    "# TensorFlow ≥2.0 is required\n",
    "import tensorflow as tf\n",
    "from tensorflow import keras\n",
    "assert tf.__version__ >= \"2.0\"\n",
    "\n",
    "%load_ext tensorboard\n",
    "\n",
    "# Common imports\n",
    "import numpy as np\n",
    "import os\n",
    "\n",
    "# to make this notebook's output stable across runs\n",
    "np.random.seed(42)\n",
    "\n",
    "# To plot pretty figures\n",
    "%matplotlib inline\n",
    "import matplotlib as mpl\n",
    "import matplotlib.pyplot as plt\n",
    "mpl.rc('axes', labelsize=14)\n",
    "mpl.rc('xtick', labelsize=12)\n",
    "mpl.rc('ytick', labelsize=12)"
   ]
  },
  {
   "cell_type": "markdown",
   "metadata": {},
   "source": [
    "### 1.\n",
    "*Exercise: Build a DNN with 20 hidden layers of 100 neurons each. Use He initialization and the ELU activation function.*"
   ]
  },
  {
   "cell_type": "code",
   "execution_count": 2,
   "metadata": {},
   "outputs": [],
   "source": [
    "# TODO"
   ]
  },
  {
   "cell_type": "code",
   "execution_count": 3,
   "metadata": {},
   "outputs": [
    {
     "name": "stderr",
     "output_type": "stream",
     "text": [
      "Using TensorFlow backend.\n"
     ]
    }
   ],
   "source": [
    "import numpy as np\n",
    "import tensorflow as tf\n",
    "from tensorflow import keras\n",
    "from tensorflow.keras import layers\n",
    "from keras.datasets import cifar10\n",
    "from keras.utils import np_utils"
   ]
  },
  {
   "cell_type": "markdown",
   "metadata": {},
   "source": [
    "### Data Input"
   ]
  },
  {
   "cell_type": "code",
   "execution_count": 4,
   "metadata": {},
   "outputs": [],
   "source": [
    "(X_train_full, y_train_full), (X_test, y_test) = cifar10.load_data()"
   ]
  },
  {
   "cell_type": "code",
   "execution_count": 5,
   "metadata": {},
   "outputs": [],
   "source": [
    "X_valid, X_train = X_train_full[:5000] / 255., X_train_full[5000:] / 255.\n",
    "y_valid, y_train = y_train_full[:5000], y_train_full[5000:]\n",
    "X_test = X_test / 255."
   ]
  },
  {
   "cell_type": "code",
   "execution_count": 6,
   "metadata": {},
   "outputs": [],
   "source": [
    "X_train = X_train.astype('float32')\n",
    "X_valid = X_valid.astype('float32')\n",
    "X_test = X_test.astype('float32')"
   ]
  },
  {
   "cell_type": "code",
   "execution_count": 7,
   "metadata": {},
   "outputs": [],
   "source": [
    "n_classes = 10\n",
    "\n",
    "#X_train = X_train.reshape(45000, 1024, 3)\n",
    "#X_valid = X_valid.reshape(5000, 1024, 3)\n",
    "#X_test = X_test.reshape(10000, 1024, 3)\n",
    "\n",
    "Y_train = np_utils.to_categorical(y_train, n_classes)\n",
    "Y_valid = np_utils.to_categorical(y_valid, n_classes)\n",
    "Y_test = np_utils.to_categorical(y_test, n_classes)"
   ]
  },
  {
   "cell_type": "code",
   "execution_count": 43,
   "metadata": {},
   "outputs": [
    {
     "name": "stdout",
     "output_type": "stream",
     "text": [
      "(10000, 10)\n"
     ]
    }
   ],
   "source": [
    "print(Y_test.shape)"
   ]
  },
  {
   "cell_type": "markdown",
   "metadata": {},
   "source": [
    "### Hyperparameters / Constants"
   ]
  },
  {
   "cell_type": "code",
   "execution_count": 44,
   "metadata": {},
   "outputs": [],
   "source": [
    "n_units = 100\n",
    "activ_func = 'elu'\n",
    "init = 'he_normal'\n",
    "learning_rate = 0.005\n",
    "optim = keras.optimizers.Nadam(learning_rate)\n",
    "nb_epochs = 20\n",
    "batch_size = 128"
   ]
  },
  {
   "cell_type": "code",
   "execution_count": 10,
   "metadata": {},
   "outputs": [
    {
     "data": {
      "text/plain": [
       "(32, 32, 3)"
      ]
     },
     "execution_count": 10,
     "metadata": {},
     "output_type": "execute_result"
    }
   ],
   "source": [
    "X_valid.shape[1:]"
   ]
  },
  {
   "cell_type": "markdown",
   "metadata": {},
   "source": [
    "### Model 1 (20 Dense layers, 100 nodes deep - Softmax output)"
   ]
  },
  {
   "cell_type": "code",
   "execution_count": 11,
   "metadata": {},
   "outputs": [],
   "source": [
    "tf.random.set_seed(13)\n",
    "np.random.seed(13)\n",
    "\n",
    "def Model1():\n",
    "    model = keras.models.Sequential()\n",
    "    model.add(layers.Flatten(input_shape=X_valid.shape[1:]))\n",
    "    \n",
    "    for i in range(20):\n",
    "        model.add(layers.Dense(n_units, activation=activ_func, kernel_initializer=init))\n",
    "    \n",
    "    model.add(layers.Dense(n_classes, activation='softmax'))\n",
    "    \n",
    "    model.compile(loss='categorical_crossentropy', optimizer=optim, metrics=['accuracy'])\n",
    "    return model\n",
    "\n",
    "model = Model1()"
   ]
  },
  {
   "cell_type": "markdown",
   "metadata": {},
   "source": [
    "### Tensorboard callback"
   ]
  },
  {
   "cell_type": "code",
   "execution_count": 12,
   "metadata": {},
   "outputs": [],
   "source": [
    "import os\n",
    "root_logdir = os.path.join(os.curdir, \"logs\")"
   ]
  },
  {
   "cell_type": "code",
   "execution_count": 13,
   "metadata": {},
   "outputs": [
    {
     "data": {
      "text/plain": [
       "'./logs/run_13h45m_30-06'"
      ]
     },
     "execution_count": 13,
     "metadata": {},
     "output_type": "execute_result"
    }
   ],
   "source": [
    "def get_run_logdir():\n",
    "    import time\n",
    "    run_id = time.strftime(\"run_%Hh%Mm_%d-%m\")\n",
    "    return os.path.join(root_logdir, run_id)\n",
    "\n",
    "run_logdir = get_run_logdir()\n",
    "run_logdir"
   ]
  },
  {
   "cell_type": "code",
   "execution_count": 14,
   "metadata": {},
   "outputs": [],
   "source": [
    "from keras import callbacks\n",
    "tb_cb = callbacks.TensorBoard(run_logdir)"
   ]
  },
  {
   "cell_type": "markdown",
   "metadata": {},
   "source": [
    "$ tensorboard --logdir=./logs --port=6006\n",
    "\n",
    "http://localhost:6006"
   ]
  },
  {
   "cell_type": "code",
   "execution_count": 15,
   "metadata": {},
   "outputs": [
    {
     "name": "stdout",
     "output_type": "stream",
     "text": [
      "Epoch 1/5\n",
      "1407/1407 [==============================] - 12s 9ms/step - loss: 2.0814 - accuracy: 0.2433 - val_loss: 2.2056 - val_accuracy: 0.2076\n",
      "Epoch 2/5\n",
      "1407/1407 [==============================] - 12s 9ms/step - loss: 1.8525 - accuracy: 0.3269 - val_loss: 1.9307 - val_accuracy: 0.2994\n",
      "Epoch 3/5\n",
      "1407/1407 [==============================] - 12s 9ms/step - loss: 1.7828 - accuracy: 0.3543 - val_loss: 1.8117 - val_accuracy: 0.3476\n",
      "Epoch 4/5\n",
      "1407/1407 [==============================] - 12s 9ms/step - loss: 1.7284 - accuracy: 0.3787 - val_loss: 1.8126 - val_accuracy: 0.3436\n",
      "Epoch 5/5\n",
      "1407/1407 [==============================] - 12s 9ms/step - loss: 1.6949 - accuracy: 0.3944 - val_loss: 1.7460 - val_accuracy: 0.3724\n"
     ]
    }
   ],
   "source": [
    "history = model.fit(X_train, Y_train, epochs=nb_epochs,\n",
    "                    validation_data=(X_valid, Y_valid), callbacks=[tb_cb])"
   ]
  },
  {
   "cell_type": "markdown",
   "metadata": {},
   "source": [
    "#### Common errors\n",
    "* ValueError: Input 0 of layer dense is incompatible with the layer: expected axis -1 of input shape to have value 1024 but received input with shape [None, 3072]\n",
    "* ValueError: Shapes (None, 10) and (None, 32, 32, 10) are incompatible # Concerning input reshape\n",
    "* ValueError: Shapes (None, 10) and (None, 1024, 10) are incompatible   # Concerning input reshape\n"
   ]
  },
  {
   "cell_type": "markdown",
   "metadata": {},
   "source": [
    "### 2.\n",
    "*Exercise: Using Nadam optimization and early stopping, train the network on the CIFAR10 dataset. You can load it with `keras.datasets.cifar10.load_data()`. The dataset is composed of 60,000 32 × 32–pixel color images (50,000 for training, 10,000 for testing) with 10 classes, so you'll need a softmax output layer with 10 neurons. Remember to search for the right learning rate each time you change the model's architecture or hyperparameters.*"
   ]
  },
  {
   "cell_type": "code",
   "execution_count": 16,
   "metadata": {},
   "outputs": [],
   "source": [
    "tf.random.set_seed(13)\n",
    "np.random.seed(13)\n",
    "\n",
    "def Model2(learning_rate=0.001, nb_epochs=5):\n",
    "    model = keras.models.Sequential()\n",
    "    \n",
    "    #model.add(layers.Input(shape=X_train.shape[1:]))\n",
    "    model.add(layers.Flatten(input_shape=X_train.shape[1:]))\n",
    "    \n",
    "    for i in range(20):\n",
    "        model.add(layers.Dense(n_units, activation=activ_func, kernel_initializer=init))\n",
    "    \n",
    "    model.add(layers.Dense(n_classes, activation='softmax'))\n",
    "    \n",
    "    model.compile(loss='categorical_crossentropy', optimizer=optim, metrics=['accuracy'])\n",
    "    return model\n",
    "\n",
    "model = Model2()"
   ]
  },
  {
   "cell_type": "markdown",
   "metadata": {},
   "source": [
    "Some help:\n",
    "\n",
    "a. Load the dataset"
   ]
  },
  {
   "cell_type": "markdown",
   "metadata": {},
   "source": [
    "(X_train_full, y_train_full), (X_test, y_test) = keras.datasets.cifar10.load_data()\n",
    "\n",
    "X_train = X_train_full[5000:]\n",
    "y_train = y_train_full[5000:]\n",
    "X_valid = X_train_full[:5000]\n",
    "y_valid = y_train_full[:5000]"
   ]
  },
  {
   "cell_type": "markdown",
   "metadata": {},
   "source": [
    "b. Fit and validate the model. \n",
    "**NOTE: please remember that firstly you need to create your model and compile it with the mentioned architecture and parameters. If you want to go further you can also add some callbacks for earlystopping, checkpoint serialization, tensorboard logging, among many others.**"
   ]
  },
  {
   "cell_type": "code",
   "execution_count": 17,
   "metadata": {},
   "outputs": [],
   "source": [
    "from keras.wrappers.scikit_learn import KerasClassifier\n",
    "from sklearn.model_selection import GridSearchCV"
   ]
  },
  {
   "cell_type": "code",
   "execution_count": 18,
   "metadata": {},
   "outputs": [
    {
     "name": "stdout",
     "output_type": "stream",
     "text": [
      "Best: 0.269156 using {'learning_rate': 0.005, 'nb_epochs': 20}\n"
     ]
    }
   ],
   "source": [
    "# create model\n",
    "grid_model = KerasClassifier(build_fn=Model2, verbose=0)\n",
    "\n",
    "# grid search epochs, batch size and optimizer\n",
    "#optim = []\n",
    "#init = []\n",
    "nb_epochs = [10, 20, 30]\n",
    "#batch_size = []\n",
    "lr = [0.001, 0.005, 0.01]\n",
    "param_grid = dict(learning_rate=lr, nb_epochs=nb_epochs)\n",
    "\n",
    "# TODO - GridSearchCV & fit\n",
    "grid = GridSearchCV(grid_model, param_grid, cv=3)\n",
    "grid_result = grid.fit(X_train, Y_train, validation_data=(X_valid, Y_valid))#, callbacks=[tb_cb])\n",
    "\n",
    "# summarize results\n",
    "print(\"Best: %f using %s\" % (grid_result.best_score_, grid_result.best_params_))"
   ]
  },
  {
   "cell_type": "code",
   "execution_count": 45,
   "metadata": {},
   "outputs": [
    {
     "name": "stdout",
     "output_type": "stream",
     "text": [
      "WARNING:tensorflow:Model was constructed with shape (None, 1024, 3) for input Tensor(\"flatten_52_input:0\", shape=(None, 1024, 3), dtype=float32), but it was called on an input with incompatible shape (None, 32, 32, 3).\n",
      "1407/1407 [==============================] - 3s 2ms/step - loss: 2.5476 - accuracy: 0.2235\n"
     ]
    },
    {
     "data": {
      "text/plain": [
       "[2.5475873947143555, 0.22351111471652985]"
      ]
     },
     "execution_count": 45,
     "metadata": {},
     "output_type": "execute_result"
    }
   ],
   "source": [
    "model.evaluate(X_train, Y_train)"
   ]
  },
  {
   "cell_type": "markdown",
   "metadata": {},
   "source": [
    "# Train\n",
    "history = model.fit(X_train, Y_train, epochs=nb_epochs, \n",
    "                    batch_size=batch_size, verbose=1, \n",
    "                    validation_data=(X_valid, Y_valid))"
   ]
  },
  {
   "cell_type": "markdown",
   "metadata": {},
   "source": [
    "model.fit(X_train, y_train, epochs=100,\n",
    "          validation_data=(X_valid, y_valid),\n",
    "          callbacks=callbacks)"
   ]
  },
  {
   "cell_type": "markdown",
   "metadata": {},
   "source": [
    "### 3.\n",
    "*Exercise: Now try adding Batch Normalization and compare the learning curves: Is it converging faster than before? Does it produce a better model? How does it affect training speed?*"
   ]
  },
  {
   "cell_type": "code",
   "execution_count": 48,
   "metadata": {},
   "outputs": [],
   "source": [
    "n_units = 100\n",
    "activ_func = 'elu'\n",
    "init = 'he_normal'\n",
    "learning_rate = 0.01\n",
    "optim = keras.optimizers.Nadam(learning_rate)\n",
    "nb_epochs = 15\n",
    "batch_size = 128"
   ]
  },
  {
   "cell_type": "code",
   "execution_count": 49,
   "metadata": {},
   "outputs": [],
   "source": [
    "tf.random.set_seed(13)\n",
    "np.random.seed(13)\n",
    "\n",
    "def Model3(learning_rate=learning_rate, epochs=nb_epochs):\n",
    "    model = keras.models.Sequential()\n",
    "    \n",
    "    #model.add(layers.Input(shape=X_train.shape[1:]))\n",
    "    model.add(layers.Flatten(input_shape=X_train.shape[1:]))\n",
    "    model.add(layers.BatchNormalization())\n",
    "    \n",
    "    for i in range(20):\n",
    "        model.add(layers.Dense(n_units, activation=activ_func, kernel_initializer=init))\n",
    "        model.add(layers.BatchNormalization())\n",
    "    \n",
    "    model.add(layers.Dense(n_classes, activation='softmax'))\n",
    "    \n",
    "    model.compile(loss='categorical_crossentropy', optimizer=optim, metrics=['accuracy'])\n",
    "    return model\n",
    "\n",
    "model = Model3()"
   ]
  },
  {
   "cell_type": "code",
   "execution_count": 50,
   "metadata": {
    "scrolled": false
   },
   "outputs": [
    {
     "name": "stdout",
     "output_type": "stream",
     "text": [
      "Best: 0.436378 using {'epochs': 25, 'learning_rate': 0.01}\n"
     ]
    }
   ],
   "source": [
    "# create model\n",
    "grid_model = KerasClassifier(build_fn=Model3, verbose=0)\n",
    "\n",
    "# grid search epochs, batch size and optimizer\n",
    "#optim = []\n",
    "#init = []\n",
    "nb_epochs = [15, 25]\n",
    "#batch_size = []\n",
    "lr = [0.005, 0.01]\n",
    "param_grid = dict(learning_rate=lr, epochs=nb_epochs)\n",
    "\n",
    "# TODO - GridSearchCV & fit\n",
    "grid = GridSearchCV(grid_model, param_grid, cv=3)\n",
    "grid_result = grid.fit(X_train, Y_train, validation_data=(X_valid, Y_valid))#, callbacks=[tb_cb])\n",
    "\n",
    "# summarize results\n",
    "print(\"Best: %f using %s\" % (grid_result.best_score_, grid_result.best_params_))"
   ]
  },
  {
   "cell_type": "code",
   "execution_count": 51,
   "metadata": {
    "scrolled": true
   },
   "outputs": [
    {
     "name": "stdout",
     "output_type": "stream",
     "text": [
      "313/313 [==============================] - 1s 3ms/step - loss: 3.0865 - accuracy: 0.0918\n"
     ]
    },
    {
     "data": {
      "text/plain": [
       "[3.086491107940674, 0.09179999679327011]"
      ]
     },
     "execution_count": 51,
     "metadata": {},
     "output_type": "execute_result"
    }
   ],
   "source": [
    "model.evaluate(X_test, Y_test)"
   ]
  },
  {
   "cell_type": "markdown",
   "metadata": {},
   "source": [
    "### 4.\n",
    "*Exercise: Try replacing Batch Normalization with SELU, and make the necessary adjustements to ensure the network self-normalizes (i.e., standardize the input features, use LeCun normal initialization, make sure the DNN contains only a sequence of dense layers, etc.).*"
   ]
  },
  {
   "cell_type": "code",
   "execution_count": 24,
   "metadata": {},
   "outputs": [],
   "source": [
    "from sklearn import preprocessing\n",
    "\n",
    "s_scaler = preprocessing.StandardScaler()\n",
    "X_train_scaled = s_scaler.fit_transform(X_train.reshape(45000, 3072)).reshape(45000, 1024, 3)\n",
    "X_valid_scaled = s_scaler.transform(X_valid.reshape(5000, 3072)).reshape(5000, 1024, 3)\n",
    "X_test_scaled = s_scaler.transform(X_test.reshape(10000, 3072)).reshape(10000, 1024, 3)"
   ]
  },
  {
   "cell_type": "code",
   "execution_count": 25,
   "metadata": {},
   "outputs": [
    {
     "data": {
      "text/plain": [
       "(45000, 1024, 3)"
      ]
     },
     "execution_count": 25,
     "metadata": {},
     "output_type": "execute_result"
    }
   ],
   "source": [
    "X_train_scaled.shape"
   ]
  },
  {
   "cell_type": "code",
   "execution_count": 26,
   "metadata": {
    "scrolled": true
   },
   "outputs": [],
   "source": [
    "n_units = 100\n",
    "activ_func = 'selu'\n",
    "init = 'lecun_normal'\n",
    "learning_rate = 0.002\n",
    "optim = keras.optimizers.Nadam(learning_rate)\n",
    "nb_epochs = 15\n",
    "batch_size = 128"
   ]
  },
  {
   "cell_type": "code",
   "execution_count": 27,
   "metadata": {},
   "outputs": [],
   "source": [
    "tf.random.set_seed(13)\n",
    "np.random.seed(13)\n",
    "\n",
    "def Model4(learning_rate=learning_rate, epochs=nb_epochs):\n",
    "    model = keras.models.Sequential()\n",
    "    \n",
    "    #model.add(layers.Input(shape=X_train.shape[1:]))\n",
    "    model.add(layers.Flatten(input_shape=X_train_scaled.shape[1:]))\n",
    "    \n",
    "    for i in range(20):\n",
    "        model.add(layers.Dense(n_units, activation=activ_func, kernel_initializer=init))\n",
    "    \n",
    "    model.add(layers.Dense(n_classes, activation='softmax'))\n",
    "    \n",
    "    model.compile(loss='categorical_crossentropy', optimizer=optim, metrics=['accuracy'])\n",
    "    return model\n",
    "\n",
    "model = Model4()"
   ]
  },
  {
   "cell_type": "code",
   "execution_count": 28,
   "metadata": {
    "scrolled": true
   },
   "outputs": [
    {
     "name": "stdout",
     "output_type": "stream",
     "text": [
      "Epoch 1/15\n",
      "  2/352 [..............................] - ETA: 37:40 - loss: 3.0121 - accuracy: 0.1172WARNING:tensorflow:Method (on_train_batch_end) is slow compared to the batch update (6.456300). Check your callbacks.\n",
      "352/352 [==============================] - 17s 47ms/step - loss: 2.0302 - accuracy: 0.2756 - val_loss: 1.9155 - val_accuracy: 0.3138\n",
      "Epoch 2/15\n",
      "352/352 [==============================] - 3s 10ms/step - loss: 1.7865 - accuracy: 0.3650 - val_loss: 1.8294 - val_accuracy: 0.3616\n",
      "Epoch 3/15\n",
      "352/352 [==============================] - 3s 10ms/step - loss: 1.6875 - accuracy: 0.4035 - val_loss: 1.7167 - val_accuracy: 0.3880\n",
      "Epoch 4/15\n",
      "352/352 [==============================] - 3s 10ms/step - loss: 1.6187 - accuracy: 0.4290 - val_loss: 1.7082 - val_accuracy: 0.3862\n",
      "Epoch 5/15\n",
      "352/352 [==============================] - 3s 10ms/step - loss: 1.5533 - accuracy: 0.4563 - val_loss: 1.6473 - val_accuracy: 0.4306\n",
      "Epoch 6/15\n",
      "352/352 [==============================] - 3s 10ms/step - loss: 1.5251 - accuracy: 0.4665 - val_loss: 1.6416 - val_accuracy: 0.4324\n",
      "Epoch 7/15\n",
      "352/352 [==============================] - 3s 10ms/step - loss: 1.4902 - accuracy: 0.4812 - val_loss: 1.6193 - val_accuracy: 0.4396\n",
      "Epoch 8/15\n",
      "352/352 [==============================] - 3s 10ms/step - loss: 1.4503 - accuracy: 0.4965 - val_loss: 1.5949 - val_accuracy: 0.4496\n",
      "Epoch 9/15\n",
      "352/352 [==============================] - 3s 10ms/step - loss: 1.4184 - accuracy: 0.5060 - val_loss: 1.5740 - val_accuracy: 0.4650\n",
      "Epoch 10/15\n",
      "352/352 [==============================] - 3s 10ms/step - loss: 1.3979 - accuracy: 0.5143 - val_loss: 1.5430 - val_accuracy: 0.4666\n",
      "Epoch 11/15\n",
      "352/352 [==============================] - 3s 10ms/step - loss: 1.3803 - accuracy: 0.5212 - val_loss: 1.5052 - val_accuracy: 0.4798\n",
      "Epoch 12/15\n",
      "352/352 [==============================] - 3s 10ms/step - loss: 1.3462 - accuracy: 0.5363 - val_loss: 1.6507 - val_accuracy: 0.4526\n",
      "Epoch 13/15\n",
      "352/352 [==============================] - 3s 10ms/step - loss: 1.3554 - accuracy: 0.5327 - val_loss: 1.5373 - val_accuracy: 0.4630\n",
      "Epoch 14/15\n",
      "352/352 [==============================] - 3s 10ms/step - loss: 1.3292 - accuracy: 0.5401 - val_loss: 1.5794 - val_accuracy: 0.4710\n",
      "Epoch 15/15\n",
      "352/352 [==============================] - 3s 10ms/step - loss: 1.3034 - accuracy: 0.5514 - val_loss: 1.5941 - val_accuracy: 0.4546\n"
     ]
    }
   ],
   "source": [
    "history = model.fit(X_train_scaled, Y_train,\n",
    "          batch_size=128, epochs=nb_epochs,\n",
    "          verbose=1,\n",
    "          validation_data=(X_valid_scaled, Y_valid), callbacks=[tb_cb])"
   ]
  },
  {
   "cell_type": "code",
   "execution_count": 29,
   "metadata": {},
   "outputs": [
    {
     "name": "stdout",
     "output_type": "stream",
     "text": [
      "313/313 [==============================] - 1s 2ms/step - loss: 1.5640 - accuracy: 0.4678\n"
     ]
    },
    {
     "data": {
      "text/plain": [
       "[1.5640168190002441, 0.46779999136924744]"
      ]
     },
     "execution_count": 29,
     "metadata": {},
     "output_type": "execute_result"
    }
   ],
   "source": [
    "model.evaluate(X_test_scaled, Y_test)"
   ]
  },
  {
   "cell_type": "markdown",
   "metadata": {},
   "source": [
    "### 5.\n",
    "*Exercise: Try regularizing the model with alpha dropout. Check if there is any improvement or not.*"
   ]
  },
  {
   "cell_type": "code",
   "execution_count": 30,
   "metadata": {
    "scrolled": true
   },
   "outputs": [],
   "source": [
    "n_units = 100\n",
    "activ_func = 'selu'\n",
    "init = 'lecun_normal'\n",
    "learning_rate = 0.005\n",
    "optim = keras.optimizers.Nadam(learning_rate)\n",
    "nb_epochs = 15\n",
    "batch_size = 128"
   ]
  },
  {
   "cell_type": "code",
   "execution_count": 31,
   "metadata": {},
   "outputs": [
    {
     "data": {
      "text/plain": [
       "(45000, 1024, 3)"
      ]
     },
     "execution_count": 31,
     "metadata": {},
     "output_type": "execute_result"
    }
   ],
   "source": [
    "X_train_scaled.shape"
   ]
  },
  {
   "cell_type": "code",
   "execution_count": 32,
   "metadata": {},
   "outputs": [],
   "source": [
    "tf.random.set_seed(13)\n",
    "np.random.seed(13)\n",
    "\n",
    "def Model5(learning_rate=learning_rate, epochs=nb_epochs):\n",
    "    model = keras.models.Sequential()\n",
    "    \n",
    "    #model.add(layers.Input(shape=X_train.shape[1:]))\n",
    "    model.add(layers.Flatten(input_shape=X_train_scaled.shape[1:]))\n",
    "    \n",
    "    for i in range(20):\n",
    "        model.add(layers.Dense(n_units, activation=activ_func, kernel_initializer=init))\n",
    "    \n",
    "    model.add(layers.AlphaDropout(rate=0.2))\n",
    "    model.add(layers.Dense(n_classes, activation='softmax'))\n",
    "    \n",
    "    model.compile(loss='categorical_crossentropy', optimizer=optim, metrics=['accuracy'])\n",
    "    return model\n",
    "\n",
    "model = Model5()"
   ]
  },
  {
   "cell_type": "code",
   "execution_count": 33,
   "metadata": {
    "scrolled": true
   },
   "outputs": [
    {
     "name": "stdout",
     "output_type": "stream",
     "text": [
      "Epoch 1/15\n",
      "352/352 [==============================] - 3s 10ms/step - loss: 2.2522 - accuracy: 0.1739 - val_loss: 14.6752 - val_accuracy: 0.1304\n",
      "Epoch 2/15\n",
      "352/352 [==============================] - 3s 9ms/step - loss: 2.6237 - accuracy: 0.1048 - val_loss: 2.3922 - val_accuracy: 0.1038\n",
      "Epoch 3/15\n",
      "352/352 [==============================] - 3s 9ms/step - loss: 2.3238 - accuracy: 0.1001 - val_loss: 2.3740 - val_accuracy: 0.1038\n",
      "Epoch 4/15\n",
      "352/352 [==============================] - 3s 9ms/step - loss: 2.3264 - accuracy: 0.0989 - val_loss: 2.3875 - val_accuracy: 0.1010\n",
      "Epoch 5/15\n",
      "352/352 [==============================] - 3s 9ms/step - loss: 2.3260 - accuracy: 0.0991 - val_loss: 2.3287 - val_accuracy: 0.1010\n",
      "Epoch 6/15\n",
      "352/352 [==============================] - 3s 9ms/step - loss: 2.3257 - accuracy: 0.1007 - val_loss: 2.3957 - val_accuracy: 0.0920\n",
      "Epoch 7/15\n",
      "352/352 [==============================] - 3s 9ms/step - loss: 2.3256 - accuracy: 0.0995 - val_loss: 2.3816 - val_accuracy: 0.1038\n",
      "Epoch 8/15\n",
      "352/352 [==============================] - 3s 9ms/step - loss: 2.3259 - accuracy: 0.1004 - val_loss: 2.3423 - val_accuracy: 0.0996\n",
      "Epoch 9/15\n",
      "352/352 [==============================] - 3s 9ms/step - loss: 2.3254 - accuracy: 0.1020 - val_loss: 2.3367 - val_accuracy: 0.0972\n",
      "Epoch 10/15\n",
      "352/352 [==============================] - 3s 9ms/step - loss: 2.3262 - accuracy: 0.0990 - val_loss: 2.3451 - val_accuracy: 0.0920\n",
      "Epoch 11/15\n",
      "352/352 [==============================] - 3s 9ms/step - loss: 2.3239 - accuracy: 0.1002 - val_loss: 2.3564 - val_accuracy: 0.1010\n",
      "Epoch 12/15\n",
      "352/352 [==============================] - 3s 9ms/step - loss: 2.3259 - accuracy: 0.0976 - val_loss: 2.3948 - val_accuracy: 0.0976\n",
      "Epoch 13/15\n",
      "352/352 [==============================] - 3s 9ms/step - loss: 2.3236 - accuracy: 0.1022 - val_loss: 2.3981 - val_accuracy: 0.0996\n",
      "Epoch 14/15\n",
      "352/352 [==============================] - 3s 9ms/step - loss: 2.3242 - accuracy: 0.0987 - val_loss: 2.3884 - val_accuracy: 0.1040\n",
      "Epoch 15/15\n",
      "352/352 [==============================] - 3s 9ms/step - loss: 2.3240 - accuracy: 0.0999 - val_loss: 2.4256 - val_accuracy: 0.1010\n"
     ]
    }
   ],
   "source": [
    "history = model.fit(X_train_scaled, Y_train,\n",
    "          batch_size=128, epochs=nb_epochs,\n",
    "          verbose=1,\n",
    "          validation_data=(X_valid_scaled, Y_valid))"
   ]
  },
  {
   "cell_type": "code",
   "execution_count": 34,
   "metadata": {},
   "outputs": [
    {
     "name": "stdout",
     "output_type": "stream",
     "text": [
      "313/313 [==============================] - 1s 2ms/step - loss: 2.4253 - accuracy: 0.1000\n"
     ]
    },
    {
     "data": {
      "text/plain": [
       "[2.425314426422119, 0.10000000149011612]"
      ]
     },
     "execution_count": 34,
     "metadata": {},
     "output_type": "execute_result"
    }
   ],
   "source": [
    "model.evaluate(X_test_scaled, Y_test)"
   ]
  },
  {
   "cell_type": "markdown",
   "metadata": {},
   "source": [
    "### 6.\n",
    "*Exercise: Retrain your model using 1cycle scheduling and see if it improves training speed and model accuracy.*"
   ]
  },
  {
   "cell_type": "code",
   "execution_count": 35,
   "metadata": {},
   "outputs": [],
   "source": [
    "# TODO"
   ]
  },
  {
   "cell_type": "code",
   "execution_count": 36,
   "metadata": {
    "scrolled": true
   },
   "outputs": [],
   "source": [
    "n_units = 100\n",
    "activ_func = 'selu'\n",
    "init = 'lecun_normal'\n",
    "learning_rate = 0.01\n",
    "optim = keras.optimizers.Nadam(learning_rate)\n",
    "nb_epochs = 10\n",
    "batch_size = 128"
   ]
  },
  {
   "cell_type": "code",
   "execution_count": 37,
   "metadata": {},
   "outputs": [],
   "source": [
    "def Model6(learning_rate=learning_rate, epochs=nb_epochs):\n",
    "    model = keras.models.Sequential()\n",
    "    \n",
    "    #model.add(layers.Input(shape=X_train.shape[1:]))\n",
    "    model.add(layers.Flatten(input_shape=X_train_scaled.shape[1:]))\n",
    "    \n",
    "    for i in range(20):\n",
    "        model.add(layers.Dense(n_units, activation=activ_func, kernel_initializer=init))\n",
    "    \n",
    "    model.add(layers.AlphaDropout(rate=0.2))\n",
    "    model.add(layers.Dense(n_classes, activation='softmax'))\n",
    "    \n",
    "    model.compile(loss='categorical_crossentropy', optimizer=optim, metrics=['accuracy'])\n",
    "    return model\n",
    "\n",
    "model = Model6()"
   ]
  },
  {
   "cell_type": "code",
   "execution_count": 38,
   "metadata": {},
   "outputs": [],
   "source": [
    "K = keras.backend\n",
    "\n",
    "class ExponentialLearningRate(keras.callbacks.Callback):\n",
    "    def __init__(self, factor):\n",
    "        self.factor = factor\n",
    "        self.rates = []\n",
    "        self.losses = []\n",
    "    def on_batch_end(self, batch, logs):\n",
    "        self.rates.append(K.get_value(self.model.optimizer.lr))\n",
    "        self.losses.append(logs[\"loss\"])\n",
    "        K.set_value(self.model.optimizer.lr, self.model.optimizer.lr * self.factor)\n",
    "\n",
    "def find_learning_rate(model, X, y, epochs=1, batch_size=32, min_rate=10**-5, max_rate=10):\n",
    "    init_weights = model.get_weights()\n",
    "    iterations = len(X) // batch_size * epochs\n",
    "    factor = np.exp(np.log(max_rate / min_rate) / iterations)\n",
    "    init_lr = K.get_value(model.optimizer.lr)\n",
    "    K.set_value(model.optimizer.lr, min_rate)\n",
    "    exp_lr = ExponentialLearningRate(factor)\n",
    "    history = model.fit(X, y, epochs=epochs, batch_size=batch_size,\n",
    "                        callbacks=[exp_lr])\n",
    "    K.set_value(model.optimizer.lr, init_lr)\n",
    "    model.set_weights(init_weights)\n",
    "    return exp_lr.rates, exp_lr.losses\n",
    "\n",
    "def plot_lr_vs_loss(rates, losses):\n",
    "    plt.plot(rates, losses)\n",
    "    plt.gca().set_xscale('log')\n",
    "    plt.hlines(min(losses), min(rates), max(rates))\n",
    "    plt.axis([min(rates), max(rates), min(losses), (losses[0] + min(losses)) / 2])\n",
    "    plt.xlabel(\"Learning rate\")\n",
    "    plt.ylabel(\"Loss\")"
   ]
  },
  {
   "cell_type": "code",
   "execution_count": 39,
   "metadata": {
    "scrolled": false
   },
   "outputs": [
    {
     "name": "stdout",
     "output_type": "stream",
     "text": [
      "352/352 [==============================] - 4s 10ms/step - loss: inf - accuracy: 0.1464                    \n"
     ]
    },
    {
     "data": {
      "image/png": "[encoded data removed]",
      "text/plain": [
       "<Figure size 432x288 with 1 Axes>"
      ]
     },
     "metadata": {
      "needs_background": "light"
     },
     "output_type": "display_data"
    }
   ],
   "source": [
    "rates, losses = find_learning_rate(model, X_train_scaled, Y_train, epochs=1, batch_size=batch_size)\n",
    "plot_lr_vs_loss(rates, losses)"
   ]
  },
  {
   "cell_type": "code",
   "execution_count": 40,
   "metadata": {},
   "outputs": [],
   "source": [
    "class OneCycleScheduler(keras.callbacks.Callback):\n",
    "    def __init__(self, iterations, max_rate, start_rate=None,\n",
    "                 last_iterations=None, last_rate=None):\n",
    "        self.iterations = iterations\n",
    "        self.max_rate = max_rate\n",
    "        self.start_rate = start_rate or max_rate / 10\n",
    "        self.last_iterations = last_iterations or iterations // 10 + 1\n",
    "        self.half_iteration = (iterations - self.last_iterations) // 2\n",
    "        self.last_rate = last_rate or self.start_rate / 1000\n",
    "        self.iteration = 0\n",
    "    def _interpolate(self, iter1, iter2, rate1, rate2):\n",
    "        return ((rate2 - rate1) * (self.iteration - iter1)\n",
    "                / (iter2 - iter1) + rate1)\n",
    "    def on_batch_begin(self, batch, logs):\n",
    "        if self.iteration < self.half_iteration:\n",
    "            rate = self._interpolate(0, self.half_iteration, self.start_rate, self.max_rate)\n",
    "        elif self.iteration < 2 * self.half_iteration:\n",
    "            rate = self._interpolate(self.half_iteration, 2 * self.half_iteration,\n",
    "                                     self.max_rate, self.start_rate)\n",
    "        else:\n",
    "            rate = self._interpolate(2 * self.half_iteration, self.iterations,\n",
    "                                     self.start_rate, self.last_rate)\n",
    "            rate = max(rate, self.last_rate)\n",
    "        self.iteration += 1\n",
    "        K.set_value(self.model.optimizer.lr, rate)"
   ]
  },
  {
   "cell_type": "code",
   "execution_count": 41,
   "metadata": {
    "scrolled": true
   },
   "outputs": [
    {
     "name": "stdout",
     "output_type": "stream",
     "text": [
      "Epoch 1/20\n",
      "352/352 [==============================] - 4s 10ms/step - loss: 2.1563 - accuracy: 0.2314 - val_loss: 1.9917 - val_accuracy: 0.3062\n",
      "Epoch 2/20\n",
      "352/352 [==============================] - 4s 10ms/step - loss: 1.9537 - accuracy: 0.2927 - val_loss: 2.0000 - val_accuracy: 0.3024\n",
      "Epoch 3/20\n",
      "352/352 [==============================] - 4s 10ms/step - loss: 1.9125 - accuracy: 0.3110 - val_loss: 1.9313 - val_accuracy: 0.3042\n",
      "Epoch 4/20\n",
      "352/352 [==============================] - 4s 10ms/step - loss: 1.8938 - accuracy: 0.3206 - val_loss: 1.9644 - val_accuracy: 0.3036\n",
      "Epoch 5/20\n",
      "352/352 [==============================] - 4s 10ms/step - loss: 1.8887 - accuracy: 0.3256 - val_loss: 1.9515 - val_accuracy: 0.3008\n",
      "Epoch 6/20\n",
      "352/352 [==============================] - 4s 10ms/step - loss: 1.8950 - accuracy: 0.3216 - val_loss: 2.0607 - val_accuracy: 0.2820\n",
      "Epoch 7/20\n",
      "352/352 [==============================] - 4s 10ms/step - loss: 1.8932 - accuracy: 0.3232 - val_loss: 1.9970 - val_accuracy: 0.2890\n",
      "Epoch 8/20\n",
      "352/352 [==============================] - 4s 10ms/step - loss: 1.8885 - accuracy: 0.3247 - val_loss: 1.9970 - val_accuracy: 0.3208\n",
      "Epoch 9/20\n",
      "352/352 [==============================] - 3s 10ms/step - loss: 1.8932 - accuracy: 0.3232 - val_loss: 1.9595 - val_accuracy: 0.2926\n",
      "Epoch 10/20\n",
      "352/352 [==============================] - 4s 10ms/step - loss: 1.8867 - accuracy: 0.3261 - val_loss: 2.0105 - val_accuracy: 0.2898\n",
      "Epoch 11/20\n",
      "352/352 [==============================] - 4s 10ms/step - loss: 1.8650 - accuracy: 0.3307 - val_loss: 1.9690 - val_accuracy: 0.2968\n",
      "Epoch 12/20\n",
      "352/352 [==============================] - 4s 10ms/step - loss: 1.8589 - accuracy: 0.3340 - val_loss: 2.2989 - val_accuracy: 0.2126\n",
      "Epoch 13/20\n",
      "352/352 [==============================] - 4s 10ms/step - loss: 1.9246 - accuracy: 0.3026 - val_loss: 1.9191 - val_accuracy: 0.3106\n",
      "Epoch 14/20\n",
      "352/352 [==============================] - 4s 10ms/step - loss: 1.8777 - accuracy: 0.3244 - val_loss: 1.9571 - val_accuracy: 0.3034\n",
      "Epoch 15/20\n",
      "352/352 [==============================] - 4s 10ms/step - loss: 1.8266 - accuracy: 0.3480 - val_loss: 1.8681 - val_accuracy: 0.3230\n",
      "Epoch 16/20\n",
      "352/352 [==============================] - 4s 10ms/step - loss: 1.7962 - accuracy: 0.3580 - val_loss: 1.8857 - val_accuracy: 0.3386\n",
      "Epoch 17/20\n",
      "352/352 [==============================] - 3s 10ms/step - loss: 1.7669 - accuracy: 0.3697 - val_loss: 1.8609 - val_accuracy: 0.3412\n",
      "Epoch 18/20\n",
      "352/352 [==============================] - 4s 10ms/step - loss: 1.7372 - accuracy: 0.3805 - val_loss: 1.8795 - val_accuracy: 0.3552\n",
      "Epoch 19/20\n",
      "352/352 [==============================] - 4s 10ms/step - loss: 1.7098 - accuracy: 0.3897 - val_loss: 1.8398 - val_accuracy: 0.3614\n",
      "Epoch 20/20\n",
      "352/352 [==============================] - 4s 10ms/step - loss: 1.6855 - accuracy: 0.3983 - val_loss: 1.8448 - val_accuracy: 0.3636\n"
     ]
    }
   ],
   "source": [
    "nb_epochs = 20\n",
    "onecycle = OneCycleScheduler(len(X_train_scaled) // batch_size * nb_epochs, max_rate=0.05)\n",
    "history = model.fit(X_train_scaled, Y_train, epochs=nb_epochs, batch_size=batch_size,\n",
    "                    validation_data=(X_valid_scaled, Y_valid),\n",
    "                    callbacks=[onecycle])"
   ]
  },
  {
   "cell_type": "code",
   "execution_count": 42,
   "metadata": {},
   "outputs": [
    {
     "name": "stdout",
     "output_type": "stream",
     "text": [
      "313/313 [==============================] - 1s 2ms/step - loss: 1.8155 - accuracy: 0.3755\n"
     ]
    },
    {
     "data": {
      "text/plain": [
       "[1.8154945373535156, 0.37549999356269836]"
      ]
     },
     "execution_count": 42,
     "metadata": {},
     "output_type": "execute_result"
    }
   ],
   "source": [
    "model.evaluate(X_test_scaled, Y_test)"
   ]
  }
 ],
 "metadata": {
  "kernelspec": {
   "display_name": "Python 3",
   "language": "python",
   "name": "python3"
  },
  "language_info": {
   "codemirror_mode": {
    "name": "ipython",
    "version": 3
   },
   "file_extension": ".py",
   "mimetype": "text/x-python",
   "name": "python",
   "nbconvert_exporter": "python",
   "pygments_lexer": "ipython3",
   "version": "3.8.3"
  }
 },
 "nbformat": 4,
 "nbformat_minor": 4
}
